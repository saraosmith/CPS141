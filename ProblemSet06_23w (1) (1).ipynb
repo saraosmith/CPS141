{
 "cells": [
  {
   "cell_type": "markdown",
   "metadata": {},
   "source": [
    "## <span style=\"color:blue\">Problem Set 6</span>"
   ]
  },
  {
   "cell_type": "raw",
   "metadata": {},
   "source": [
    "<Enter your name here>"
   ]
  },
  {
   "cell_type": "markdown",
   "metadata": {},
   "source": [
    "### Problem 1\n",
    "\n",
    "Write a while loop that does the following:\n",
    "1. Prompt the user for a number.\n",
    "2. If the number is greater than 255, terminate the loop.\n",
    "3. If the number is less than 33 or greater than 126, print an error message.\n",
    "4. Use the **`chr()`** function to convert the number to an ASCII printable character.\n",
    "5. Print the character.\n",
    "\n",
    "One possible approach is to use an `IF-ELIF-ELSE` block."
   ]
  },
  {
   "cell_type": "code",
   "execution_count": null,
   "metadata": {},
   "outputs": [],
   "source": []
  },
  {
   "cell_type": "markdown",
   "metadata": {},
   "source": [
    "<span style=\"font: courier; font-size: 13px\">\n",
    "Sample Input & Output (when the numbers 65, 31, 127, and 256 are entered consecutively):<br><br>\n",
    "&nbsp;&nbsp;&nbsp;&nbsp;Input a number: 65<br/>\n",
    "&nbsp;&nbsp;&nbsp;&nbsp;65   A<br/>\n",
    "&nbsp;&nbsp;&nbsp;&nbsp;Input a number: 31<br/>\n",
    "&nbsp;&nbsp;&nbsp;&nbsp;Error<br/>\n",
    "&nbsp;&nbsp;&nbsp;&nbsp;Input a number: 127<br/>\n",
    "&nbsp;&nbsp;&nbsp;&nbsp;Error<br/>\n",
    "&nbsp;&nbsp;&nbsp;&nbsp;Input a number: 256</span>"
   ]
  },
  {
   "cell_type": "markdown",
   "metadata": {},
   "source": [
    "### Problem 2\n",
    "\n",
    "Write code that builds a list of a user's favorites things.  The code should use a while loop to repeatedly prompt the user for a thing. If the user enters the sentinel \"None\" or \"none\", the loop should terminate and print the list."
   ]
  },
  {
   "cell_type": "code",
   "execution_count": null,
   "metadata": {},
   "outputs": [],
   "source": []
  },
  {
   "cell_type": "markdown",
   "metadata": {},
   "source": [
    "<span style=\"color:blue\">Sample Input & Output:</span><br/>\n",
    "<span style=\"font: courier; font-size: 13px\">\n",
    "    \n",
    "&nbsp;&nbsp;&nbsp;&nbsp;Input a favorite thing of yours, 'None' or 'none' to exit: books<br/>\n",
    "&nbsp;&nbsp;&nbsp;&nbsp;Input a favorite thing of yours, 'None' or 'none' to exit: Movies<br/>\n",
    "&nbsp;&nbsp;&nbsp;&nbsp;Input a favorite thing of yours, 'None' or 'none' to exit: none<br/>\n",
    "&nbsp;&nbsp;&nbsp;&nbsp;----<br/>\n",
    "&nbsp;&nbsp;&nbsp;&nbsp;['books', 'Movies']</span>"
   ]
  },
  {
   "cell_type": "markdown",
   "metadata": {},
   "source": [
    "### Problem 3\n",
    "\n",
    "Write code that calculates the largest, smallest, and average score from user-entered scores. The user should be allowed to enter integer or floating point scores.\n",
    "\n",
    "First, prompt the user to enter the number of scores they will provide.\n",
    "\n",
    "Then, using a while loop, prompt for each score, accumulate and count the scores, then determine the largest and smallest scores. After the while loop terminates, calculate the average by dividing the total of the scores by the number of scores.\n",
    "\n",
    "Print the average score, the smallest score, and largest score."
   ]
  },
  {
   "cell_type": "code",
   "execution_count": null,
   "metadata": {},
   "outputs": [],
   "source": []
  },
  {
   "cell_type": "markdown",
   "metadata": {},
   "source": [
    "<span style=\"color:blue\">Sample Input & Output:</span><br/>\n",
    "<span style=\"font: courier; font-size: 13px\">\n",
    "    \n",
    "&nbsp;&nbsp;&nbsp;&nbsp;How many scores will you enter? 5<br/>\n",
    "&nbsp;&nbsp;&nbsp;&nbsp;Add another number: 1<br/>\n",
    "&nbsp;&nbsp;&nbsp;&nbsp;Add another number: 1.5<br/>\n",
    "&nbsp;&nbsp;&nbsp;&nbsp;Add another number: 2<br/>\n",
    "&nbsp;&nbsp;&nbsp;&nbsp;Add another number: 3<br/>\n",
    "&nbsp;&nbsp;&nbsp;&nbsp;Add another number: 4.5<br/>\n",
    "&nbsp;&nbsp;&nbsp;&nbsp;----<br/>\n",
    "&nbsp;&nbsp;&nbsp;&nbsp;The average score is: 2.4<br/>\n",
    "&nbsp;&nbsp;&nbsp;&nbsp;The smallest score is: 1.0<br/>\n",
    "&nbsp;&nbsp;&nbsp;&nbsp;The largest score is: 4.5</span>"
   ]
  },
  {
   "cell_type": "markdown",
   "metadata": {},
   "source": [
    "### Problem 4\n",
    "\n",
    "Complete the **`gcf(x,y)`** function which determines the Greatest Common Factor (GCF) when given two integers. The function accepts two integer parameters (_x_ and _y_), then calculates and returns the GCF. You must employ a while loop in the function.\n",
    "\n",
    "GCF can be calculated using the [Euclidean Algorithm](https://en.wikipedia.org/wiki/Greatest_common_divisor#Euclidean_algorithm), given here:\n",
    "\n",
    "    Step 1: r = x % y\n",
    "    Step 2: x = y\n",
    "    Step 3: y = r\n",
    "    Step 4: while y is greater than 0, repeat Steps 1 through 3\n",
    "\n",
    "When the while loop is complete, x will be the GCF. The function needs to return the GCF.\n",
    "\n",
    "Each element of the `number_pairs_` list is a tuple that holds a pair of numbers. Use a for loop to iterate over the list and call **`gcf(x,y)`** for each number pair tuple."
   ]
  },
  {
   "cell_type": "code",
   "execution_count": null,
   "metadata": {},
   "outputs": [],
   "source": [
    "def gcf(x,y):\n",
    "    # implement the Euclidian Algorithm to complete this function\n",
    "    return\n",
    "\n",
    "number_pairs = [(12,24),(24,48),(17,37)]\n",
    "\n",
    "# Write your code below\n",
    "\n"
   ]
  },
  {
   "cell_type": "markdown",
   "metadata": {},
   "source": [
    "<span style=\"color:blue\">Expected Output:</span><br/>\n",
    "<span style=\"font: courier; font-size: 13px\">\n",
    "12<br/>\n",
    "24<br/>\n",
    "1</span>"
   ]
  },
  {
   "cell_type": "markdown",
   "metadata": {},
   "source": [
    "### Problem 5\n",
    "\n",
    "The dictionary `letter_values` contains each letter and its respective scrabble point value.\n",
    "\n",
    "Complete the function **`scrabbleValue(word)`** such that it returns the Scrabble score of the `word` that it receives as a parameter. The function needs to accumulate the value of each letter in the word and return sum of those values.\n",
    "\n",
    "After you've completed the function, write code that uses a while loop to prompt the user for a word. Use the sentinel \"Qq\" or \"qq\" to exit the loop.\n",
    "\n",
    "Inside the loop, call `scrabbleValue()` and pass the user-entered word as a parameter. Then, add the word and its Scrabble value as a key-value pair to a dictionary named `_word_dict_`.\n",
    "\n",
    "After the loop is terminated, print `word_dict` dictionary."
   ]
  },
  {
   "cell_type": "code",
   "execution_count": null,
   "metadata": {},
   "outputs": [],
   "source": [
    "def scrabbleValue(word):\n",
    "    # complete the function\n",
    "    return\n",
    "\n",
    "letter_values =  {'a':1, 'b':3, 'c':3, 'd':2, 'e':1, 'f':4, 'g': 2, 'h':4,\n",
    "    'i':1, 'j':8, 'k':5, 'l':1, 'm':3, 'n':1, 'o':1, 'p':3, 'q':10, 'r':1,\n",
    "    's':1, 't':1, 'u':1, 'v':8, 'w':4, 'x':8, 'y':4, 'z':10}\n",
    "\n",
    "# write your code below\n",
    "\n"
   ]
  },
  {
   "cell_type": "markdown",
   "metadata": {},
   "source": [
    "<span style=\"color:blue\">Sample Input & Output:</span><br/>\n",
    "<span style=\"font: courier; font-size: 13px\">\n",
    "\n",
    "&nbsp;&nbsp;&nbsp;&nbsp;Please input a word, enter 'Qq' or 'qq' to cancel: hEllO<br/>\n",
    "&nbsp;&nbsp;&nbsp;&nbsp;Please input a word, enter 'Qq' or 'qq' to cancel: WorLd<br/>\n",
    "&nbsp;&nbsp;&nbsp;&nbsp;Please input a word, enter 'Qq' or 'qq' to cancel: qq<br/>\n",
    "&nbsp;&nbsp;&nbsp;&nbsp;----<br/>\n",
    "&nbsp;&nbsp;&nbsp;&nbsp;{'hEllO': 8, 'WorLd': 9}</span>"
   ]
  },
  {
   "cell_type": "markdown",
   "metadata": {},
   "source": [
    "### Problem 6\n",
    "\n",
    "Alter the code from Problem 5 so that it builds a list named `word_list` instead of a dictionary. Each element in `word_list` should be a tuple containing the word and its Scrabble value.\n",
    "\n",
    "Print `word_list` after the loop terminates."
   ]
  },
  {
   "cell_type": "code",
   "execution_count": null,
   "metadata": {
    "scrolled": true
   },
   "outputs": [],
   "source": [
    "letter_values =  {'a':1, 'b':3, 'c':3, 'd':2, 'e':1, 'f':4, 'g': 2, 'h':4,\n",
    "    'i':1, 'j':8, 'k':5, 'l':1, 'm':3, 'n':1, 'o':1, 'p':3, 'q':10, 'r':1,\n",
    "    's':1, 't':1, 'u':1, 'v':8, 'w':4, 'x':8, 'y':4, 'z':10}\n",
    "\n",
    "def scrabbleValue(word):\n",
    "    # complete the function\n",
    "    return\n",
    "\n",
    "# write your code below\n",
    "            \n"
   ]
  },
  {
   "cell_type": "markdown",
   "metadata": {},
   "source": [
    "<span style=\"color:blue\">Sample Input & Output:</span><br/>\n",
    "<span style=\"font: courier; font-size: 13px\">\n",
    "    \n",
    "&nbsp;&nbsp;&nbsp;&nbsp;Please input a word, enter 'Qq' or 'qq' to cancel: Books<br/>\n",
    "&nbsp;&nbsp;&nbsp;&nbsp;Please input a word, enter 'Qq' or 'qq' to cancel: movies<br/>\n",
    "&nbsp;&nbsp;&nbsp;&nbsp;Please input a word, enter 'Qq' or 'qq' to cancel: Qq<br/>\n",
    "&nbsp;&nbsp;&nbsp;&nbsp;----<br/>\n",
    "&nbsp;&nbsp;&nbsp;&nbsp;[('Books', 11), ('movies', 15)]</span>"
   ]
  },
  {
   "cell_type": "markdown",
   "metadata": {},
   "source": [
    "### Problem 7\n",
    "\n",
    "Write code that divides each element in the `dividend` list by each element in the `divisor` list.\n",
    "\n",
    "One approach is to use nested loops. First, use a for loop to iterate over each element in `dividend`. Then, within the for loop, use a while loop to iterate over each value in `divisor`. In the while loop you could use an index to step through the `divisor` list. The while loop will terminate when the index counter exceeds the number of elements in `divisor`.\n",
    "\n",
    "In the while loop, divide the outer for loop's iterator variable by the current `divisor` element. You should employ a `try/except` block since one of `divisor`'s elements is 0. In the case where the divisor is 0 print an appropriate error message (see Expected Output) and continue traversing the loop.\n",
    "\n",
    "DO NOT hard code the number of elements in the list. You must determine that using Python code."
   ]
  },
  {
   "cell_type": "code",
   "execution_count": null,
   "metadata": {},
   "outputs": [],
   "source": [
    "dividend = [32,24,8,16]\n",
    "divisor = [2,4,0,8]\n",
    "\n",
    "# write your code below\n"
   ]
  },
  {
   "cell_type": "markdown",
   "metadata": {},
   "source": [
    "<span style=\"color:blue\">Expected Output:</span><br/>\n",
    "<span style=\"font: courier; font-size: 13px\">\n",
    "    \n",
    "Dividing 32 by 2 has a result of 16.0<br />\n",
    "Dividing 32 by 4 has a result of 8.0<br />\n",
    "Dividing 32 by 0 is undefined<br />\n",
    "Dividing 32 by 8 has a result of 4.0<br />\n",
    "Dividing 24 by 2 has a result of 12.0<br />\n",
    "Dividing 24 by 4 has a result of 6.0<br />\n",
    "Dividing 24 by 0 is undefined<br />\n",
    "Dividing 24 by 8 has a result of 3.0<br />\n",
    "Dividing 8 by 2 has a result of 4.0<br />\n",
    "Dividing 8 by 4 has a result of 2.0<br />\n",
    "Dividing 8 by 0 is undefined<br />\n",
    "Dividing 8 by 8 has a result of 1.0<br />\n",
    "Dividing 16 by 2 has a result of 8.0<br />\n",
    "Dividing 16 by 4 has a result of 4.0<br />\n",
    "Dividing 16 by 0 is undefined<br />\n",
    "Dividing 16 by 8 has a result of 2.0</span></span>"
   ]
  },
  {
   "cell_type": "markdown",
   "metadata": {},
   "source": [
    "### Problem 8\n",
    "\n",
    "Write a password generator by doing the following:\n",
    "\n",
    "1. Prompt the user to provide the length of the password.\n",
    "2. Use a while loop to iterate up to the password length.\n",
    "3. In the while loop, generate a random character within the range of ASCII printable characters.\n",
    "4. Accumulate the random character into the password string.\n",
    "5. After the loop terminates, print the newly-generated password.\n",
    "\n",
    "To retrieve a random character you will need to use the `random` module's [**random.randrange( )**](https://www.w3schools.com/python/ref_random_randrange.asp) function to generate a number between 33 and 126 (ASCII characters below 33 and above 126 are non-printable).\n",
    "\n",
    "Use the random number to retrieve a character using the built-in **`chr()`** function. Accumulate that character in the password variable, then print the password."
   ]
  },
  {
   "cell_type": "code",
   "execution_count": null,
   "metadata": {},
   "outputs": [],
   "source": [
    "import random\n",
    "\n",
    "# initialize the pseudorandom number generator\n",
    "random.seed()\n",
    "\n",
    "print(\"Password Generator\")\n",
    "#  write your code below\n"
   ]
  },
  {
   "cell_type": "markdown",
   "metadata": {},
   "source": [
    "<span style=\"color:blue\">Sample Output:</span><br/>\n",
    "<span style=\"font: courier; font-size: 13px\">\n",
    "    \n",
    "Password Generator<br/>\n",
    "How many characters will be in your password? 10<br/>\n",
    "A@4V#=pPdZ</span>"
   ]
  }
 ],
 "metadata": {
  "kernelspec": {
   "display_name": "Python 3 (ipykernel)",
   "language": "python",
   "name": "python3"
  },
  "language_info": {
   "codemirror_mode": {
    "name": "ipython",
    "version": 3
   },
   "file_extension": ".py",
   "mimetype": "text/x-python",
   "name": "python",
   "nbconvert_exporter": "python",
   "pygments_lexer": "ipython3",
   "version": "3.9.6"
  }
 },
 "nbformat": 4,
 "nbformat_minor": 2
}
