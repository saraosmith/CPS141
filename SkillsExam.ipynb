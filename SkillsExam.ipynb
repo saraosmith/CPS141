{
 "cells": [
  {
   "cell_type": "code",
   "execution_count": 23,
   "id": "56c2f0d1",
   "metadata": {},
   "outputs": [
    {
     "name": "stdout",
     "output_type": "stream",
     "text": [
      "{'it': 3, 'is': 3, 'what': 2, 'and': 1, 'only': 1}\n"
     ]
    }
   ],
   "source": [
    "s = 'it is what it is and only what it is'\n",
    "def word_freq(s):\n",
    "    word_dict = {}\n",
    "    \n",
    "    for word in s.split():\n",
    "        if word not in word_dict:\n",
    "            word_dict[word] = 0\n",
    "        word_dict[word] += 1\n",
    "        \n",
    "    return word_dict\n",
    "\n",
    "print(word_freq(s))\n"
   ]
  },
  {
   "cell_type": "code",
   "execution_count": 27,
   "id": "5e61b919",
   "metadata": {},
   "outputs": [
    {
     "name": "stdout",
     "output_type": "stream",
     "text": [
      "The correct total is 227\n"
     ]
    }
   ],
   "source": [
    "nums = [10,5,17,34,76,85]\n",
    "totNums = 0\n",
    "\n",
    "for number in nums:\n",
    "    totNums = totNums + number\n",
    "\n",
    "print(\"The correct total is\", totNums)"
   ]
  },
  {
   "cell_type": "code",
   "execution_count": 28,
   "id": "104d1cdd",
   "metadata": {},
   "outputs": [
    {
     "ename": "SyntaxError",
     "evalue": "invalid non-printable character U+00A0 (1032738395.py, line 3)",
     "output_type": "error",
     "traceback": [
      "\u001b[0;36m  File \u001b[0;32m\"/tmp/ipykernel_3223721/1032738395.py\"\u001b[0;36m, line \u001b[0;32m3\u001b[0m\n\u001b[0;31m    word_dict = {}\u001b[0m\n\u001b[0m    ^\u001b[0m\n\u001b[0;31mSyntaxError\u001b[0m\u001b[0;31m:\u001b[0m invalid non-printable character U+00A0\n"
     ]
    }
   ],
   "source": [
    "s = 'it is what it is and only what it is'\n",
    "def word_freq(s):\n",
    "    word_dict = {}\n",
    "    \n",
    "    for word in s.split():\n",
    "        if word not in word_dict:\n",
    "            word_dict[word] = 0\n",
    "        word_dict[word] += 1\n",
    "        \n",
    "    return word_dict\n",
    "\n",
    "print(word_freq(s))"
   ]
  },
  {
   "cell_type": "code",
   "execution_count": null,
   "id": "b17e42a4",
   "metadata": {},
   "outputs": [],
   "source": []
  }
 ],
 "metadata": {
  "kernelspec": {
   "display_name": "Python 3 (ipykernel)",
   "language": "python",
   "name": "python3"
  },
  "language_info": {
   "codemirror_mode": {
    "name": "ipython",
    "version": 3
   },
   "file_extension": ".py",
   "mimetype": "text/x-python",
   "name": "python",
   "nbconvert_exporter": "python",
   "pygments_lexer": "ipython3",
   "version": "3.9.6"
  }
 },
 "nbformat": 4,
 "nbformat_minor": 5
}
