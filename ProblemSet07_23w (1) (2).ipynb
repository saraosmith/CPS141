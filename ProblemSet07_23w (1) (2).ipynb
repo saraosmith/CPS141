{
 "cells": [
  {
   "cell_type": "markdown",
   "metadata": {},
   "source": [
    "## <span style=\"color:blue\">Problem Set 7</span>"
   ]
  },
  {
   "cell_type": "raw",
   "metadata": {},
   "source": [
    "<Sara Smith>"
   ]
  },
  {
   "cell_type": "markdown",
   "metadata": {},
   "source": [
    "### Problem 1\n",
    "\n",
    "In no more than two (2) lines of code, use a **mutating method** to put the elements of the `animals` list into alphabetical order, and then print the last six (6) elements of the list.\n",
    "\n",
    "Code is provided to display the list before and after it has been mutated."
   ]
  },
  {
   "cell_type": "code",
   "execution_count": 34,
   "metadata": {},
   "outputs": [
    {
     "name": "stdout",
     "output_type": "stream",
     "text": [
      "original order:\n",
      "['elephant', 'cat', 'moose', 'antelope', 'elk', 'rabbit', 'zebra', 'yak', 'salamander', 'deer', 'otter', 'minx', 'giraffe', 'goat', 'cow', 'tiger', 'bear']\n",
      "\n",
      "\n",
      "last six, alphabetical:\n",
      "['otter', 'rabbit', 'salamander', 'tiger', 'yak', 'zebra']\n",
      "\n",
      "alphabetical order:\n",
      "['antelope', 'bear', 'cat', 'cow', 'deer', 'elephant', 'elk', 'giraffe', 'goat', 'minx', 'moose', 'otter', 'rabbit', 'salamander', 'tiger', 'yak', 'zebra']\n"
     ]
    }
   ],
   "source": [
    "# do not alter this code\n",
    "animals = ['elephant', 'cat', 'moose', 'antelope', 'elk', 'rabbit', \\\n",
    "           'zebra', 'yak', 'salamander', 'deer', 'otter', 'minx', \\\n",
    "           'giraffe', 'goat', 'cow', 'tiger', 'bear']\n",
    "print(\"original order:\\n{}\\n\".format(animals))\n",
    "\n",
    "# ## place your two lines of code below this line ... #####\n",
    "\n",
    "animals.sort()\n",
    "print(\"\\nlast six, alphabetical:\\n{}\".format(animals[11:17]))\n",
    "\n",
    "# ## ... and above this line ##############################\n",
    "\n",
    "# do not alter the code below\n",
    "print(\"\\nalphabetical order:\\n{}\".format(animals))"
   ]
  },
  {
   "cell_type": "markdown",
   "metadata": {},
   "source": [
    "<span style=\"color:blue\">Expected Output:</span><br/>\n",
    "```\n",
    "original order:\n",
    "['elephant', 'cat', 'moose', 'antelope', 'elk', 'rabbit', 'zebra', 'yak', 'salamander', 'deer', 'otter', 'minx', 'giraffe', 'goat', 'cow', 'tiger', 'bear']\n",
    "\n",
    "last six, alphabetical:\n",
    "['otter', 'rabbit', 'salamander', 'tiger', 'yak', 'zebra']\n",
    "\n",
    "alphabetical order:\n",
    "['antelope', 'bear', 'cat', 'cow', 'deer', 'elephant', 'elk', 'giraffe', 'goat', 'minx', 'moose', 'otter', 'rabbit', 'salamander', 'tiger', 'yak', 'zebra']\n",
    "```"
   ]
  },
  {
   "cell_type": "markdown",
   "metadata": {},
   "source": [
    "### Problem 2\n",
    "\n",
    "In one (1) line of code, use a **non-mutating** approach to print the last six (6) alphabetical elements from the `animals` list."
   ]
  },
  {
   "cell_type": "code",
   "execution_count": 35,
   "metadata": {},
   "outputs": [
    {
     "name": "stdout",
     "output_type": "stream",
     "text": [
      "original order:['elephant', 'cat', 'moose', 'antelope', 'elk', 'rabbit', 'zebra', 'yak', 'salamander', 'deer', 'otter', 'minx', 'giraffe', 'goat', 'cow', 'tiger', 'bear']\n",
      "\n",
      "last six, alphabetical: ['otter', 'rabbit', 'salamander', 'tiger', 'yak', 'zebra']\n",
      "\n",
      "original order:['elephant', 'cat', 'moose', 'antelope', 'elk', 'rabbit', 'zebra', 'yak', 'salamander', 'deer', 'otter', 'minx', 'giraffe', 'goat', 'cow', 'tiger', 'bear']\n"
     ]
    }
   ],
   "source": [
    "# do not alter this code\n",
    "animals = ['elephant', 'cat', 'moose', 'antelope', 'elk', 'rabbit', \\\n",
    "           'zebra', 'yak', 'salamander', 'deer', 'otter', 'minx', \\\n",
    "           'giraffe', 'goat', 'cow', 'tiger', 'bear']\n",
    "print(\"original order:{}\\n\".format(animals))\n",
    "\n",
    "# ## place your one line of code below this line ... #####\n",
    "\n",
    "print(\"last six, alphabetical:\", sorted(animals)[11:17])\n",
    "\n",
    "# ## ... and above this line #############################\n",
    "\n",
    "# do not alter the code below\n",
    "print(\"\\noriginal order:{}\".format(animals))"
   ]
  },
  {
   "cell_type": "markdown",
   "metadata": {},
   "source": [
    "<span style=\"color:blue\">Expected Output:</span><br/>\n",
    "```\n",
    "original order:  ['elephant', 'cat', 'moose', 'antelope', 'elk', 'rabbit', 'zebra', 'yak', 'salamander', 'deer', 'otter', 'minx', 'giraffe', 'goat', 'cow', 'tiger', 'bear'] \n",
    "\n",
    "last six, alphabetical: ['otter', 'rabbit', 'salamander', 'tiger', 'yak', 'zebra']\n",
    "\n",
    "original order:  ['elephant', 'cat', 'moose', 'antelope', 'elk', 'rabbit', 'zebra', 'yak', 'salamander', 'deer', 'otter', 'minx', 'giraffe', 'goat', 'cow', 'tiger', 'bear']\n",
    " ```"
   ]
  },
  {
   "cell_type": "markdown",
   "metadata": {},
   "source": [
    "### Problem 3\n",
    "\n",
    "Write a for loop that iterates over `numList` and uses a **lambda** function to compute the square of each element. Print each element and its squared value with each iteration."
   ]
  },
  {
   "cell_type": "code",
   "execution_count": 36,
   "metadata": {},
   "outputs": [
    {
     "name": "stdout",
     "output_type": "stream",
     "text": [
      "The number is 1 and its square is 1\n",
      "The number is 2 and its square is 4\n",
      "The number is 3 and its square is 9\n"
     ]
    }
   ],
   "source": [
    "numList = [1,2,3]\n",
    "# write your code below\n",
    "sqr = 1\n",
    "for i in range(len(numList)):\n",
    "    sqr = numList[i]**2\n",
    "    print (\"The number is\", numList[i], \"and its square is\",sqr)"
   ]
  },
  {
   "cell_type": "markdown",
   "metadata": {},
   "source": [
    "<span style=\"color:blue\">Expected Output:</span><br/>\n",
    "<span style=\"font: courier; font-size: 13px\">\n",
    "The number is 1 and its square is 1<br />\n",
    "The number is 2 and its square is 4<br />\n",
    "The number is 3 and its square is 9<br /></span>"
   ]
  },
  {
   "cell_type": "markdown",
   "metadata": {},
   "source": [
    "### Problem 4\n",
    "\n",
    "Sort `numList` based on the [absolute value](https://en.wikipedia.org/wiki/Absolute_value) of each element..\n",
    "\n",
    "Pass the list and a lambda function as parameters to the built-in **`sorted()`** function. Use the lambda function to return the absolute value for each list element, and use the built-in **`abs()`** function to get the absolute value."
   ]
  },
  {
   "cell_type": "code",
   "execution_count": 38,
   "metadata": {},
   "outputs": [
    {
     "name": "stdout",
     "output_type": "stream",
     "text": [
      "[1, -2, 3, 4, -7]\n"
     ]
    }
   ],
   "source": [
    "numList = [1, -7, 4, -2, 3]\n",
    "# write your code below\n",
    "\n",
    "newList = []\n",
    "newList = sorted(numList, key = lambda a: abs(a))\n",
    "print(newList)"
   ]
  },
  {
   "cell_type": "markdown",
   "metadata": {},
   "source": [
    "<span style=\"color:blue\">Expected Output:</span><br/>\n",
    "<span style=\"font: courier; font-size: 13px\">\n",
    "[1, -2, 3, 4, -7]</span>"
   ]
  },
  {
   "cell_type": "markdown",
   "metadata": {},
   "source": [
    "### Problem 5\n",
    "\n",
    "The `states` dictionary uses state name for keys, and values are the respective state population. Sort `states` on population and print the three highest-population states as well as the three lowest-population states."
   ]
  },
  {
   "cell_type": "code",
   "execution_count": 39,
   "metadata": {},
   "outputs": [
    {
     "name": "stdout",
     "output_type": "stream",
     "text": [
      "Three lowest population states:  ['Wyoming', 'Vermont', 'District of Columbia']\n",
      "Three highest population states:  ['California', 'Texas', 'Florida']\n"
     ]
    }
   ],
   "source": [
    "states = {'Maine': 1335907, 'District of Columbia': 693972, 'Louisiana': 4684333, \n",
    "          'Tennessee': 6715984, 'New Jersey': 9005644, 'Arizona': 7016270, \n",
    "          'Alaska': 739795, 'South Dakota': 869666, 'Michigan': 9962311, \n",
    "          'Oregon': 4142776, 'Wyoming': 579315, 'Washington': 7405743, \n",
    "          'Florida': 20984400, 'Alabama': 4874747, 'Puerto Rico': 3337177, \n",
    "          'Montana': 1050493, 'Hawaii': 1427538, 'Mississippi': 2984100, \n",
    "          'Utah': 3101833, 'North Carolina': 10273419, 'Pennsylvania': 12805537, \n",
    "          'Massachusetts': 6859819, 'Idaho': 1716943, 'South Carolina': 5024369, \n",
    "          'North Dakota': 755393, 'Maryland': 6052177, 'New York': 19849399, \n",
    "          'Kansas': 2913123, 'Delaware': 961939, 'Nevada': 2998039, \n",
    "          'Minnesota': 5576606, 'Colorado': 5607154, 'New Hampshire': 1342795, \n",
    "          'Vermont': 623657, 'Wisconsin': 5795483, 'Missouri': 6113532, \n",
    "          'California': 39536653, 'Nebraska': 1920076, 'Georgia': 10429379, \n",
    "          'Iowa': 3145711, 'New Mexico': 2088070, 'Connecticut': 3588184, \n",
    "          'West Virginia': 1815857, 'Virginia': 8470020, 'Oklahoma': 3930864, \n",
    "          'Texas': 28304596, 'Illinois': 12802023, 'Rhode Island': 1059639, \n",
    "          'Ohio': 11658609, 'Indiana': 6666818, 'Kentucky': 4454189, 'Arkansas': 3004279}\n",
    "# write your code below\n",
    "sorted_states = sorted(states.items(), key=lambda x: x[1])\n",
    "states_dict = dict(sorted_states)\n",
    "\n",
    "states_list = list(states_dict)\n",
    "\n",
    "lowest = [states_list[0], states_list[1], states_list[2]]\n",
    "\n",
    "highest = [states_list[-1], states_list[-2], states_list[-3]]\n",
    "\n",
    "print('Three lowest population states: ', lowest)\n",
    "print('Three highest population states: ', highest)"
   ]
  },
  {
   "cell_type": "markdown",
   "metadata": {},
   "source": [
    "<span style=\"color:blue\">Expected Output:</span><br/>\n",
    "<span style=\"font: courier; font-size: 13px\">\n",
    "Three lowest population states: ['Wyoming', 'Vermont', 'District of Columbia']<br />\n",
    "Three highest population states: ['California', 'Texas', 'Florida']</span>"
   ]
  },
  {
   "cell_type": "markdown",
   "metadata": {},
   "source": [
    "### Problem 6\n",
    "\n",
    "The `confections` dictionary's key-value pairs are candy name and price, respectively.\n",
    "\n",
    "Use the built-in **`sorted()`** function, the **`.items()`** method, a **lambda function**, and **slice notation**, to make a list of tuples that contains the the 2nd, 3rd, and 4th most expensive confections. Assign this list to the variable `c234`.\n",
    "\n",
    "It is possible to do this with one line of code, though it is not required."
   ]
  },
  {
   "cell_type": "code",
   "execution_count": 40,
   "metadata": {},
   "outputs": [
    {
     "name": "stdout",
     "output_type": "stream",
     "text": [
      "2nd, 3rd, 4th most expensive confections:\n",
      " [('Coffee Crisp', 1.99), ('Big Turk', 1.89), ('Crispy Crunch', 1.79)]\n"
     ]
    }
   ],
   "source": [
    "confections = {'Coffee Crisp': 1.99, 'Eat-More': 1.59, \n",
    "               'Rockets': 0.55, 'Glosettes': 0.75, \n",
    "               'Wunderbar': 2.29, 'Big Turk': 1.89, \n",
    "               'Crispy Crunch': 1.79, 'Smarties': 0.95}\n",
    "\n",
    "# write your code here\n",
    "c234 = sorted(confections.items(), key = lambda x: x[1], reverse = True)[1:4]\n",
    "\n",
    "# DO NOT change the code below\n",
    "print(\"2nd, 3rd, 4th most expensive confections:\\n\", c234)"
   ]
  },
  {
   "cell_type": "markdown",
   "metadata": {},
   "source": [
    "Expected Output:\n",
    "```\n",
    "2nd, 3rd, 4th most expensive confections:\n",
    " [('Coffee Crisp', 1.99), ('Big Turk', 1.89), ('Crispy Crunch', 1.79)]\n",
    "```"
   ]
  },
  {
   "cell_type": "markdown",
   "metadata": {},
   "source": [
    "### Problem 7\n",
    "\n",
    "Using the same `confections` dictionary from the previous problem, complete the **`lessThan()`** function.\n",
    "\n",
    "`lessThan()` accepts the parameters `priceDict` (a dictionary) and `amtMoney` (a floating point number) and returns a list of confections that are less than `amtMoney`.\n",
    "\n",
    "Use a lambda function in `lessThan()` to determine which confections are less than `amtMoney`.\n",
    "\n",
    "You may need to employ multiple lambda functions. The order of the returned list may be different than the \"Expected Output\", as long as the same elements are captured in the list."
   ]
  },
  {
   "cell_type": "code",
   "execution_count": 41,
   "metadata": {},
   "outputs": [
    {
     "name": "stdout",
     "output_type": "stream",
     "text": [
      "Confections that cost lessThan $1.55 :\n",
      " ['Rockets', 'Glosettes', 'Smarties']\n"
     ]
    }
   ],
   "source": [
    "def lessThan(priceDict, amtMoney=0):\n",
    "    # complete the function\n",
    "    confectionsList = map(lambda x: x[0], (filter(lambda x: x[1] < amtMoney, priceDict.items())))\n",
    "    return list(confectionsList)\n",
    "\n",
    "# DO NOT change the code below\n",
    "amt = 1.55\n",
    "confectionsList = lessThan(confections,amtMoney=amt)\n",
    "print(\"Confections that cost lessThan ${} {} {}\".format(amt ,\":\\n\", confectionsList))"
   ]
  },
  {
   "cell_type": "markdown",
   "metadata": {},
   "source": [
    "Expected Output:\n",
    "```\n",
    "Confections that cost lessThan $ 1.55 :\n",
    " ['Rockets', 'Glosettes', 'Smarties']\n",
    "```"
   ]
  },
  {
   "cell_type": "markdown",
   "metadata": {},
   "source": [
    "### Problem 8\n",
    "\n",
    "This is a variation of a problem from Problem Set 6. The `letter_values` dictionary maps each letter to its scrabble point value.\n",
    "\n",
    "1. Complete the **`scrabbleValue()`** function such that it returns the Scrabble score of the word that it accepts as a parameter. In this function you need to accumulate the value of each of `word`'s letters.\n",
    "\n",
    "2. Complete the **`bestScrabbleWords()`** function such that it returns a list of words that are sorted from highest to lowest score. The function's parameters are `words` (a list) and `howMany` (an integer). `howMany` determines the number of words that will be returned. You must use the built-in `sorted()` function and assign the key parameter to a lambda function to sort the list.\n",
    "\n",
    "Using these functions, you must retrieve a list of the **five** (5) highest-scoring words from the `scrabbleWords` list. Display the list as shown in Expected Output."
   ]
  },
  {
   "cell_type": "code",
   "execution_count": 42,
   "metadata": {},
   "outputs": [
    {
     "name": "stdout",
     "output_type": "stream",
     "text": [
      "['syntax', 'python', 'program', 'unix', 'hours']\n"
     ]
    }
   ],
   "source": [
    "def scrabbleValue(word):\n",
    "    letter_values =  {'a':1, 'b':3, 'c':3, 'd':2, 'e':1, 'f':4, 'g': 2, 'h':4,\n",
    "    'i':1, 'j':8, 'k':5, 'l':1, 'm':3, 'n':1, 'o':1, 'p':3, 'q':10, 'r':1,\n",
    "    's':1, 't':1, 'u':1, 'v':8, 'w':4, 'x':8, 'y':4, 'z':10}\n",
    "    # complete the function\n",
    "    score = 0\n",
    "    for cha in word.lower():\n",
    "        score += letter_values[cha]\n",
    "    return score\n",
    "\n",
    "def bestScrabbleWords(words, howMany=3):\n",
    "    # complete the function\n",
    "    sortedWords = sorted(words, key=lambda word: scrabbleValue(word), reverse=True)\n",
    "    return sortedWords[:howMany]\n",
    "\n",
    "scrabbleWords = ['python', 'program', 'list', 'string', 'unix', 'hours', 'syntax', 'error']\n",
    "\n",
    "# write your code below\n",
    "bestWords = bestScrabbleWords(scrabbleWords, 5)\n",
    "print(bestWords)"
   ]
  },
  {
   "cell_type": "markdown",
   "metadata": {},
   "source": [
    "<span style=\"color:blue\">Expected Output:</span><br/>\n",
    "<span style=\"font: courier; font-size: 13px\">\n",
    "['syntax', 'python', 'program', 'unix', 'hours']</span>"
   ]
  },
  {
   "cell_type": "code",
   "execution_count": null,
   "metadata": {},
   "outputs": [],
   "source": []
  },
  {
   "cell_type": "code",
   "execution_count": null,
   "metadata": {},
   "outputs": [],
   "source": []
  }
 ],
 "metadata": {
  "kernelspec": {
   "display_name": "Python 3 (ipykernel)",
   "language": "python",
   "name": "python3"
  },
  "language_info": {
   "codemirror_mode": {
    "name": "ipython",
    "version": 3
   },
   "file_extension": ".py",
   "mimetype": "text/x-python",
   "name": "python",
   "nbconvert_exporter": "python",
   "pygments_lexer": "ipython3",
   "version": "3.9.6"
  }
 },
 "nbformat": 4,
 "nbformat_minor": 4
}
