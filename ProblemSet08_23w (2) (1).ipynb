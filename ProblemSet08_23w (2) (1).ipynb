{
 "cells": [
  {
   "cell_type": "markdown",
   "metadata": {},
   "source": [
    "## <span style=\"color:blue\">Problem Set 8</span>"
   ]
  },
  {
   "cell_type": "raw",
   "metadata": {},
   "source": [
    "<Enter your name here>"
   ]
  },
  {
   "cell_type": "markdown",
   "metadata": {},
   "source": [
    "### <span style=\"color:red\">Import Modules</span>\n",
    "Before starting the assignment, run the cell below to import modules and read the data file. If you clear your kernel you will need to re-run this cell."
   ]
  },
  {
   "cell_type": "code",
   "execution_count": null,
   "metadata": {},
   "outputs": [],
   "source": [
    "import csv, json, random\n",
    "from vincenty import latLngDistanceMeters"
   ]
  },
  {
   "cell_type": "markdown",
   "metadata": {},
   "source": [
    "---"
   ]
  },
  {
   "cell_type": "markdown",
   "metadata": {},
   "source": [
    "### <span style=\"color:red\">umich_buildings.json</span>\n",
    "The following questions will use the `umich_buildings.json` data file. Run the cell below to make data from the file available."
   ]
  },
  {
   "cell_type": "code",
   "execution_count": null,
   "metadata": {},
   "outputs": [],
   "source": [
    "fh = open('umich_buildings.json','r')\n",
    "umich_buildings_str = fh.read()\n",
    "umich_buildings = json.loads(umich_buildings_str)\n",
    "fh.close()"
   ]
  },
  {
   "cell_type": "markdown",
   "metadata": {},
   "source": [
    "The cell above creates the object `umich_buildings`, which is a list of dictionaries.\n",
    "\n",
    "Each dictionary has the following keys:\n",
    "\n",
    "| Key | Description |\n",
    "| :--- | :----------------------------------- |\n",
    "| address | street address |\n",
    "| id | abbreviated building name |\n",
    "| lat | geographic latitude |\n",
    "| lng | geographic longitude |\n",
    "| name | complete building name |\n",
    "\n",
    "<br>This is an example of an item (i.e. a dictionary) from the `umich_buildings` list:\n",
    "```\n",
    "{'address': '1201 South Main Street Ann Arbor, MI 48104-3722', 'id': 'stadm', 'lat': 42.265071, 'lng': -83.748662, 'name': 'Michigan Stadium'}\n",
    "```"
   ]
  },
  {
   "cell_type": "markdown",
   "metadata": {},
   "source": [
    "### Problem 1\n",
    "\n",
    "Write the function **`buildingLatLong()`** such that it checks if the parameter `building_id` matches the `id` key of one of the dictionaries in `umich_buildings`. If a match is found the function will return a tuple that contains `(name, lat, lng)` for the matching building, and will return **[None](https://www.w3schools.com/python/ref_keyword_none.asp)** if a match is not found.\n",
    "\n",
    "Outside of the function, write code that iterates over `bldgs` and generates output that matches \"Expected Output\" below."
   ]
  },
  {
   "cell_type": "code",
   "execution_count": null,
   "metadata": {},
   "outputs": [],
   "source": [
    "bldgs = ['ccrb','aep','taubl','unknown','nq','stadm']\n",
    "\n",
    "def buildingLatLong(building_id):\n",
    "    # complete the function\n",
    "    return\n",
    "\n",
    "# write your code below\n"
   ]
  },
  {
   "cell_type": "markdown",
   "metadata": {},
   "source": [
    "<span style=\"color:blue\">Expected Output:</span><br/>\n",
    "<span style=\"font: courier; font-size: 13px\">\n",
    "('Central Campus Recreation Building', 42.278866, -83.732666)<br/>\n",
    "('Aerospace Engineering Lab Plasma Research', 42.293342, -83.710823)<br/>\n",
    "('Alfred A Taubman Health Sciences Library', 42.28358, -83.734543)<br/>\n",
    "None<br/>\n",
    "('North Quadrangle', 42.280477, -83.740131)<br/>\n",
    "('Michigan Stadium', 42.265071, -83.748662</span>"
   ]
  },
  {
   "cell_type": "markdown",
   "metadata": {},
   "source": [
    "### Problem 2\n",
    "\n",
    "**[\"Vincenty's formulae are two related iterative methods used in geodesy to calculate the distance between two points on the surface of a spheroid, developed by Thaddeus Vincenty\"](https://en.wikipedia.org/wiki/Vincenty%27s_formulae)**\n",
    "\n",
    "The **vincenty.py** module (imported in the first cell) provides the `latLngDistanceMeters()` function, which accepts two tuples as parameters (i.e. the latitude and longitude for a point), and returns the linear distance between those points in meters.\n",
    "\n",
    "This is the syntax for the function (try it!):\n",
    "\n",
    "```\n",
    "latLngDistanceMeters( (42.3584, -71.0912), (42.278, -83.7382) )\n",
    "```\n",
    "\n",
    "In the cell below, complete the function **`buildingDistance()`** such that it accepts two building IDs and returns the linear distance between the two buildings.\n",
    "\n",
    "Then, outside of the function, write code that iterates over the `bldgs` list, calls `buildingDistance()` for each tuple in the list, and prints the distance as shown in \"Expected Output\"."
   ]
  },
  {
   "cell_type": "code",
   "execution_count": null,
   "metadata": {},
   "outputs": [],
   "source": [
    "bldgs = [('ccrb','aep'),('taubl','nq')]\n",
    "\n",
    "def buildingDistance(bid_1, bid_2):\n",
    "    # complete the function\n",
    "    return\n",
    "\n",
    "# write your code below\n"
   ]
  },
  {
   "cell_type": "markdown",
   "metadata": {},
   "source": [
    "<span style=\"color:blue\">Expected Output:</span><br/>\n",
    "<span style=\"font: courier; font-size: 13px\">\n",
    "The distance between CCRB and AEP buildings is 2414.80 meters<br />\n",
    "The distance between TAUBL and NQ buildings is 575.54 meters </span>"
   ]
  },
  {
   "cell_type": "markdown",
   "metadata": {},
   "source": [
    "### Problem 3\n",
    "\n",
    "Write code that iterates over `umich_buildings`, finds the distance between each building and the **North Quadrangle**, then writes the results to a *CSV* file named _**north_quad_distance.csv**_. \n",
    "\n",
    "The file will have two columns: The first column will be the building's name, and the second column will be the linear distance between the building and North Quad (`\"id\": \"nq\"` in JSON file).\n",
    "\n",
    "The header row (i.e. first row) identifies the column names. Column 1 will be \"Name\" and column 2 will be \"Distance from North Quad\". There should be one subsequent row for each building (including North Quadrangle, which should be zero meters away from itself). Round the distance to two decimal places.\n",
    "\n",
    "Check your work by inspecting the .csv file in a text editor, then open it in a spreadsheet program like Excel or Google Sheets. In the text editor, strings should be quoted as shown in the example below. To achieve this, one approach is to use the optional parameters from the **[`csv.writer()`](https://docs.python.org/3/library/csv.html)** function."
   ]
  },
  {
   "cell_type": "code",
   "execution_count": null,
   "metadata": {},
   "outputs": [],
   "source": [
    "# write your code below\n"
   ]
  },
  {
   "cell_type": "markdown",
   "metadata": {},
   "source": [
    "In a text editor, the first lines of your CSV file should be similar to this:  \n",
    "```\n",
    "\"Name\",\"Distance from North Quad\"\n",
    "\"1000 Victors Way\",4674.37\n",
    "\"1032 Greene Building\",1498.65\n",
    "\"523 South Division Building\",639.58\n",
    "\"Administrative Services Building\",1410.47\n",
    "```\n",
    "(In a spreadsheet program the quotation marks may not be displayed)"
   ]
  },
  {
   "cell_type": "markdown",
   "metadata": {},
   "source": [
    "---\n",
    "### Run the cell below before attempting Problem 4"
   ]
  },
  {
   "cell_type": "code",
   "execution_count": 14,
   "metadata": {},
   "outputs": [],
   "source": [
    "import csv, json, random  # JIC you've Restared & Cleared your kernel\n",
    "baby_file = open('us-common-baby-names.csv','r')\n",
    "baby_reader = csv.DictReader(baby_file)\n",
    "baby_names = list(baby_reader) # turn the reader object into a proper list\n",
    "baby_file.close()\n",
    "random.shuffle(baby_names)"
   ]
  },
  {
   "cell_type": "markdown",
   "metadata": {},
   "source": [
    "### Problem 4\n",
    "\n",
    "Each item in the list `baby_names` (which was generated in the cell above from the `us-common-baby-names.csv` file) is a dictionary. Here's an example of an item from that list:\n",
    "\n",
    "```\n",
    "{'year': '1979', 'name': 'Leah', 'percent': '0.001786', 'sex': 'girl'}\n",
    "```\n",
    "             \n",
    "The `percent` key holds a value which represents the percentage of babies born that year who were given the name found in the value of the `name` key.\n",
    "\n",
    "In the cell below, complete the function **`findMostPopularName()`** such that it accepts the parameter `year` and returns the most popular name for that year along with the associated percent. The most popular name will be the one with the largest percentage for the specified `year`. The function will need to subset the `baby_names` list for the specified year, then determine the maximum `percent` for that year.\n",
    "\n",
    "Outside of the function, write code that iterates over the `years` list and prints the most popular name for each year as shown in \"Expected Output\". Be sure to round percent to two decimal places."
   ]
  },
  {
   "cell_type": "code",
   "execution_count": 23,
   "metadata": {},
   "outputs": [
    {
     "name": "stdout",
     "output_type": "stream",
     "text": [
      "Most popular name in 1900 is John with 6.06 percent\n",
      "Most popular name in 1925 is Mary with 5.59 percent\n",
      "Most popular name in 1950 is James with 4.73 percent\n",
      "Most popular name in 1975 is Michael with 4.22 percent\n",
      "Most popular name in 2000 is Jacob with 1.65 percent\n"
     ]
    }
   ],
   "source": [
    "years = ['1900', '1925', '1950', '1975', '2000'] \n",
    "\n",
    "\n",
    "\n",
    "def findMostPopularName(baby_names, year):\n",
    "    maxper = -1 \n",
    "    for i in range(len(baby_names)): \n",
    "        \n",
    "        if baby_names[i]['year'] == year and maxper == -1: \n",
    "            maxper = i \n",
    "         \n",
    "        if baby_names[i]['year'] == year and float(baby_names[i]['percent']) > float(baby_names[maxper]['percent']): \n",
    "            maxper = i \n",
    "    return baby_names[maxper]['name'], baby_names[maxper]['percent']  \n",
    "     \n",
    "for year in years: \n",
    "    n, p = findMostPopularName(baby_names, year) \n",
    "    print(\"Most popular name in \" + year + \" is \" + n + \" with \" + str(round(float(p)*100, 2)) + \" percent\") \n",
    "\n",
    "# write your code below\n"
   ]
  },
  {
   "cell_type": "markdown",
   "metadata": {},
   "source": [
    "<span style=\"color:blue\">Expected Output:</span><br/>\n",
    "<span style=\"font: courier; font-size: 13px\">\n",
    "Most popular name in 1900 is John at 6.06%<br/>\n",
    "Most popular name in 1925 is Mary at 5.59%<br/>\n",
    "Most popular name in 1950 is James at 4.73%<br/>\n",
    "Most popular name in 1975 is Michael at 4.22%<br/>\n",
    "Most popular name in 2000 is Jacob at 1.65%</span>"
   ]
  },
  {
   "cell_type": "markdown",
   "metadata": {},
   "source": [
    "---\n",
    "# Nested Data and Nested Iteration\n",
    "Many web services return information in JSON format. Below is sample of JSON-formatted data returned by the Facebook API. In upcoming learning units you will be working with more complex nested data. The following problems serve as a warmup for future materials.\n",
    "\n",
    "Run the cell below before proceeding to the problems that follow.\n",
    "\n",
    "You may want to familiarize yourself with the data structure by examining it with https://jsoneditoronline.org/. Copy everyting after `fb_data = ` and paste it in the online editor."
   ]
  },
  {
   "cell_type": "code",
   "execution_count": null,
   "metadata": {},
   "outputs": [],
   "source": [
    "fb_data = {\n",
    " \"data\": [\n",
    "  {\n",
    "    \"msg_id\": \"2253324325325123432madeup\", \n",
    "    \"from\": {\n",
    "      \"id\": \"23243152523425madeup\", \n",
    "      \"name\": \"Jane Smith\"\n",
    "    }, \n",
    "    \"to\": {\n",
    "      \"data\": [\n",
    "        {\n",
    "          \"name\": \"Nested Data Problems\", \n",
    "          \"id\": \"432542543635453245madeup\"\n",
    "        }\n",
    "      ]\n",
    "    }, \n",
    "    \"message\": \"Practice your nested data parsing skills!!\", \n",
    "    \"type\": \"status\", \n",
    "    \"created_time\": \"2014-10-03T02:07:19+0000\", \n",
    "    \"updated_time\": \"2023-10-03T02:07:19+0000\"\n",
    "  }, \n",
    " \n",
    "  {\n",
    "    \"msg_id\": \"2359739457974250975madeup\", \n",
    "    \"from\": {\n",
    "      \"id\": \"4363684063madeup\", \n",
    "      \"name\": \"John Smythe\"\n",
    "    }, \n",
    "    \"to\": {\n",
    "      \"data\": [\n",
    "        {\n",
    "          \"name\": \"Instant Pot Community\", \n",
    "          \"id\": \"432542543635453245madeup\"\n",
    "        }\n",
    "      ]\n",
    "    }, \n",
    "    \"message\": \"Prepare meals faster.\", \n",
    "    \"type\": \"status\", \n",
    "    \"created_time\": \"2014-10-02T20:12:28+0000\", \n",
    "    \"updated_time\": \"2014-12-02T20:12:28+0000\"\n",
    "  }]\n",
    "}"
   ]
  },
  {
   "cell_type": "markdown",
   "metadata": {},
   "source": [
    "### Problem 5\n",
    "\n",
    "For the first message, extract the values from `msg_id` and `message` into variables named `msg_id` and `first_message`, respectively. Print each variable."
   ]
  },
  {
   "cell_type": "code",
   "execution_count": null,
   "metadata": {},
   "outputs": [],
   "source": []
  },
  {
   "cell_type": "markdown",
   "metadata": {},
   "source": [
    "<span style=\"color:blue\">Expected Output:</span><br/>\n",
    "<span style=\"font: courier; font-size: 13px\">\n",
    "msg_id: 2253324325325123432madeup<br/>\n",
    "text: Practice your nested data parsing skills!!</span>"
   ]
  },
  {
   "cell_type": "markdown",
   "metadata": {},
   "source": [
    "### Problem 6\n",
    "\n",
    "Extract the name of the author of the second post into a variable called `second_name`. Print `second_name`."
   ]
  },
  {
   "cell_type": "code",
   "execution_count": null,
   "metadata": {},
   "outputs": [],
   "source": []
  },
  {
   "cell_type": "markdown",
   "metadata": {},
   "source": [
    "<span style=\"color:blue\">Expected Output:</span><br/>\n",
    "<span style=\"font: courier; font-size: 13px\">\n",
    "John Smythe</span>"
   ]
  },
  {
   "cell_type": "markdown",
   "metadata": {},
   "source": [
    "### Problem 7\n",
    "\n",
    "Write code that retrieves the sender's name and id for each message in `fb_data` and uses it to construct a dictionary as shown in the Expected Output below."
   ]
  },
  {
   "cell_type": "code",
   "execution_count": null,
   "metadata": {},
   "outputs": [],
   "source": []
  },
  {
   "cell_type": "markdown",
   "metadata": {},
   "source": [
    "<span style=\"color:blue\">Expected Output:</span><br/>\n",
    "<span style=\"font: courier; font-size: 13px\">\n",
    "{'Jane Smith': '23243152523425madeup', 'John Smythe': '4363684063madeup'}</span>"
   ]
  },
  {
   "cell_type": "markdown",
   "metadata": {},
   "source": [
    "### Problem 8\n",
    "\n",
    "Write a function called **`fmtMsg()`** that accepts `m` as its only parameter. `m` is a dictionary that represents a single message (i.e. all associated attributes) as defined by the structure of `fb_data`. The function will generate neatly-formatted output and does not return an object.\n",
    "\n",
    "After the function, write code to itererate through the messages in `fb_data` and use `fmtMsg()` to output the results as shown in \"Expected Output\"."
   ]
  },
  {
   "cell_type": "code",
   "execution_count": null,
   "metadata": {},
   "outputs": [],
   "source": [
    "def fmtMsg(m):\n",
    "    # complete the function here\n",
    "    return None\n",
    "\n",
    "# write your iteration code here\n"
   ]
  },
  {
   "cell_type": "markdown",
   "metadata": {},
   "source": [
    "<span style=\"color:blue\">Expected Output:</span><br/>\n",
    "```\n",
    "         msg_id : 2253324325325123432madeup\n",
    "         sender : Jane Smith\n",
    "             to : Nested Data Problems\n",
    "  msg created @ : 2014-10-03T02:07:19+0000\n",
    "  msg updated @ : 2023-10-03T02:07:19+0000\n",
    "   message text : Practice your nested data parsing skills!!\n",
    "         ------ : ------\n",
    "         msg_id : 2359739457974250975madeup\n",
    "         sender : John Smythe\n",
    "             to : Instant Pot Community\n",
    "  msg created @ : 2014-10-02T20:12:28+0000\n",
    "  msg updated @ : 2014-12-02T20:12:28+0000\n",
    "   message text : Prepare meals faster.\n",
    "         ------ : ------\n",
    "```"
   ]
  }
 ],
 "metadata": {
  "kernelspec": {
   "display_name": "Python 3 (ipykernel)",
   "language": "python",
   "name": "python3"
  },
  "language_info": {
   "codemirror_mode": {
    "name": "ipython",
    "version": 3
   },
   "file_extension": ".py",
   "mimetype": "text/x-python",
   "name": "python",
   "nbconvert_exporter": "python",
   "pygments_lexer": "ipython3",
   "version": "3.9.6"
  }
 },
 "nbformat": 4,
 "nbformat_minor": 2
}
