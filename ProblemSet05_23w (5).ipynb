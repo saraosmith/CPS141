{
 "cells": [
  {
   "cell_type": "markdown",
   "metadata": {},
   "source": [
    "## <span style=\"color:blue\">Problem Set 5</span>"
   ]
  },
  {
   "cell_type": "raw",
   "metadata": {},
   "source": [
    "<Sara Smith>"
   ]
  },
  {
   "cell_type": "markdown",
   "metadata": {},
   "source": [
    "**Note:**   \n",
    "1. You need to use code to arrive at a solution.  Hardcoding a solution results in 0 points for the problem.\n",
    "2. **Use only syntax covered in the Units so far.**  Using any other syntax results in 0 points for the problem."
   ]
  },
  {
   "cell_type": "markdown",
   "metadata": {},
   "source": [
    "### Problem 1\n",
    "The cell below provides the definition for the **`isFactor()`** function, which accepts two parameters: _`num1`_ and _`num2`_. Complete the code for `isFactor()` such that it does the following:\n",
    "\n",
    "If the remainder of _num1_ divided by _num2_ is 0, the function will return `True`. Otherwise, it will return `False`. Your output should match the Expected Output."
   ]
  },
  {
   "cell_type": "code",
   "execution_count": 73,
   "metadata": {},
   "outputs": [
    {
     "name": "stdout",
     "output_type": "stream",
     "text": [
      "2 is a factor of 20\n",
      "3 is not a factor of 20\n",
      "4 is a factor of 20\n",
      "5 is a factor of 20\n",
      "6 is not a factor of 20\n",
      "7 is not a factor of 20\n",
      "8 is not a factor of 20\n",
      "9 is not a factor of 20\n",
      "10 is a factor of 20\n"
     ]
    }
   ],
   "source": [
    "def isFactor(num1,num2):\n",
    "    isFactor = \"\"\n",
    "    if (num1 % num2 == 0):\n",
    "        return True\n",
    "    return False\n",
    "    \n",
    "\n",
    "# DO NOT change the code below\n",
    "dividend = 20\n",
    "for divisor in range(2,11):\n",
    "    if isFactor(dividend,divisor):\n",
    "        print(divisor,'is a factor of',dividend)\n",
    "    else:\n",
    "        print(divisor,'is not a factor of',dividend)"
   ]
  },
  {
   "cell_type": "markdown",
   "metadata": {},
   "source": [
    "<span style=\"color:blue\">Expected Output:</span><br/>\n",
    "<span style=\"font: courier; font-size: 13px\">\n",
    "2 is a factor of 20<br/>\n",
    "3 is not a factor of 20<br/>\n",
    "4 is a factor of 20<br/>\n",
    "5 is a factor of 20<br/>\n",
    "6 is not a factor of 20<br/>\n",
    "7 is not a factor of 20<br/>\n",
    "8 is not a factor of 20<br/>\n",
    "9 is not a factor of 20<br/>\n",
    "10 is a factor of 20</span>"
   ]
  },
  {
   "cell_type": "markdown",
   "metadata": {},
   "source": [
    "### Problem 2\n",
    "The function **`changeColors()`** accepts a string parameter named _`colors`_, appends `\",orange\"` to the end of that string, then returns the newly-combined string.\n",
    "\n",
    "Provide code in the function definition so that the Expected Output is produced. The change to the string _colors_ must occur within the function."
   ]
  },
  {
   "cell_type": "code",
   "execution_count": 74,
   "metadata": {
    "scrolled": true
   },
   "outputs": [
    {
     "name": "stdout",
     "output_type": "stream",
     "text": [
      "The new colors are red,green,blue,orange\n"
     ]
    }
   ],
   "source": [
    "def changeColors(colors):\n",
    "    changeColors = \"\"\n",
    "    colors = colors + \",orange\"\n",
    "    return colors\n",
    "\n",
    "# DO NOT change the code below\n",
    "colors = \"red,green,blue\"\n",
    "colors = changeColors(colors)\n",
    "print(\"The new colors are\",colors)"
   ]
  },
  {
   "cell_type": "markdown",
   "metadata": {},
   "source": [
    "<span style=\"color:blue\">Expected Output:</span><br/>\n",
    "<span style=\"font: courier; font-size: 13px\">\n",
    "The new colors are red,green,blue,orange</span>"
   ]
  },
  {
   "cell_type": "markdown",
   "metadata": {},
   "source": [
    "### Problem 3\n",
    "\n",
    "Complete the **`removeColor()`** function such that it accepts parameters named _`colorToRemove`_ and _`colors`_.\n",
    "\n",
    "In the function, if _colorToRemove_ (a string) is present in the _colors_ (a list), then mutate the _colors_ by removing _colorToRemove_.\n",
    "\n",
    "`removeColor()` must be a **MUTATING** function. The function should change the _colors_ list, and only return `None`.\n",
    "\n",
    "Print the list before and after the function changes it, as shown in Expected Output."
   ]
  },
  {
   "cell_type": "code",
   "execution_count": 75,
   "metadata": {},
   "outputs": [
    {
     "name": "stdout",
     "output_type": "stream",
     "text": [
      "The original list is ['red', 'green', 'blue', 'black', 'orange', 'magnenta']\n",
      "The color to remove is: green\n",
      "The new list is ['red', 'blue', 'black', 'orange', 'magnenta']\n"
     ]
    }
   ],
   "source": [
    "def removeColor(colorToRemove,colors):\n",
    "    colors = colors.remove(colorToRemove)\n",
    "    return \n",
    "    \n",
    "# DO NOT change the two lines below\n",
    "colors = ['red','green','blue','black','orange','magnenta']\n",
    "colorToRemove = 'green'\n",
    "\n",
    "# below, write code to call the function and generate output\n",
    "print(\"The original list is\", colors)\n",
    "print(\"The color to remove is:\", colorToRemove)\n",
    "removeColor(colorToRemove, colors)\n",
    "print(\"The new list is\", colors)"
   ]
  },
  {
   "cell_type": "markdown",
   "metadata": {},
   "source": [
    "<span style=\"color:blue\">Expected Output:</span><br/>\n",
    "<span style=\"font: courier; font-size: 13px\">\n",
    "The original list is ['red', 'green', 'blue', 'black', 'orange', 'magnenta']<br/>\n",
    "The color to remove is: green<br/>\n",
    "The mutated list is ['red', 'blue', 'black', 'orange', 'magnenta']</span>"
   ]
  },
  {
   "cell_type": "markdown",
   "metadata": {},
   "source": [
    "### Problem 4\n",
    "Complete the **`getValues()`** function such that it accepts a dictionary called _`myDict`_ as a parameter and returns a list of the values from _myDict_.\n",
    "\n",
    "**Do not use** any dictionary method other than the **`.items()`** method.  You must iterate over _myDict_  to create the list of values."
   ]
  },
  {
   "cell_type": "code",
   "execution_count": 76,
   "metadata": {},
   "outputs": [
    {
     "name": "stdout",
     "output_type": "stream",
     "text": [
      "[60, 30, 20]\n"
     ]
    }
   ],
   "source": [
    "def getValues(myDict):\n",
    "    getValues = \"\"\n",
    "    values = []\n",
    "    for key, value in myDict.items():\n",
    "        values.append(value)\n",
    "    return values\n",
    "\n",
    "# DO NOT change the code below\n",
    "courses = {'CPS141':60, 'CSS210':30, 'CPS161':20}\n",
    "print(getValues(courses))"
   ]
  },
  {
   "cell_type": "markdown",
   "metadata": {},
   "source": [
    "<span style=\"color:blue\">Expected Output:</span><br/>\n",
    "<span style=\"font: courier; font-size: 13px\">\n",
    "[60, 30, 20]</span>"
   ]
  },
  {
   "cell_type": "markdown",
   "metadata": {},
   "source": [
    "### Problem 5\n",
    "\n",
    "Complete the function **`maxInList()`** such that it returns the maximum value from a list of integers. If the list is empty the function should return `False`."
   ]
  },
  {
   "cell_type": "code",
   "execution_count": 77,
   "metadata": {},
   "outputs": [
    {
     "name": "stdout",
     "output_type": "stream",
     "text": [
      "73\n",
      "False\n"
     ]
    }
   ],
   "source": [
    "def maxInList(lst):\n",
    "    MaxInList = \"\"\n",
    "    result = False\n",
    "    for x in lst:\n",
    "        if result == False or result < x:\n",
    "            result = x\n",
    "    return result \n",
    "        \n",
    "# DO NOT change the code below\n",
    "my_list = [1,15,73,3,6,10,24]\n",
    "print(maxInList(my_list))\n",
    "print(maxInList([]))"
   ]
  },
  {
   "cell_type": "markdown",
   "metadata": {},
   "source": [
    "<span style=\"color:blue\">Expected Output:</span><br/>\n",
    "<span style=\"font: courier; font-size: 13px\">\n",
    "73<br/>\n",
    "False</span>"
   ]
  },
  {
   "cell_type": "markdown",
   "metadata": {},
   "source": [
    "### Problem 6\n",
    "The function **`wordsStartingWith()`** accepts the parameter _`sentence`_, which is a string.\n",
    "\n",
    "Complete the function such that it returns a dictionary where each key is the unique first letter of each word in _sentence_, and the associated value is a list containing those words that start with the key letter. For example, calling the function as below:\n",
    "\n",
    "`wordsStartingWith(\"this is the correct Terminal\")`\n",
    "    \n",
    "   will return:\n",
    "       \n",
    "`{'t': ['this', 'the', 'Terminal'], 'i': ['is'], 'c': ['correct']}`\n",
    "      \n",
    "One way to complete the function is to take the following approach:\n",
    "\n",
    "1. Split the sentence into words.\n",
    "2. Iterate over the words and:\n",
    "    1. convert the first letter to lower case ([`lower()` method link](https://www.w3schools.com/python/ref_string_lower.asp))\n",
    "    2. if the first letter of the word **is** **not** in the new dictionary, create the new key and initialize its associated value with a list containing the current word\n",
    "    3. if the first letter **is** in the new dictionary, append the current word to the value (which is a list) for the current key (which is the word's first letter)."
   ]
  },
  {
   "cell_type": "code",
   "execution_count": 78,
   "metadata": {},
   "outputs": [
    {
     "name": "stdout",
     "output_type": "stream",
     "text": [
      "{'a': ['A', 'always', 'Are', 'apart'], 's': ['satire', 'see', 'satire', 'so'], 'h': ['however', 'hard', 'how'], 'i': ['it', 'it', 'is', 'it'], 't': ['tries', 'tear', 'to', 'the'], 'w': ['Will'], 'b': ['be', 'by'], 'd': ['delightful', 'delicious', 'Does'], 'y': ['you', 'you'], 'u': ['upset'], 'p': ['pleasing']}\n"
     ]
    }
   ],
   "source": [
    "def wordsStartingWith(sentence):\n",
    "    # write your code here\n",
    "    aList = sentence.split()\n",
    "    myDict = {}\n",
    "    \n",
    "    for word in aList:\n",
    "        firstChar = word.lower()[0]\n",
    "        if firstChar not in myDict:\n",
    "            myDict[firstChar] = []\n",
    "            myDict[firstChar].append(word)\n",
    "        else:\n",
    "            myDict[firstChar].append(word)\n",
    "    return myDict\n",
    "\n",
    "# DO NOT change the code below\n",
    "aSentence = \"\"\"A satire however hard it tries\n",
    "Will always be delightful\n",
    "Are you upset by how delicious it is\n",
    "Does it tear you apart to see the satire so pleasing\"\"\"\n",
    "print(wordsStartingWith(aSentence))"
   ]
  },
  {
   "cell_type": "markdown",
   "metadata": {},
   "source": [
    "<span style=\"color:blue\">Expected Output:</span><br/>\n",
    "<span style=\"font: courier; font-size: 13px\">\n",
    "{'a': ['A', 'always', 'Are', 'apart'], 's': ['satire', 'see', 'satire', 'so'], 'h': ['however', 'hard', 'how'], 'i': ['it', 'it', 'is', 'it'], 't': ['tries', 'tear', 'to', 'the'], 'w': ['Will'], 'b': ['be', 'by'], 'd': ['delightful', 'delicious', 'Does'], 'y': ['you', 'you'], 'u': ['upset'], 'p': ['pleasing']}</span>"
   ]
  },
  {
   "cell_type": "markdown",
   "metadata": {},
   "source": [
    "### Problem 7\n",
    "The **`square()`** function accepts an integer parameter _`num`_ and, when completed, will  return the square of _num_.\n",
    "\n",
    "The **`myMap()`** function accepts two parameters: a function _`fn`_ and a list _`L`_. When completed, `myMap()` will execute _fn_ on each element of _L_ and return a list with elements that are the result of the _fn_ call.\n",
    "\n",
    "Complete code for both functions such that the Expected Output is generated.\n",
    "\n",
    "**DO NOT** use the Python built-in `map()` function."
   ]
  },
  {
   "cell_type": "code",
   "execution_count": 79,
   "metadata": {},
   "outputs": [
    {
     "name": "stdout",
     "output_type": "stream",
     "text": [
      "[1, 4, 9]\n"
     ]
    }
   ],
   "source": [
    "def square(num):\n",
    "    return num*num\n",
    "\n",
    "def myMap(fn, L):\n",
    "    for i in range(len(L)):\n",
    "        L[i] = square(L[i])    \n",
    "    return L\n",
    "\n",
    "# DO NOT change the code below\n",
    "my_list = [1,2,3]\n",
    "result = myMap(square, my_list)\n",
    "print(result)"
   ]
  },
  {
   "cell_type": "markdown",
   "metadata": {},
   "source": [
    "<span style=\"color:blue\">Expected Output:</span><br/>\n",
    "<span style=\"font: courier; font-size: 13px\">\n",
    "[1, 4, 9]</span>"
   ]
  },
  {
   "cell_type": "markdown",
   "metadata": {},
   "source": [
    "### Problem 8\n",
    "\n",
    "The purpose is to find the word from **`word_list`** that has the highest Scrabble score. Print the word along with its score.\n",
    "\n",
    "You will need to do the following:\n",
    "\n",
    "1. Complete the **`computeScrabbleScore()`** function such that it accepts the parameter **_`word`_** and returns the Scrabble score for that word. The Scrabble score for a word is the sum of the values associated with each letter in the word. The **`letter_values`** dictionary (inside the function) provides the letter values.\n",
    "\n",
    "\n",
    "2. Complete the **`wordScore()`** function such that it accepts a list of words as a parameter, builds a dictionary where each word is a key and the word's Scrabble score is the value. This function needs to call `computeScrabbleScore()` to get the score for each word.\n",
    "\n",
    "\n",
    "3. Complete the **`bestWord()`** function such that it accepts a dictionary of words and respective scores and returns a tuple with the single highest-scoring word and its score. (Use the max accumulation pattern to iterate through the dictionary to find the word with the highest score)\n",
    "\n",
    "Note that the *letter_values* dictionary has only lower case letters. This means that upper case letters need to be converted to lower case before accumulating the Scrabble score for a given word."
   ]
  },
  {
   "cell_type": "code",
   "execution_count": 80,
   "metadata": {},
   "outputs": [
    {
     "name": "stdout",
     "output_type": "stream",
     "text": [
      "{'Half': 10, 'a': 1, 'league': 7, 'half': 10, 'onward': 10, 'All': 3, 'in': 2, 'the': 6, 'valley': 16, 'of': 5, 'Death': 9, 'Rode': 5, 'six': 10, 'hundred': 12, 'Forward': 14, 'Light': 9, 'Brigade': 11, 'Charge': 12, 'for': 6, 'guns': 5, 'he': 5, 'said': 5, 'Into': 4}\n",
      "The word with the highest score is valley with a score of 16\n"
     ]
    }
   ],
   "source": [
    "def computeScrabbleScore(word):\n",
    "    letter_values = {'a': 1, 'b': 3, 'c': 3, 'd': 2, 'e': 1, 'f':4, 'g': 2, 'h':4, 'i':1,'j':8, 'k':5,\n",
    "                     'l':1, 'm':3, 'n':1, 'o':1, 'p':3, 'q':10, 'r':1, 's':1, 't':1, 'u':1,'v':8, 'w':4,\n",
    "                     'x':8, 'y':4, 'z':10}\n",
    "    sum = 0\n",
    "    for ch in word.lower():\n",
    "        sum = sum + letter_values[ch]\n",
    "    return sum\n",
    "\n",
    "def wordScore(word_list):\n",
    "    scrabbleScoreDict = {}\n",
    "    for word in word_list:\n",
    "        scrabbleScoreDict[word] = computeScrabbleScore(word)\n",
    "    return scrabbleScoreDict\n",
    "\n",
    "def bestWord(word_dict):\n",
    "    maxWord = max(word_dict, key = word_dict.get)\n",
    "    return (maxWord, word_dict[maxWord])\n",
    "\n",
    "# DO NOT change the code below\n",
    "word_list = ['Half','a','league','half','a','league','Half','a','league','onward',\n",
    "         'All','in','the','valley','of','Death','Rode','the','six','hundred',\n",
    "         'Forward','the','Light','Brigade','Charge','for','the','guns','he','said',\n",
    "         'Into','the','valley','of','Death','Rode','the','six','hundred']\n",
    "wordDict = wordScore(word_list)\n",
    "print(wordDict)\n",
    "best_word = bestWord(wordDict)\n",
    "print(\"The word with the highest score is\",best_word[0],\"with a score of\",best_word[1])"
   ]
  },
  {
   "cell_type": "markdown",
   "metadata": {},
   "source": [
    "<span style=\"color:blue\">Expected Output:</span><br/>\n",
    "<span style=\"font: courier; font-size: 13px\">\n",
    "{'Half': 10, 'a': 1, 'league': 7, 'half': 10, 'onward': 10, 'All': 3, 'in': 2, 'the': 6, 'valley': 16, 'of': 5, 'Death': 9, 'Rode': 5, 'six': 10, 'hundred': 12, 'Forward': 14, 'Light': 9, 'Brigade': 11, 'Charge': 12, 'for': 6, 'guns': 5, 'he': 5, 'said': 5, 'Into': 4}<br />\n",
    "The word with the highest score is valley with a score of 16</span>"
   ]
  },
  {
   "cell_type": "markdown",
   "metadata": {},
   "source": [
    "### Problem 9\n",
    "\n",
    "Complete the **`bestScrabbleTuples()`** function such that it accepts the list parameter _`words`_ and then uses `computeScrabbleScore()` function (developed in the previous problem) to return a list of tuples for words with a score of 8 or greater.\n",
    "\n",
    "Each element in the returned list will be a tuple that consists of the word and its Scrabble score."
   ]
  },
  {
   "cell_type": "code",
   "execution_count": 81,
   "metadata": {},
   "outputs": [
    {
     "name": "stdout",
     "output_type": "stream",
     "text": [
      "[('python', 14), ('program', 12), ('unix', 11), ('hours', 8), ('syntax', 16)]\n"
     ]
    }
   ],
   "source": [
    "def bestScrabbleTuples(words):\n",
    "\n",
    "    myList = []\n",
    "    \n",
    "    for eachW in words:\n",
    "        if computeScrabbleScore(eachW) >= 8:\n",
    "            myList.append((eachW, computeScrabbleScore(eachW)))\n",
    "        \n",
    "    return myList\n",
    "\n",
    "# DO NOT change the code below\n",
    "my_words = ['python', 'program', 'list', 'string', 'unix', 'hours', 'syntax', 'error']\n",
    "result = bestScrabbleTuples(my_words)\n",
    "print(result)"
   ]
  },
  {
   "cell_type": "markdown",
   "metadata": {},
   "source": [
    "<span style=\"color:blue\">Expected Output:</span><br/>\n",
    "<span style=\"font: courier; font-size: 13px\">\n",
    "[('python', 14), ('program', 12), ('unix', 11), ('hours', 8), ('syntax', 16)]</span>"
   ]
  },
  {
   "cell_type": "markdown",
   "metadata": {},
   "source": [
    "### Problem 10\n",
    "\n",
    "Complete the **`pigLatin()`** function such that it accepts a string of English words as the parameter _`sentence`_ and returns a string that contains the Pig Latin translation of _sentence_. The words in _sentence_ are separated only by a space (i.e. there is no punctuation).\n",
    "\n",
    "1. Print the original sentence.\n",
    "2. Print the Pig Latin sentence.\n",
    "3. Use the `bestScrabbleTuples()` function (developed in an earlier problem), to make a list of tuples of the Pig Latin words and their associated Scrabble scores.\n",
    "4. Print the list of Pig Latin tuples returned by `bestScrabbleTuples()`.\n",
    "\n",
    "Pig Latin: English is translated to Pig Latin by moving the first letter of a word to the end, then adding 'ay’. For example, “this word” becomes “histay ordway”."
   ]
  },
  {
   "cell_type": "code",
   "execution_count": 82,
   "metadata": {},
   "outputs": [
    {
     "name": "stdout",
     "output_type": "stream",
     "text": [
      "The quick brown fox jumps over the lazy dog\n",
      "heTay uickqay rownbay oxfay umpsjay veroay hetay azylay ogday \n",
      "[('heTay', 11), ('uickqay', 25), ('rownbay', 15), ('oxfay', 18), ('umpsjay', 21), ('veroay', 16), ('hetay', 11), ('azylay', 21), ('ogday', 10)]\n"
     ]
    }
   ],
   "source": [
    "def pigLatin(sentence):\n",
    "    # Write your code below\n",
    "    wList = sentence.split()\n",
    "    newSentence = \"\"\n",
    "    \n",
    "    for eachW in wList: \n",
    "        newSentence = newSentence + eachW[1:] + eachW[0] + \"ay\" + \" \" \n",
    "    \n",
    "    return newSentence\n",
    "\n",
    "sentence = 'The quick brown fox jumps over the lazy dog'\n",
    "# write your code below\n",
    "def bestScrabbleTuples(words):\n",
    "\n",
    "    myList = []\n",
    "    \n",
    "    for eachW in wList:\n",
    "        if computeScrabbleScore(eachW):\n",
    "            myList.append((eachW, computeScrabbleScore(eachW)))\n",
    "        \n",
    "    return myList\n",
    "\n",
    "print (sentence)\n",
    "print(pigLatin(sentence))\n",
    "result = bestScrabbleTuples(sentence)\n",
    "print (result)"
   ]
  },
  {
   "cell_type": "markdown",
   "metadata": {},
   "source": [
    "<span style=\"color:blue\">Expected Output:</span><br/>\n",
    "<span style=\"font: courier; font-size: 13px\">\n",
    "The quick brown fox jumps over the lazy dog<br/>\n",
    "heTay uickqay rownbay oxfay umpsjay veroay hetay azylay ogday<br/> \n",
    "[('heTay', 11), ('uickqay', 25), ('rownbay', 15), ('oxfay', 18), ('umpsjay', 21), ('veroay', 16), ('hetay', 11), ('azylay', 21), ('ogday', 10)]</span>"
   ]
  },
  {
   "cell_type": "code",
   "execution_count": 83,
   "metadata": {},
   "outputs": [],
   "source": [
    "import unittest\n",
    "\n",
    "class PS05_01 (unittest.TestCase):\n",
    "    def test_problem01(self):\n",
    "        self.assertEqual(isFactor(20,10), True)\n",
    "        self.assertEqual(isFactor(20,11), False)\n",
    "class PS05_02 (unittest.TestCase):\n",
    "    def test_problem02(self):\n",
    "        s = 'a,b'\n",
    "        s = changeColors(s)\n",
    "        self.assertEqual(s,'a,b,orange')\n",
    "class PS05_03 (unittest.TestCase):\n",
    "    def test_problem03(self):\n",
    "        l = ['a','b','c']\n",
    "        removeColor('b',l)\n",
    "        self.assertEqual(l, ['a','c'])\n",
    "        l = ['a','b','c']\n",
    "        removeColor('z',l)        \n",
    "        self.assertEqual(l, ['a','b','c'])\n",
    "class PS05_04 (unittest.TestCase):\n",
    "    def test_problem04(self):\n",
    "        d = {'a':11, 'b':21, 'c':31}\n",
    "        self.assertEqual(getValues(d), [11,21,31])\n",
    "class PS05_05 (unittest.TestCase):\n",
    "    def test_problem05(self):\n",
    "        l = [10,5,13,2]\n",
    "        self.assertEqual(maxInList(l), 13)\n",
    "        l = []\n",
    "        self.assertEqual(maxInList(l), False)\n",
    "class PS05_06 (unittest.TestCase):\n",
    "    def test_problem06(self):\n",
    "        s = 'Able amy August Bus Board burn'\n",
    "        r = {'a': ['Able', 'amy', 'August'], 'b': ['Bus', 'Board', 'burn']}\n",
    "        self.assertEqual(wordsStartingWith(s), r)\n",
    "class PS05_07 (unittest.TestCase):\n",
    "    def test_problem07(self):\n",
    "        l = [2,4,6]\n",
    "        self.assertEqual(myMap(square,l), [4,16,36])\n",
    "class PS05_08 (unittest.TestCase):\n",
    "    def test_problem08(self):\n",
    "        l = ['Half','a','mile']\n",
    "        d = wordScore(l)\n",
    "        self.assertEqual(d, {'Half': 10, 'a': 1, 'mile': 6})\n",
    "        t = bestWord(d)\n",
    "        self.assertEqual(t[0],'Half')\n",
    "        self.assertEqual(t[1],10)\n",
    "class PS05_09 (unittest.TestCase):\n",
    "    def test_problem09(self):\n",
    "        my_words = ['python', 'program', 'list']\n",
    "        result = bestScrabbleTuples(my_words)\n",
    "        self.assertEqual(result,[('python', 14), ('program', 12)])\n",
    "class PS05_10 (unittest.TestCase):\n",
    "    def test_problem10(self):\n",
    "        s = 'The quick brown'\n",
    "        pl_s = pigLatin(s).strip()\n",
    "        #if pl_s[-1] == \" \":\n",
    "        #    pl_s = pl_s[0:-1]\n",
    "        self.assertEqual(pl_s, \"heTay uickqay rownbay\")  "
   ]
  },
  {
   "cell_type": "code",
   "execution_count": 84,
   "metadata": {},
   "outputs": [
    {
     "name": "stderr",
     "output_type": "stream",
     "text": [
      "test_problem01 (__main__.PS05_01) ... ok\n",
      "test_problem02 (__main__.PS05_02) ... ok\n",
      "test_problem03 (__main__.PS05_03) ... ERROR\n",
      "test_problem04 (__main__.PS05_04) ... ok\n",
      "test_problem05 (__main__.PS05_05) ... ok\n",
      "test_problem06 (__main__.PS05_06) ... ok\n",
      "test_problem07 (__main__.PS05_07) ... ok\n",
      "test_problem08 (__main__.PS05_08) ... ok\n",
      "test_problem09 (__main__.PS05_09) ... FAIL\n",
      "test_problem10 (__main__.PS05_10) ... ok\n",
      "\n",
      "======================================================================\n",
      "ERROR: test_problem03 (__main__.PS05_03)\n",
      "----------------------------------------------------------------------\n",
      "Traceback (most recent call last):\n",
      "  File \"/tmp/ipykernel_2046383/2550554978.py\", line 18, in test_problem03\n",
      "    removeColor('z',l)\n",
      "  File \"/tmp/ipykernel_2046383/2873885257.py\", line 2, in removeColor\n",
      "    colors = colors.remove(colorToRemove)\n",
      "ValueError: list.remove(x): x not in list\n",
      "\n",
      "======================================================================\n",
      "FAIL: test_problem09 (__main__.PS05_09)\n",
      "----------------------------------------------------------------------\n",
      "Traceback (most recent call last):\n",
      "  File \"/tmp/ipykernel_2046383/2550554978.py\", line 51, in test_problem09\n",
      "    self.assertEqual(result,[('python', 14), ('program', 12)])\n",
      "AssertionError: Lists differ: [('heTay', 11), ('uickqay', 25), ('rownbay',[94 chars] 10)] != [('python', 14), ('program', 12)]\n",
      "\n",
      "First differing element 0:\n",
      "('heTay', 11)\n",
      "('python', 14)\n",
      "\n",
      "First list contains 7 additional elements.\n",
      "First extra element 2:\n",
      "('rownbay', 15)\n",
      "\n",
      "+ [('python', 14), ('program', 12)]\n",
      "- [('heTay', 11),\n",
      "-  ('uickqay', 25),\n",
      "-  ('rownbay', 15),\n",
      "-  ('oxfay', 18),\n",
      "-  ('umpsjay', 21),\n",
      "-  ('veroay', 16),\n",
      "-  ('hetay', 11),\n",
      "-  ('azylay', 21),\n",
      "-  ('ogday', 10)]\n",
      "\n",
      "----------------------------------------------------------------------\n",
      "Ran 10 tests in 0.007s\n",
      "\n",
      "FAILED (failures=1, errors=1)\n"
     ]
    },
    {
     "data": {
      "text/plain": [
       "<unittest.main.TestProgram at 0x7f7124efc790>"
      ]
     },
     "execution_count": 84,
     "metadata": {},
     "output_type": "execute_result"
    }
   ],
   "source": [
    "unittest.main(argv=['first-arg-is-ignored'], exit=False, verbosity=2)"
   ]
  },
  {
   "cell_type": "code",
   "execution_count": null,
   "metadata": {},
   "outputs": [],
   "source": []
  },
  {
   "cell_type": "code",
   "execution_count": null,
   "metadata": {},
   "outputs": [],
   "source": []
  },
  {
   "cell_type": "code",
   "execution_count": null,
   "metadata": {},
   "outputs": [],
   "source": []
  },
  {
   "cell_type": "code",
   "execution_count": null,
   "metadata": {},
   "outputs": [],
   "source": []
  }
 ],
 "metadata": {
  "kernelspec": {
   "display_name": "Python 3 (ipykernel)",
   "language": "python",
   "name": "python3"
  },
  "language_info": {
   "codemirror_mode": {
    "name": "ipython",
    "version": 3
   },
   "file_extension": ".py",
   "mimetype": "text/x-python",
   "name": "python",
   "nbconvert_exporter": "python",
   "pygments_lexer": "ipython3",
   "version": "3.9.6"
  }
 },
 "nbformat": 4,
 "nbformat_minor": 2
}
