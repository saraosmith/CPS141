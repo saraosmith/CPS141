{
 "cells": [
  {
   "cell_type": "markdown",
   "metadata": {},
   "source": [
    "## <span style=\"color:blue\">Problem Set 11</span>"
   ]
  },
  {
   "cell_type": "raw",
   "metadata": {},
   "source": [
    "<Sara Smith>"
   ]
  },
  {
   "cell_type": "markdown",
   "metadata": {},
   "source": [
    "### Problem 1\n",
    "\n",
    "**Synopsis:** Given a list of words, produce a list of each word's respecitve Scrabble scores.\n",
    "\n",
    "Complete the function `scrabbleValue()` such that it receives the string parameter `word` and returns the total Scrabble score `word` as an integer. The Scrabble score is the sum of the value for each letter in `word`. Letter values are stored in the dictionary `letter_values`.\n",
    "\n",
    "Outside of `scrabbleValue()`, use the built-in **[map()](https://www.w3schools.com/python/ref_func_map.asp)** function to make a list of Scrabble scores for each respective item in `words`.\n",
    "\n",
    "The resulting list of scores should be named `scores`. Print `scores`."
   ]
  },
  {
   "cell_type": "code",
   "execution_count": null,
   "metadata": {},
   "outputs": [],
   "source": [
    "def scrabbleValue(word):\n",
    "    \n",
    "    letter_values =  {'a':1, 'b':3, 'c':3, 'd':2, 'e':1, 'f':4, 'g': 2, 'h':4,\n",
    "    'i':1, 'j':8, 'k':5, 'l':1, 'm':3, 'n':1, 'o':1, 'p':3, 'q':10, 'r':1,\n",
    "    's':1, 't':1, 'u':1, 'v':8, 'w':4, 'x':8, 'y':4, 'z':10}\n",
    "    \n",
    "    # write your code here\n",
    "    tot = 0\n",
    "    \n",
    "    for l in word:\n",
    "        l = l.lower()\n",
    "        \n",
    "        for scores in letter_values.keys():\n",
    "            if scores in l:\n",
    "                \n",
    "                tot += int(letter_values[scores])\n",
    "                \n",
    "    return tot\n",
    "\n",
    "words = ['python', 'program', 'list', 'string', 'unix', 'hours', 'syntax', 'error']\n",
    "# write your code below\n",
    "print(list(map(scrabbleValue, words)))"
   ]
  },
  {
   "cell_type": "markdown",
   "metadata": {},
   "source": [
    "<span style=\"color:blue\">Expected Output:</span><br/>\n",
    "<span style=\"font: courier; font-size: 13px\">\n",
    "[14, 12, 4, 7, 11, 8, 16, 5]</span>"
   ]
  },
  {
   "cell_type": "markdown",
   "metadata": {},
   "source": [
    "### Problem 2\n",
    "\n",
    "**Synopsis:** Given a list of words, subset the list and preserve only those words that have an even number of letters.\n",
    "\n",
    "Using the `words` list and the `selectWord()` function (to be completed below), produce a list named `evenWords` that contains only those items from `words` that have an even number of characters.\n",
    "\n",
    "Write the function such that it accepts the parameter `word`, which is a string. The function will return **`True`** if the length of the string is an even number. Otherwise it will return `False`. DO NOT use  lambda inside the function.\n",
    "\n",
    "Outside of the function, use the built-in **[filter()](https://www.w3schools.com/python/ref_func_filter.asp)** function, along with the `selectWord()` function, to create and print `evenWords`."
   ]
  },
  {
   "cell_type": "code",
   "execution_count": null,
   "metadata": {},
   "outputs": [],
   "source": [
    "def selectWord(word):\n",
    "    # write your code here\n",
    "    wordLen = len(word)\n",
    "    \n",
    "    evenWords = wordLen %2\n",
    "    if evenWords == 1:\n",
    "        return False\n",
    "    \n",
    "    if evenWords == 0:\n",
    "        return True\n",
    "\n",
    "words = ['python', 'program', 'list', 'string', 'unix', 'hours', 'syntax', 'error']\n",
    "# write your code below\n",
    "print(list(filter(selectWord, words)))"
   ]
  },
  {
   "cell_type": "markdown",
   "metadata": {},
   "source": [
    "<span style=\"color:blue\">Expected Output:</span><br/>\n",
    "<span style=\"font: courier; font-size: 13px\">\n",
    "['python', 'list', 'string', 'unix', 'syntax']</span>"
   ]
  },
  {
   "cell_type": "markdown",
   "metadata": {},
   "source": [
    "### Problem 3\n",
    "\n",
    "Alter your solution for Problem 2 to use ```filter()``` within a **[list comprehension](https://www.w3schools.com/python/python_lists_comprehension.asp)** to create a list of words with an even number of letters. You can re-use the `selectWord()` function (no need to re-write it here) from Problem 2."
   ]
  },
  {
   "cell_type": "code",
   "execution_count": null,
   "metadata": {},
   "outputs": [],
   "source": [
    "words = ['python', 'program', 'list', 'string', 'unix', 'hours', 'syntax', 'error']\n",
    "# write your code below\n",
    "def selectWord(word):\n",
    "    # write your code here\n",
    "    wordLen = len(word)\n",
    "    \n",
    "    evenWords = wordLen %2\n",
    "    if evenWords == 1:\n",
    "        return False\n",
    "    \n",
    "    if evenWords == 0:\n",
    "        return True\n",
    "print(list(filter(selectWord, [word for word in words])))"
   ]
  },
  {
   "cell_type": "markdown",
   "metadata": {},
   "source": [
    "<span style=\"color:blue\">Expected Output:</span><br/>\n",
    "<span style=\"font: courier; font-size: 13px\">\n",
    "['python', 'list', 'string', 'unix', 'syntax']</span>"
   ]
  },
  {
   "cell_type": "markdown",
   "metadata": {},
   "source": [
    "### Problem 4\n",
    "\n",
    "Alter your Problem 3 solution to use a **lamba expression** inside the list comprehension _instead_ of using the previous `selectWord()` function.\n",
    "\n",
    "Hint: Returning `True` if the string's length is even, or `False` otherwise, can be achieved with a simple Python expression. If you used an *if* statement in `selectWord()` in Problem 3 above, ponder the expression that you used."
   ]
  },
  {
   "cell_type": "code",
   "execution_count": null,
   "metadata": {},
   "outputs": [],
   "source": [
    "words = ['python', 'program', 'list', 'string', 'unix', 'hours', 'syntax', 'error']\n",
    "# write your code below\n",
    "\n",
    "print(list(filter(lambda w: len(w) % 2 == 0, [word for word in words])))"
   ]
  },
  {
   "cell_type": "markdown",
   "metadata": {},
   "source": [
    "<span style=\"color:blue\">Expected Output:</span><br/>\n",
    "<span style=\"font: courier; font-size: 13px\">\n",
    "['python', 'list', 'string', 'unix', 'syntax']</span>"
   ]
  },
  {
   "cell_type": "markdown",
   "metadata": {},
   "source": [
    "### Problem 5\n",
    "\n",
    "The variable `names` is a list where each item is a string in \"Firstname Lastname\" format. \n",
    "\n",
    "Make a list named `newNames` from `names` where each item is in \"Lastname, Firstname\" format. Use list comprehension to convert the list."
   ]
  },
  {
   "cell_type": "code",
   "execution_count": 1,
   "metadata": {},
   "outputs": [
    {
     "name": "stdout",
     "output_type": "stream",
     "text": [
      "['Newton, Isaac', 'Einstein, Albert', 'Bohr, Niels', 'Curie, Marie', 'Darwin, Charles', 'Galilei, Galileo', 'Mead, Margaret']\n"
     ]
    }
   ],
   "source": [
    "names = [\"Isaac Newton\", \"Albert Einstein\", \"Niels Bohr\", \"Marie Curie\",\n",
    "         \"Charles Darwin\", \"Galileo Galilei\", \"Margaret Mead\"]\n",
    "# write your code below\n",
    "newNames = [name.split() for name in names]\n",
    "newNames = [name[1] + \", \" + name[0] for name in newNames]\n",
    "\n",
    "print(newNames)"
   ]
  },
  {
   "cell_type": "markdown",
   "metadata": {},
   "source": [
    "<span style=\"color:blue\">Expected Output:</span><br/>\n",
    "<span style=\"font: courier; font-size: 13px\">\n",
    "['Newton, Isaac', 'Einstein, Albert', 'Bohr, Niels', 'Curie, Marie', 'Darwin, Charles', 'Galilei, Galileo', 'Mead, Margaret']</span>"
   ]
  },
  {
   "cell_type": "markdown",
   "metadata": {},
   "source": [
    "### Problem 6\n",
    "\n",
    "You must use the built-in **[zip()](https://www.w3schools.com/python/ref_func_zip.asp)** function _and_ **list comprehension** to create a list called `wordTups` from the string `myQuote`.\n",
    "\n",
    "Each item in `wordTups` will be a tuple where the first item is the word (from the items in `myQuote`) and the second item is the length of the word.\n",
    "\n",
    "Print `wordTups`."
   ]
  },
  {
   "cell_type": "code",
   "execution_count": 51,
   "metadata": {},
   "outputs": [
    {
     "name": "stdout",
     "output_type": "stream",
     "text": [
      "(('To', 2), ('be', 2), ('or', 2), ('not', 3), ('to', 2), ('be', 2), ('that', 4), ('is', 2), ('the', 3), ('question', 8))\n"
     ]
    }
   ],
   "source": [
    "myQuote = \"To be or not to be that is the question\"\n",
    "# write your code below\n",
    "newQuote = myQuote.split()\n",
    "wordTups = [len(word) for word in newQuote]\n",
    "\n",
    "print(tuple(zip(newQuote,wordTups)))"
   ]
  },
  {
   "cell_type": "markdown",
   "metadata": {},
   "source": [
    "<span style=\"color:blue\">Expected Output:</span><br/>\n",
    "<span style=\"font: courier; font-size: 13px\">\n",
    "[('To', 2), ('be', 2), ('or', 2), ('not', 3), ('to', 2), ('be', 2), ('that', 4), ('is', 2), ('the', 3), ('question', 8)]</span>"
   ]
  },
  {
   "cell_type": "markdown",
   "metadata": {},
   "source": [
    "### Problem 7\n",
    "\n",
    "As you did in Problem 6, create a list named `wordTups` where each item is a `(word, wordlength)` tuple.\n",
    "\n",
    "However, in this problem, use only **list comprehension** and **DO NOT** use the ```zip()``` function to generate the same output."
   ]
  },
  {
   "cell_type": "code",
   "execution_count": 53,
   "metadata": {},
   "outputs": [
    {
     "name": "stdout",
     "output_type": "stream",
     "text": [
      "[('To', 2), ('be', 2), ('or', 2), ('not', 3), ('to', 2), ('be', 2), ('that', 4), ('is', 2), ('the', 3), ('question', 8)]\n"
     ]
    }
   ],
   "source": [
    "myQuote = \"To be or not to be that is the question\"\n",
    "# write your code below\n",
    "wordTups = [(word, len(word)) for word in myQuote.split()]\n",
    "\n",
    "print(wordTups)"
   ]
  },
  {
   "cell_type": "markdown",
   "metadata": {},
   "source": [
    "<span style=\"color:blue\">Expected Output:</span><br/>\n",
    "<span style=\"font: courier; font-size: 13px\">\n",
    "[('To', 2), ('be', 2), ('or', 2), ('not', 3), ('to', 2), ('be', 2), ('that', 4), ('is', 2), ('the', 3), ('question', 8)]</span>"
   ]
  },
  {
   "cell_type": "markdown",
   "metadata": {},
   "source": [
    "### Problem 8\n",
    "\n",
    "Given the string variable `sentence`, write **one line of code** that uses list comprehension to reverse the order of the words in the string and display them.\n",
    "\n",
    "You could use the built-in **[reversed()](https://www.w3schools.com/python/ref_func_reversed.asp)** function (which returns an iterator object) or **[slice notation](https://www.w3schools.com/python/python_strings_slicing.asp)** to reverse the order of the list.\n",
    "\n",
    "It helps to consider the steps that might be required:\n",
    "1. Split the string into a list of words.\n",
    "2. Produce a reverse-order list of the words (note that `reversed()` returns an iterator object).\n",
    "3. Use list comprehension to iterate through the reverse-order list of words.  \n",
    "4. Join the words in the reverse-order list top creat a string.\n",
    "5. Print the string."
   ]
  },
  {
   "cell_type": "code",
   "execution_count": 49,
   "metadata": {},
   "outputs": [
    {
     "name": "stdout",
     "output_type": "stream",
     "text": [
      "means it think you what mean doesn't this\n"
     ]
    }
   ],
   "source": [
    "sentence  = \"this doesn't mean what you think it means\"\n",
    "# write your code below\n",
    "split = sentence.split(\" \")\n",
    "reverse = reversed(split)\n",
    "join = \" \".join(reverse)\n",
    "\n",
    "print(join)"
   ]
  },
  {
   "cell_type": "markdown",
   "metadata": {},
   "source": [
    "<span style=\"color:blue\">Expected Output:</span><br/>\n",
    "<span style=\"font: courier; font-size: 13px\">\n",
    "means it think you what mean doesn't this</span>"
   ]
  },
  {
   "cell_type": "markdown",
   "metadata": {},
   "source": [
    "### Problem 9\n",
    "\n",
    "Use list comprehension to create a list of those numbers from `myInts` that are evenly divisible by 17 **_but are not_** evenly divisible by 51.\n",
    "\n",
    "Use only two lines of code: the first will create the list, the secont will print the list."
   ]
  },
  {
   "cell_type": "code",
   "execution_count": 5,
   "metadata": {},
   "outputs": [
    {
     "name": "stdout",
     "output_type": "stream",
     "text": [
      "[17, 34, 51, 68, 85, 102, 119, 136, 153, 170, 187]\n"
     ]
    }
   ],
   "source": [
    "myInts = [i for i in range(1,201) ]\n",
    "# write your code below\n",
    "div17 = [num for num in myInts if num%17==0]\n",
    "\n",
    "print(div17)"
   ]
  },
  {
   "cell_type": "markdown",
   "metadata": {},
   "source": [
    "<span style=\"color:blue\">Expected Output:</span><br/>\n",
    "<span style=\"font: courier; font-size: 13px\">\n",
    "[17, 34, 68, 85, 119, 136, 170, 187]</span>"
   ]
  },
  {
   "cell_type": "markdown",
   "metadata": {},
   "source": [
    "### Problem 10\n",
    "\n",
    "Use list comprehension to create a list of words from `myQuote` that begin with a consonant (i.e. words that do not begin with a vowel).\n",
    "\n",
    "Use only two lines of code: the first will create the list, the second will print the list."
   ]
  },
  {
   "cell_type": "code",
   "execution_count": 48,
   "metadata": {},
   "outputs": [
    {
     "name": "stdout",
     "output_type": "stream",
     "text": [
      "['the', 'quality', 'mercy', 'not', 'strained', 'dropeth', 'the', 'gentle', 'rain', 'from', 'heaven']\n"
     ]
    }
   ],
   "source": [
    "myQuote = \"the quality of mercy is not strained it dropeth as the gentle rain from heaven\"\n",
    "# write your code below\n",
    "consonant = [word for word in myQuote.split() if word[0] not in 'aeiou']\n",
    "print(consonant)"
   ]
  },
  {
   "cell_type": "markdown",
   "metadata": {},
   "source": [
    "<span style=\"color:blue\">Expected Output:</span><br/>\n",
    "<span style=\"font: courier; font-size: 13px\">\n",
    "['the', 'quality', 'mercy', 'not', 'strained', 'dropeth', 'the', 'gentle', 'rain', 'from', 'heaven']</span>"
   ]
  }
 ],
 "metadata": {
  "kernelspec": {
   "display_name": "Python 3 (ipykernel)",
   "language": "python",
   "name": "python3"
  },
  "language_info": {
   "codemirror_mode": {
    "name": "ipython",
    "version": 3
   },
   "file_extension": ".py",
   "mimetype": "text/x-python",
   "name": "python",
   "nbconvert_exporter": "python",
   "pygments_lexer": "ipython3",
   "version": "3.9.6"
  }
 },
 "nbformat": 4,
 "nbformat_minor": 2
}
