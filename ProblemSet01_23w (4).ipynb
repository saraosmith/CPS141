{
 "cells": [
  {
   "cell_type": "markdown",
   "metadata": {},
   "source": [
    "## <span style=\"color:blue\">Problem Set 1<span>"
   ]
  },
  {
   "cell_type": "raw",
   "metadata": {},
   "source": [
    "<Sara Smith>"
   ]
  },
  {
   "cell_type": "markdown",
   "metadata": {},
   "source": [
    "### <span style=\"color:red\">First, run the cell below</span>\n",
    "Before starting the assignment, run the cell below.  This cell has python functions that are used in the problems.\n",
    "\n",
    "When a problem calls for the use of one of these functions, there is no need to copy it to the cell in which you are working. Once you run this cell, the functions are in the notebook's memory environment and can be accessed as long as the kernel is not restarted.\n",
    "\n",
    "<span style=\"color:red\">DO NOT HARD CODE anything unless otherwise directed.</span>"
   ]
  },
  {
   "cell_type": "code",
   "execution_count": 1,
   "metadata": {},
   "outputs": [],
   "source": [
    "def square(num):\n",
    "    return num**2\n",
    "\n",
    "def sqr(num):\n",
    "    import math\n",
    "    n = math.sqrt(num)\n",
    "    return n\n",
    "\n",
    "def greeting(st):\n",
    "    st = str(st) # just in case\n",
    "    return \"Hello, \" + st\n",
    "\n",
    "def randomDigit():\n",
    "    import random\n",
    "    return random.choice([0,1,2,3,4,5,6,7,8,9])\n",
    "\n",
    "def addLengths(str1, str2):\n",
    "    return len(str1) + len(str2)"
   ]
  },
  {
   "cell_type": "markdown",
   "metadata": {},
   "source": [
    "### Problem 1\n",
    "\n",
    "In the cell below, write code that does the following:\n",
    "\n",
    "Problem 1-A:\n",
    "1. Print \"Output for Problem 1-A:\" \n",
    "2. Assign the value 3.145 to the variable `p`.\n",
    "3. Print the data type of `p` preceded by the message \"The type of p is\".\n",
    "4. Write an assignment statement that assigns the square of the contents of `p` back to `p`.\n",
    "5. Print the value of `p`.\n",
    "\n",
    "Problem 1-B:\n",
    "1. Print \"Output for Problem 1-B:\" \n",
    "2. Write code to assign the number of characters in the string `rv` to the variable `numChars`.\n",
    "3. Print `numChars` preceded by the message \"The number of chars is\"."
   ]
  },
  {
   "cell_type": "code",
   "execution_count": 12,
   "metadata": {},
   "outputs": [
    {
     "name": "stdout",
     "output_type": "stream",
     "text": [
      "Output for problem 1A:\n",
      "The type of p is <class 'float'>\n",
      "9.891025\n",
      "Output for problem 1B:\n",
      "The number of chars is 348\n"
     ]
    }
   ],
   "source": [
    "rv = \"\"\"Once upon a midnight dreary, while I pondered, weak and weary,\n",
    "    Over many a quaint and curious volume of forgotten lore,\n",
    "    While I nodded, nearly napping, suddenly there came a tapping,\n",
    "    As of some one gently rapping, rapping at my chamber door.\n",
    "    'Tis some visitor, I muttered, tapping at my chamber door;\n",
    "    Only this and nothing more.\"\"\"\n",
    "\n",
    "print(\"Output for problem 1A:\")\n",
    "# write your code for problem A below\n",
    "p = 3.145\n",
    "print(\"The type of p is\", type(p))\n",
    "p = p * p\n",
    "print(p)\n",
    "\n",
    "print(\"Output for problem 1B:\")\n",
    "# write your code for problem B below\n",
    "numChars = len(rv)\n",
    "print(\"The number of chars is\", numChars)"
   ]
  },
  {
   "cell_type": "markdown",
   "metadata": {},
   "source": [
    "<span style=\"color:blue\">Expected output:</span><br/>\n",
    "<span style=\"font: courier; font-size: 13px\">\n",
    "Output for problem 1A:<br/>\n",
    "The type of p is <class 'float'><br/>\n",
    "9.891025<br/>\n",
    "Output for problem 1B:<br/>\n",
    "The number of chars is 348</span>"
   ]
  },
  {
   "cell_type": "markdown",
   "metadata": {},
   "source": [
    "### Problem 2\n",
    "\n",
    "The [Pythagorean Theorem](https://en.wikipedia.org/wiki/Pythagorean_theorem) describes the geometric relationship between the sides of a right triangle.\n",
    "\n",
    "The formula is c<sup>2</sup> = a<sup>2</sup> + b<sup>2</sup> where **a** and **b** are the lengths of the sides and **c** is the length of the hypotenuse. The value of **c** is equal to the square root of a<sup>2</sup> + b<sup>2</sup>.  \n",
    "\n",
    "In the cell below, write code that does the following:\n",
    "1. Write an assignment statement that assigns the square of the variable `a` plus the square of variable `b`  to the variable `temp`. \n",
    "2. Write an assignment statment that passes `temp` to the function **`sqr()`** (defined in the first cell at the top of the problem set) and assigns the value returned from the function to a variable named `cee`. \n",
    "2. Print `cee` in a manner similar to the expected output."
   ]
  },
  {
   "cell_type": "code",
   "execution_count": 4,
   "metadata": {},
   "outputs": [
    {
     "name": "stdout",
     "output_type": "stream",
     "text": [
      "['blue', 'orange', 'magenta', 'brown']\n"
     ]
    }
   ],
   "source": [
    "colors = ['red','green','blue','orange','magenta','brown','white','black']\n",
    "myColors =['/0','/0','/0','/0']\n",
    "for i in range (2,6) :\n",
    "    myColors[i-2] = colors[i];\n",
    "print(myColors)\n",
    "\n",
    "\n",
    "#a = 5\n",
    "#b = 6\n",
    "## write your code below\n"
   ]
  },
  {
   "cell_type": "markdown",
   "metadata": {},
   "source": [
    "<span style=\"color:blue\">Expected output:</span><br/>\n",
    "<span style=\"font: courier; font-size: 13px\">\n",
    "The length of c is 7.810249675906654</span>"
   ]
  },
  {
   "cell_type": "markdown",
   "metadata": {},
   "source": [
    "### Problem 3\n",
    "\n",
    "Where indicated in the cell below, write code that calculates the total of the numbers in the list `L`.\n",
    "\n",
    "Specifically, immediately below the comment, add an assignment statement that adds  `n` to `tot` and stores the result back into `tot`. "
   ]
  },
  {
   "cell_type": "code",
   "execution_count": null,
   "metadata": {},
   "outputs": [],
   "source": [
    "L = [3,5,7]\n",
    "tot = 0\n",
    "for n in L:\n",
    "    # write the assignment statement below\n",
    "    \n",
    "\n",
    "print(\"The total is\",tot)"
   ]
  },
  {
   "cell_type": "markdown",
   "metadata": {},
   "source": [
    "<span style=\"color:blue\">Expected output:</span><br/>\n",
    "<span style=\"font: courier; font-size: 13px\">\n",
    "The total is 15</span>"
   ]
  },
  {
   "cell_type": "markdown",
   "metadata": {},
   "source": [
    "### Problem 4\n",
    "\n",
    "The objective of the code below is:\n",
    "1. Calculate the circumference of a circle and store the result in the variable `circum`.\n",
    "2. Print the contents of the variable `circum`.\n",
    "\n",
    "Run the cell below. There are two errors in the code: a run time error and a logic error. Alter the code to correct the errors and print the correct value for `circum` as shown in Expected Output."
   ]
  },
  {
   "cell_type": "code",
   "execution_count": null,
   "metadata": {},
   "outputs": [],
   "source": [
    "pi = 0\n",
    "radius = 5\n",
    "pi == 3.145\n",
    "circum = 2 * PI * radius\n",
    "print(\"The circumference of a circule with radius 5 is\",circum)"
   ]
  },
  {
   "cell_type": "markdown",
   "metadata": {},
   "source": [
    "<span style=\"color:blue\">Expected output:</span><br/>\n",
    "<span style=\"font: courier; font-size: 13px\">\n",
    "The circumference of a circule with radius 5 is 31.45</span>"
   ]
  },
  {
   "cell_type": "markdown",
   "metadata": {},
   "source": [
    "### Problem 5\n",
    "\n",
    "The first line of code below prompts the user to enter an integer. Write additional code that:\n",
    "1. Prints the type of the variable `userInput`. (take note the type)\n",
    "2. Assign two times the contents of `userInput` to the variable `result1`.\n",
    "3. Print `result1`."
   ]
  },
  {
   "cell_type": "code",
   "execution_count": null,
   "metadata": {},
   "outputs": [],
   "source": [
    "userInput = input('Enter an integer: ')\n",
    "# write your code below\n"
   ]
  },
  {
   "cell_type": "markdown",
   "metadata": {},
   "source": [
    "<span style=\"color:blue\">Expected output if the user entered the value below:</span><br/>\n",
    "<span style=\"font: courier; font-size: 13px\">\n",
    "Enter an integer: 5<br />\n",
    "< class 'str' > <br />\n",
    "10</span>"
   ]
  },
  {
   "cell_type": "markdown",
   "metadata": {},
   "source": [
    "### Problem 6\n",
    "\n",
    "The following code promptes the user to enter two numbers.\n",
    "\n",
    "Add code in the cell below that does the following:\n",
    "\n",
    "1. Divides the first number by the second number and stores the result in the variable `result2`.\n",
    "2. Print the variable `result2`."
   ]
  },
  {
   "cell_type": "code",
   "execution_count": null,
   "metadata": {},
   "outputs": [],
   "source": [
    "firstNum = input('Enter the first number: ')\n",
    "secondNum = input('Enter the second number: ')\n",
    "# write your code below\n"
   ]
  },
  {
   "cell_type": "markdown",
   "metadata": {},
   "source": [
    "<span style=\"color:blue\">Expected output if the user entered the values below:</span><br/>\n",
    "<span style=\"font: courier; font-size: 13px\">\n",
    "Enter the first number: 20<br />\n",
    "Enter the second number: 10<br />\n",
    "2.0</span>"
   ]
  },
  {
   "cell_type": "markdown",
   "metadata": {},
   "source": [
    "### Problem 7\n",
    "\n",
    "The **`greeting()`** function from the first cell, takes any string as a parameter and prepends \"Hello, \".\n",
    "\n",
    "Also in the first cell, the **`randomDigit()`** function (which does accept any parameters) returns a random integer in the range 0 to 9.\n",
    "\n",
    "Code is already include in the cell below that demonstrates the use of these functions.\n",
    "\n",
    "Add code below that does the following:\n",
    "\n",
    "1.  Call the `greeting()` function with a string of your choice and store the returned result in a variable named `greet`. \n",
    "2.  Print the type of the variable `greet`.\n",
    "3.  Print the contents of `greet`.\n",
    "4.  Call the `randomDigit()` function (without any parameters, but you still need to use the parantheses) and store the returned value in a variable named `newDigit`. \n",
    "5.  Print the contents of `greet`, followed by the `newDigit` variable."
   ]
  },
  {
   "cell_type": "code",
   "execution_count": null,
   "metadata": {},
   "outputs": [],
   "source": [
    "print(greeting(\"Jackie\"))\n",
    "print(greeting(\"everybody\"))\n",
    "print(greeting(\"sdgadgsal\"))\n",
    "\n",
    "# Try running all this code more than once, so you can see how calling the function\n",
    "# random_digit works.\n",
    "print(randomDigit())\n",
    "print(randomDigit())\n",
    "\n",
    "# Write your code below that assigns the variables as mentioned in the instructions.\n"
   ]
  },
  {
   "cell_type": "markdown",
   "metadata": {},
   "source": [
    "<span style=\"color:blue\">Expected output will be similar, but not identical, to that below:</span><br/>\n",
    "<span style=\"font: courier; font-size: 13px\">\n",
    "Hello, Jackie<br />\n",
    "Hello, everybody<br />\n",
    "Hello, sdgadgsal<br />\n",
    "0<br />\n",
    "7<br />\n",
    "< class 'str' > <br />\n",
    "Hello, Mike\n",
    "5</span>"
   ]
  },
  {
   "cell_type": "markdown",
   "metadata": {},
   "source": [
    "### Problem 8\n",
    "\n",
    "The code below includes a user-defined function called **`cube()`** that accepts an integer parameter `num`.\n",
    "\n",
    "Do not change the existing code. Add code where indicated to achieve the following:\n",
    "\n",
    "The function should cube the variable `num` (i.e., multiply `num` by itself three times) and store the result in a variable named `result`."
   ]
  },
  {
   "cell_type": "code",
   "execution_count": null,
   "metadata": {},
   "outputs": [],
   "source": [
    "def cube(num):\n",
    "    #  add your code here\n",
    "\n",
    "    return result\n",
    "\n",
    "r = cube(2)\n",
    "print(r)\n",
    "r = cube(3)\n",
    "print(r)"
   ]
  },
  {
   "cell_type": "markdown",
   "metadata": {},
   "source": [
    "<span style=\"color:blue\">Expected output:</span><br/>\n",
    "<span style=\"font: courier; font-size: 13px\">\n",
    "8<br />\n",
    "27</span>"
   ]
  },
  {
   "cell_type": "markdown",
   "metadata": {},
   "source": [
    "### Problem 9\n",
    "\n",
    "Alter the arithmetic expression in the assignment statement below so that the subexpressions 6 - 2 and 4 - 2 are evaluated first and the output matches Expected Ouput. "
   ]
  },
  {
   "cell_type": "code",
   "execution_count": null,
   "metadata": {},
   "outputs": [],
   "source": [
    "num1 = 4 * 6 - 2 * 4 - 2\n",
    "print(num1)"
   ]
  },
  {
   "cell_type": "markdown",
   "metadata": {},
   "source": [
    "<span style=\"color:blue\">Expected output:</span><br/>\n",
    "<p style=\"font: courier; font-size: 13px\">\n",
    "32</p>"
   ]
  },
  {
   "cell_type": "markdown",
   "metadata": {},
   "source": [
    "### Problem 10\n",
    "\n",
    "The cell below contains syntax and semantic errors.  Run the cell and observe the errors.\n",
    "\n",
    "Correct any errors that are present such that the code in the cell runs error free.\n",
    "\n",
    "DO NOT REMOVE any code. Instead, use the comment character to prevent erroneous lines from executing, and replace them with what you believe the programmer intended."
   ]
  },
  {
   "cell_type": "code",
   "execution_count": null,
   "metadata": {},
   "outputs": [],
   "source": [
    "2nd = 0\n",
    "\n",
    "1 + 2 = var\n",
    "\n",
    "x = \"1.2\"\n",
    "y = 2 * float(x)\n",
    "\n",
    " z = 5"
   ]
  },
  {
   "cell_type": "markdown",
   "metadata": {},
   "source": [
    "### <span style=\"color:dark green\">Run the cells below to test your code</span>"
   ]
  },
  {
   "cell_type": "code",
   "execution_count": null,
   "metadata": {},
   "outputs": [],
   "source": [
    "import unittest\n",
    "\n",
    "class PS01_01 (unittest.TestCase):\n",
    "    def test_problem01(self):\n",
    "        self.assertEqual(p, 9.891025)\n",
    "        self.assertEqual(numChars,348)\n",
    "        \n",
    "class PS01_02 (unittest.TestCase):\n",
    "    def test_problem02(self):\n",
    "        self.assertEqual(cee,7.810249675906654)        \n",
    "\n",
    "class PS01_03 (unittest.TestCase):\n",
    "    def test_problem03(self):\n",
    "        self.assertEqual(tot,15)\n",
    "\n",
    "class PS01_04 (unittest.TestCase):\n",
    "    def test_problem04(self):\n",
    "        self.assertEqual(circum,31.45)\n",
    "\n",
    "class PS01_05 (unittest.TestCase):\n",
    "    def test_problem05(self):\n",
    "        self.assertEqual(result1,2 * int(userInput))\n",
    "\n",
    "class PS01_06 (unittest.TestCase):\n",
    "    def test_problem06(self):\n",
    "        self.assertEqual(result2,int(firstNum)/int(secondNum))\n",
    "\n",
    "class PS01_07 (unittest.TestCase):\n",
    "    def test_problem07(self):\n",
    "        self.assertIsInstance(greet,str)\n",
    "        self.assertTrue(0 <= newDigit <= 9)\n",
    "        \n",
    "class PS01_08 (unittest.TestCase):\n",
    "    def test_problem08(self):\n",
    "        self.assertEqual(8,cube(2))\n",
    "\n",
    "class PS01_09 (unittest.TestCase):\n",
    "    def test_problem09(self):\n",
    "        self.assertEqual(num1,32)"
   ]
  },
  {
   "cell_type": "code",
   "execution_count": null,
   "metadata": {},
   "outputs": [],
   "source": [
    "unittest.main(argv=['first-arg-is-ignored'], exit=False, verbosity=2)"
   ]
  },
  {
   "cell_type": "code",
   "execution_count": null,
   "metadata": {},
   "outputs": [],
   "source": []
  }
 ],
 "metadata": {
  "kernelspec": {
   "display_name": "Python 3 (ipykernel)",
   "language": "python",
   "name": "python3"
  },
  "language_info": {
   "codemirror_mode": {
    "name": "ipython",
    "version": 3
   },
   "file_extension": ".py",
   "mimetype": "text/x-python",
   "name": "python",
   "nbconvert_exporter": "python",
   "pygments_lexer": "ipython3",
   "version": "3.9.6"
  }
 },
 "nbformat": 4,
 "nbformat_minor": 2
}
