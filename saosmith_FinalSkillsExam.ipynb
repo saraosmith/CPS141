{
 "cells": [
  {
   "cell_type": "code",
   "execution_count": null,
   "id": "62f131a6",
   "metadata": {},
   "outputs": [],
   "source": [
    "import json\n",
    "\n",
    "with open('population.json') as f:\n",
    "    data = json.load(f)\n",
    "    \n",
    "# usa and canada subsetted lists\n",
    "usa_data = []\n",
    "canada_data = []\n",
    "for d in data:\n",
    "    if d['region'] == 'United States of America' and int(d['year']) >= 1980:\n",
    "        usa_data.append(d)\n",
    "    elif d['region'] == 'Canada' and int(d['year']) >= 1980:\n",
    "        canada_data.append(d)\n",
    "#print(usa_data[0])\n",
    "#print(canada_data[0])\n",
    "    \n",
    "# Claculate growth rates\n",
    "def show_growth(pop_list):\n",
    "    first_pop = pop_list[0]['population']\n",
    "    last_pop = pop_list[-1]['population']\n",
    "    overall_growth = round((last_pop - first_pop) / first_pop * 100, 2)\n",
    "    \n",
    "    # Table headers\n",
    "    print('year\\tpopulation\\tgrowth')\n",
    "    print('----\\t----------\\t------')\n",
    "    \n",
    "    for i in range(len(pop_list)):\n",
    "        if i == 0:\n",
    "            growth_rate = 0\n",
    "        else:\n",
    "            prev_pop = pop_list[i-1]['population']\n",
    "            curr_pop = pop_list[i]['population']\n",
    "            growth_rate = (curr_pop - prev_pop) / prev_pop * 100\n",
    "            \n",
    "        # Rows\n",
    "        print('{}\\t{:.3f}\\t{:.3f}'.format(pop_list[i]['year'], pop_list[i]['population'], growth_rate))\n",
    "    \n",
    "    # Overall growth rate\n",
    "    print('Overall growth rate:', overall_growth)\n",
    "\n",
    "# Call show_growth to print tables\n",
    "print('Population Growth: United States of America')\n",
    "show_growth(usa_data)\n",
    "\n",
    "print('\\nPopulation Growth: Canada')\n",
    "show_growth(canada_data)\n"
   ]
  }
 ],
 "metadata": {
  "kernelspec": {
   "display_name": "Python 3 (ipykernel)",
   "language": "python",
   "name": "python3"
  },
  "language_info": {
   "codemirror_mode": {
    "name": "ipython",
    "version": 3
   },
   "file_extension": ".py",
   "mimetype": "text/x-python",
   "name": "python",
   "nbconvert_exporter": "python",
   "pygments_lexer": "ipython3",
   "version": "3.9.6"
  }
 },
 "nbformat": 4,
 "nbformat_minor": 5
}
