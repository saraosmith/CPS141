{
 "cells": [
  {
   "cell_type": "markdown",
   "metadata": {},
   "source": [
    "## <span style=\"color:blue\">Problem Set 2</span>"
   ]
  },
  {
   "cell_type": "raw",
   "metadata": {},
   "source": [
    "<Sara Smith>"
   ]
  },
  {
   "cell_type": "markdown",
   "metadata": {},
   "source": [
    "### <span style=\"color:red\">Run the cell below first</span>\n",
    "\n",
    "Before starting the assignment, run the cell below.  "
   ]
  },
  {
   "cell_type": "code",
   "execution_count": 2,
   "metadata": {},
   "outputs": [],
   "source": [
    "sentence = 'Half a league, half a league, Half a league onward, All in the valley of Death rode the six hundred'\n",
    "colors = ['red','green','blue','orange','magenta','brown','white','black']"
   ]
  },
  {
   "cell_type": "markdown",
   "metadata": {},
   "source": [
    "### IMPORTANT NOTE:\n",
    "1. You need to use code to arrive at a solution. Hard-Coding a solution will result in **0 points** for the problem (see Runestone 2.14 Hard-Coding).\n",
    "2. **Use only syntax covered in the Units so far.**  Using any other syntax will restult in **0 points** for the problem. "
   ]
  },
  {
   "cell_type": "markdown",
   "metadata": {},
   "source": [
    "### Problem 1:\n",
    "\n",
    "Write code in the cell below that does the following:\n",
    "  1. Assign the tenth character in `sentence` to the variable `char`.\n",
    "  2. Print `char`\n",
    "  3. Concatenate the sixth character and the last character of `sentence` and store the result `chars`.\n",
    "  4. Print `chars`.\n",
    "  5. Assign the length of `sentence` to the variable `lens`.\n",
    "  6. Print `lens`."
   ]
  },
  {
   "cell_type": "code",
   "execution_count": 3,
   "metadata": {},
   "outputs": [
    {
     "name": "stdout",
     "output_type": "stream",
     "text": [
      "a\n",
      "ad\n",
      "99\n"
     ]
    }
   ],
   "source": [
    "char = sentence[9]\n",
    "print (char)\n",
    "chars = sentence[5]\n",
    "print (chars + \"d\")\n",
    "lens = (len(sentence))\n",
    "print (lens)"
   ]
  },
  {
   "cell_type": "markdown",
   "metadata": {},
   "source": [
    "<span style=\"color:blue\">Expected Output:</span><br/>\n",
    "<span style=\"font: courier; font-size: 13px\">\n",
    "a<br />\n",
    "ad<br />\n",
    "99</span>"
   ]
  },
  {
   "cell_type": "markdown",
   "metadata": {},
   "source": [
    "### Problem 2:\n",
    "\n",
    "Write code that does the following:\n",
    "  1. Replace all occurences of the word \"**league**\" with the word \"**mile**\" in the string `sentence` and store the result in the variable `newSent`.  Do not change `sentence`. \n",
    "  2. Print `newSent`\n",
    "  3. Retrieve the number of words in the string `sentence` and assign that value to the variable `numWords`. Note that the words in `sentence` are delimited by spaces and ignore the commas.\n",
    "  4. Print `numWords`."
   ]
  },
  {
   "cell_type": "code",
   "execution_count": 4,
   "metadata": {},
   "outputs": [
    {
     "name": "stdout",
     "output_type": "stream",
     "text": [
      "Half a mile, half a mile, Half a mile onward, All in the valley of Death rode the six hundred\n",
      "20\n"
     ]
    }
   ],
   "source": [
    "newSent=(sentence.replace(\"league\",\"mile\"))\n",
    "print(newSent)\n",
    "numWords=newSent.split()\n",
    "print(len(numWords))"
   ]
  },
  {
   "cell_type": "markdown",
   "metadata": {},
   "source": [
    "<span style=\"color:blue\">Expected Output:</span><br/>\n",
    "<span style=\"font: courier; font-size: 13px\">\n",
    "Half a mile, half a mile, Half a mile onward, All in the valley of Death rode the six hundred<br />\n",
    "20</span>"
   ]
  },
  {
   "cell_type": "markdown",
   "metadata": {},
   "source": [
    "### Problem 3:\n",
    "\n",
    "Write code that creates a variable named `newStr` whose contents are identical to the variable `sentence`, but where all occurrences of the word \"**league**\" are reversed.\n",
    "\n",
    "Print `newStr`."
   ]
  },
  {
   "cell_type": "code",
   "execution_count": 5,
   "metadata": {},
   "outputs": [
    {
     "name": "stdout",
     "output_type": "stream",
     "text": [
      "Half a eugael, half a eugael, Half a eugael onward, All in the valley of Death rode the six hundred\n"
     ]
    }
   ],
   "source": [
    "newStr = sentence.replace(\"league\", \"eugael\" )\n",
    "print (newStr)"
   ]
  },
  {
   "cell_type": "markdown",
   "metadata": {},
   "source": [
    "<span style=\"color:blue\">Expected Output:</span><br/>\n",
    "<span style=\"font: courier; font-size: 13px\">\n",
    "Half a eugael, half a eugael, Half a eugael onward, All in the valley of Death rode the six hundred</span>"
   ]
  },
  {
   "cell_type": "markdown",
   "metadata": {},
   "source": [
    "### Problem 4:\n",
    "\n",
    "Write code that retrieves the **fifth** through the **second** elements from the list `colors` and assigns them to a list named `myColors`.\n",
    "\n",
    "Print `myColors`."
   ]
  },
  {
   "cell_type": "code",
   "execution_count": 6,
   "metadata": {},
   "outputs": [
    {
     "name": "stdout",
     "output_type": "stream",
     "text": [
      "['magenta', 'orange', 'blue', 'green']\n"
     ]
    }
   ],
   "source": [
    "x = len(colors)\n",
    "myColors=colors[x::-1]\n",
    "print (myColors[3:7])"
   ]
  },
  {
   "cell_type": "markdown",
   "metadata": {},
   "source": [
    "<span style=\"color:blue\">Expected Output:</span><br/>\n",
    "<span style=\"font: courier; font-size: 13px\">\n",
    "['magenta', 'orange', 'blue', 'green']</span>"
   ]
  },
  {
   "cell_type": "markdown",
   "metadata": {},
   "source": [
    "### Problem 5:\n",
    "\n",
    "Write code that creates a string named `newColors` from the list `colors` where each element is separated by a comma.\n",
    "\n",
    "Print `newColors`."
   ]
  },
  {
   "cell_type": "code",
   "execution_count": 7,
   "metadata": {},
   "outputs": [
    {
     "ename": "NameError",
     "evalue": "name 'output' is not defined",
     "output_type": "error",
     "traceback": [
      "\u001b[0;31m---------------------------------------------------------------------------\u001b[0m",
      "\u001b[0;31mNameError\u001b[0m                                 Traceback (most recent call last)",
      "\u001b[0;32m/tmp/ipykernel_3232656/4226433727.py\u001b[0m in \u001b[0;36m<module>\u001b[0;34m\u001b[0m\n\u001b[1;32m      1\u001b[0m \u001b[0mcomma\u001b[0m \u001b[0;34m=\u001b[0m \u001b[0;34m\",\"\u001b[0m\u001b[0;34m\u001b[0m\u001b[0;34m\u001b[0m\u001b[0m\n\u001b[1;32m      2\u001b[0m \u001b[0mnewColors\u001b[0m \u001b[0;34m=\u001b[0m \u001b[0mcomma\u001b[0m\u001b[0;34m.\u001b[0m\u001b[0mjoin\u001b[0m\u001b[0;34m(\u001b[0m\u001b[0mcolors\u001b[0m\u001b[0;34m)\u001b[0m\u001b[0;34m\u001b[0m\u001b[0;34m\u001b[0m\u001b[0m\n\u001b[0;32m----> 3\u001b[0;31m \u001b[0mprint\u001b[0m \u001b[0;34m(\u001b[0m\u001b[0moutput\u001b[0m\u001b[0;34m)\u001b[0m\u001b[0;34m\u001b[0m\u001b[0;34m\u001b[0m\u001b[0m\n\u001b[0m",
      "\u001b[0;31mNameError\u001b[0m: name 'output' is not defined"
     ]
    }
   ],
   "source": [
    "comma = \",\"\n",
    "newColors = comma.join(colors)\n",
    "print (output)"
   ]
  },
  {
   "cell_type": "markdown",
   "metadata": {},
   "source": [
    "<span style=\"color:blue\">Expected Output:</span><br/>\n",
    "<span style=\"font: courier; font-size: 13px\">\n",
    "red,green,blue,orange,magenta,brown,white,black</span>"
   ]
  },
  {
   "cell_type": "markdown",
   "metadata": {},
   "source": [
    "### Problem 6:\n",
    "\n",
    "Write code that creates a list named `extColors` that includes all of the elements in `colors` plus the additional element \"**pink**\".\n",
    "\n",
    "Note that your code must use the list `colors` in the creation of the `extColors`.\n",
    "\n",
    "Print `extColors`."
   ]
  },
  {
   "cell_type": "code",
   "execution_count": 8,
   "metadata": {},
   "outputs": [
    {
     "name": "stdout",
     "output_type": "stream",
     "text": [
      "['red', 'green', 'blue', 'orange', 'magenta', 'brown', 'white', 'black', 'pink']\n"
     ]
    }
   ],
   "source": [
    "pink = ['pink']\n",
    "extColors = colors + pink\n",
    "print (extColors)"
   ]
  },
  {
   "cell_type": "markdown",
   "metadata": {},
   "source": [
    "<span style=\"color:blue\">Expected Output:</span><br/>\n",
    "<span style=\"font: courier; font-size: 13px\">\n",
    "['red', 'green', 'blue', 'orange', 'magenta', 'brown', 'white', 'black', 'pink']</span>"
   ]
  },
  {
   "cell_type": "markdown",
   "metadata": {},
   "source": [
    "### Problem 7:\n",
    "\n",
    "Write code that removes the element \"**black**\" from `locColors`.\n",
    "\n",
    "_DO NOT_ make any assumptions as to the location of \"black\" in the list.\n",
    "\n",
    "_DO_ assume that \"black\" _is present_ in the list _and_ it may be any element.\n",
    "\n",
    "Print `colors` and `locColors`. "
   ]
  },
  {
   "cell_type": "code",
   "execution_count": 9,
   "metadata": {},
   "outputs": [
    {
     "name": "stdout",
     "output_type": "stream",
     "text": [
      "['red', 'green', 'blue', 'orange', 'magenta', 'brown', 'white']\n"
     ]
    }
   ],
   "source": [
    "locColors = ['red','green','blue','black','orange','magenta','brown','white']\n",
    "locColors.remove('black')\n",
    "print (locColors)"
   ]
  },
  {
   "cell_type": "markdown",
   "metadata": {},
   "source": [
    "<span style=\"color:blue\">Expected Output:</span><br/>\n",
    "<span style=\"font: courier; font-size: 13px\">\n",
    "['red', 'green', 'blue', 'orange', 'magenta', 'brown', 'white']</span>"
   ]
  },
  {
   "cell_type": "markdown",
   "metadata": {},
   "source": [
    "### Problem 8:\n",
    "\n",
    "Write code that does the following:\n",
    "1. Create a tuple called `numsTuple` that has the elments **5, 13, 27, 89**.\n",
    "2. Print `numsTuple`\n",
    "3. Assign the total of the values in `numsTuple` to the variable `tot`.\n",
    "4. Print `tot` in the manner shown in Expected Output."
   ]
  },
  {
   "cell_type": "code",
   "execution_count": 10,
   "metadata": {},
   "outputs": [
    {
     "name": "stdout",
     "output_type": "stream",
     "text": [
      "(5, 13, 27, 89)\n",
      "Total of all elements in numsTuple:134\n"
     ]
    }
   ],
   "source": [
    "numsTuple = (5, 13, 27, 89)\n",
    "print (numsTuple)\n",
    "tot = sum(numsTuple)\n",
    "print (\"Total of all elements in numsTuple:\" +  str(tot))"
   ]
  },
  {
   "cell_type": "markdown",
   "metadata": {},
   "source": [
    "<span style=\"color:blue\">Expected Output:</span><br/>\n",
    "<span style=\"font: courier; font-size: 13px\">\n",
    "(5, 13, 27, 89)<br />\n",
    "Total of all elements in numsTuple: 134</span>"
   ]
  },
  {
   "cell_type": "markdown",
   "metadata": {},
   "source": [
    "### Problem 9:\n",
    "\n",
    "Write code that uses the `+` operator to append the string \"**o**\" to the `vowels` object (which was defined in the first cell).\n",
    "\n",
    "Print `vowels` before and _after_ you've added the \"o\"."
   ]
  },
  {
   "cell_type": "code",
   "execution_count": 11,
   "metadata": {},
   "outputs": [
    {
     "name": "stdout",
     "output_type": "stream",
     "text": [
      "before:('a', 'e', 'i')\n",
      "after:('a', 'e', 'i', 'o')\n"
     ]
    }
   ],
   "source": [
    "vowels = (\"a\", \"e\", \"i\")\n",
    "print (\"before:\" + str(vowels))\n",
    "o = (\"o\",)\n",
    "after = vowels + o\n",
    "print (\"after:\" + str(after))"
   ]
  },
  {
   "cell_type": "markdown",
   "metadata": {},
   "source": [
    "<span style=\"color:blue\">Expected Output:</span><br/>\n",
    "<span style=\"font: courier; font-size: 13px\">\n",
    "before: ('a', 'e', 'i')<br />\n",
    "after: ('a', 'e', 'i', 'o')</span>"
   ]
  },
  {
   "cell_type": "markdown",
   "metadata": {},
   "source": [
    "### Problem 10:\n",
    "\n",
    "Write code that uses the Turtle module to create a basic shape. You are free to create whatever shape you like."
   ]
  },
  {
   "cell_type": "code",
   "execution_count": 12,
   "metadata": {},
   "outputs": [
    {
     "data": {
      "application/vnd.jupyter.widget-view+json": {
       "model_id": "577c21e9cb404f97b7aebead84211669",
       "version_major": 2,
       "version_minor": 0
      },
      "text/plain": [
       "Turtle()"
      ]
     },
     "metadata": {},
     "output_type": "display_data"
    }
   ],
   "source": [
    "from mobilechelonian import Turtle\n",
    "            \n",
    "star = Turtle()\n",
    "star.right(75)\n",
    "star.forward(90)\n",
    "star.left(150)\n",
    "star.forward(90)\n",
    "star.left(150)\n",
    "star.forward(90)\n",
    "star.left(150)\n",
    "star.forward(90)\n",
    "star.left(135)\n",
    "star.forward(90)\n"
   ]
  },
  {
   "cell_type": "markdown",
   "metadata": {},
   "source": [
    "### <span style=\"color:dark green\">Run the cells below to test your code</span>"
   ]
  },
  {
   "cell_type": "code",
   "execution_count": 13,
   "metadata": {},
   "outputs": [],
   "source": [
    "import unittest\n",
    "\n",
    "class PS02_01 (unittest.TestCase):\n",
    "    def test_problem01(self):\n",
    "        self.assertEqual(char, 'a')\n",
    "        self.assertEqual(chars, 'ad')\n",
    "        self.assertEqual(lens,99)\n",
    "    \n",
    "class PS02_02 (unittest.TestCase):\n",
    "    def test_problem02(self):\n",
    "        s = 'Half a mile, half a mile, Half a mile onward, All in the valley of Death rode the six hundred'\n",
    "        self.assertEqual(newSent,s)\n",
    "        self.assertEqual(numWords,20)\n",
    "        \n",
    "class PS02_03 (unittest.TestCase):\n",
    "    def test_problem03(self):\n",
    "        s = 'Half a eugael, half a eugael, Half a eugael onward, All in the valley of Death rode the six hundred'\n",
    "        self.assertEqual(newStr,s)\n",
    "\n",
    "class PS02_04 (unittest.TestCase):\n",
    "    def test_problem04(self):\n",
    "        l = ['magenta', 'orange', 'blue', 'green']\n",
    "        self.assertEqual(myColors,l)\n",
    "\n",
    "class PS02_05 (unittest.TestCase):\n",
    "    def test_problem05(self):\n",
    "        s = 'red,green,blue,orange,magenta,brown,white,black'\n",
    "        self.assertEqual(newColors,s)\n",
    "\n",
    "class PS02_06 (unittest.TestCase):\n",
    "    def test_problem06(self):\n",
    "        l = ['red', 'green', 'blue', 'orange', 'magenta', 'brown', 'white', 'black', 'pink']\n",
    "        self.assertEqual(extColors,l)\n",
    "        \n",
    "class PS02_07 (unittest.TestCase):\n",
    "    def test_problem07(self):\n",
    "        l = ['red', 'green', 'blue', 'orange', 'magenta', 'brown', 'white']\n",
    "        self.assertEqual(locColors,l)\n",
    "        \n",
    "class PS02_08 (unittest.TestCase):\n",
    "    def test_problem08(self):\n",
    "        self.assertIsInstance(numsTuple,tuple)\n",
    "        self.assertEqual(tot,134)\n",
    "        \n",
    "class PS02_09 (unittest.TestCase):\n",
    "    def test_problem09(self):\n",
    "        self.assertIsInstance(vowels,tuple)\n",
    "        t = ('a', 'e', 'i', 'o')\n",
    "        self.assertEqual(vowels,t)"
   ]
  },
  {
   "cell_type": "code",
   "execution_count": 14,
   "metadata": {},
   "outputs": [
    {
     "name": "stderr",
     "output_type": "stream",
     "text": [
      "test_problem01 (__main__.PS02_01) ... FAIL\n",
      "test_problem02 (__main__.PS02_02) ... FAIL\n",
      "test_problem03 (__main__.PS02_03) ... ok\n",
      "test_problem04 (__main__.PS02_04) ... FAIL\n",
      "test_problem05 (__main__.PS02_05) ... ok\n",
      "test_problem06 (__main__.PS02_06) ... ok\n",
      "test_problem07 (__main__.PS02_07) ... ok\n",
      "test_problem08 (__main__.PS02_08) ... ok\n",
      "test_problem09 (__main__.PS02_09) ... FAIL\n",
      "\n",
      "======================================================================\n",
      "FAIL: test_problem01 (__main__.PS02_01)\n",
      "----------------------------------------------------------------------\n",
      "Traceback (most recent call last):\n",
      "  File \"/tmp/ipykernel_3232656/3028571688.py\", line 6, in test_problem01\n",
      "    self.assertEqual(chars, 'ad')\n",
      "AssertionError: 'a' != 'ad'\n",
      "- a\n",
      "+ ad\n",
      "?  +\n",
      "\n",
      "\n",
      "======================================================================\n",
      "FAIL: test_problem02 (__main__.PS02_02)\n",
      "----------------------------------------------------------------------\n",
      "Traceback (most recent call last):\n",
      "  File \"/tmp/ipykernel_3232656/3028571688.py\", line 13, in test_problem02\n",
      "    self.assertEqual(numWords,20)\n",
      "AssertionError: ['Half', 'a', 'mile,', 'half', 'a', 'mile[108 chars]red'] != 20\n",
      "\n",
      "======================================================================\n",
      "FAIL: test_problem04 (__main__.PS02_04)\n",
      "----------------------------------------------------------------------\n",
      "Traceback (most recent call last):\n",
      "  File \"/tmp/ipykernel_3232656/3028571688.py\", line 23, in test_problem04\n",
      "    self.assertEqual(myColors,l)\n",
      "AssertionError: Lists differ: ['black', 'white', 'brown', 'magenta', 'orange', 'blue', 'green', 'red'] != ['magenta', 'orange', 'blue', 'green']\n",
      "\n",
      "First differing element 0:\n",
      "'black'\n",
      "'magenta'\n",
      "\n",
      "First list contains 4 additional elements.\n",
      "First extra element 4:\n",
      "'orange'\n",
      "\n",
      "- ['black', 'white', 'brown', 'magenta', 'orange', 'blue', 'green', 'red']\n",
      "+ ['magenta', 'orange', 'blue', 'green']\n",
      "\n",
      "======================================================================\n",
      "FAIL: test_problem09 (__main__.PS02_09)\n",
      "----------------------------------------------------------------------\n",
      "Traceback (most recent call last):\n",
      "  File \"/tmp/ipykernel_3232656/3028571688.py\", line 49, in test_problem09\n",
      "    self.assertEqual(vowels,t)\n",
      "AssertionError: Tuples differ: ('a', 'e', 'i') != ('a', 'e', 'i', 'o')\n",
      "\n",
      "Second tuple contains 1 additional elements.\n",
      "First extra element 3:\n",
      "'o'\n",
      "\n",
      "- ('a', 'e', 'i')\n",
      "+ ('a', 'e', 'i', 'o')\n",
      "?               +++++\n",
      "\n",
      "\n",
      "----------------------------------------------------------------------\n",
      "Ran 9 tests in 0.007s\n",
      "\n",
      "FAILED (failures=4)\n"
     ]
    },
    {
     "data": {
      "text/plain": [
       "<unittest.main.TestProgram at 0x7fddcc2d6be0>"
      ]
     },
     "execution_count": 14,
     "metadata": {},
     "output_type": "execute_result"
    }
   ],
   "source": [
    "unittest.main(argv=['first-arg-is-ignored'], exit=False, verbosity=2)"
   ]
  },
  {
   "cell_type": "code",
   "execution_count": null,
   "metadata": {},
   "outputs": [],
   "source": []
  }
 ],
 "metadata": {
  "kernelspec": {
   "display_name": "Python 3 (ipykernel)",
   "language": "python",
   "name": "python3"
  },
  "language_info": {
   "codemirror_mode": {
    "name": "ipython",
    "version": 3
   },
   "file_extension": ".py",
   "mimetype": "text/x-python",
   "name": "python",
   "nbconvert_exporter": "python",
   "pygments_lexer": "ipython3",
   "version": "3.9.6"
  }
 },
 "nbformat": 4,
 "nbformat_minor": 4
}
