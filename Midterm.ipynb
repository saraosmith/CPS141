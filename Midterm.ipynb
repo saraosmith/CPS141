{
 "cells": [
  {
   "cell_type": "code",
   "execution_count": 5,
   "id": "18c80087",
   "metadata": {},
   "outputs": [
    {
     "name": "stdout",
     "output_type": "stream",
     "text": [
      "Please enter Region Name: Mideast\n",
      "Mideast\n",
      "Economic Statistics for the  Mideast  region: \n",
      "States in Region:    D.O.C, Delaware, Maryland, New_Jersey, New_York, Pennsylvania\n",
      "Total Population:    48.2067  million\n",
      "Average Population:  8.0345  million\n",
      "Total GDP:           2348.03  billion\n",
      "Average PI:          47887.83\n"
     ]
    }
   ],
   "source": [
    "state_data = open(\"Economic_Data_2010.txt\",\"r\")\n",
    "\n",
    "region = input(\"Please enter Region Name: \")\n",
    "empty_flag = False\n",
    "states = []\n",
    "population = {}\n",
    "gdp = {}\n",
    "income = {}\n",
    "for line in state_data:\n",
    "    data = line.split(',')\n",
    "    if data[1] == region:\n",
    "        states.append(data[0])\n",
    "        population[data[0]] = float(data[2])\n",
    "        gdp[data[0]] = float(data[3])\n",
    "        income[data[0]] = float(data[4])\n",
    "        empty_flag = True\n",
    "\n",
    "if empty_flag:\n",
    "    \n",
    "    states.sort()\n",
    "    region_states = \"\"\n",
    "    for state in states:\n",
    "        region_states += state + \", \"\n",
    "    region_states = region_states[:-2]\n",
    "    \n",
    "    print(\"Economic Statistics for the \", region, \" region: \")\n",
    "    print(\"States in Region:   \", region_states)\n",
    "    print(\"Total Population:   \", round(calc_total_pop(population), 4), \" million\")\n",
    "    print(\"Average Population: \", round(calc_total_pop(population)/len(states), 4), \" million\")\n",
    "    print(\"Total GDP:          \", round(calc_total_gdp(gdp), 4), \" billion\")\n",
    "    print(\"Average PI:         \", round((calc_total_phi(income)/calc_total_pop(population))*1000, 2))\n",
    "else:\n",
    "    print(\"Invalid Region\")\n",
    "\n",
    "state_data.close()\n",
    "\n",
    "# %%\n",
    "def calc_total_pop(pop_dict):\n",
    "    total_pop = 0\n",
    "    for key in pop_dict:\n",
    "        total_pop += pop_dict[key]\n",
    "    return total_pop\n",
    "\n",
    "# %%\n",
    "def calc_total_gdp(gdp_dict):\n",
    "    total_gdp = 0\n",
    "    for key in gdp_dict:\n",
    "        total_gdp += gdp_dict[key]\n",
    "    return total_gdp\n",
    "\n",
    "# %%\n",
    "def calc_total_phi(phi_dict):\n",
    "    total_pi = 0\n",
    "    for key in phi_dict:\n",
    "        total_pi += phi_dict[key]\n",
    "    return total_pi"
   ]
  },
  {
   "cell_type": "code",
   "execution_count": null,
   "id": "35abf952",
   "metadata": {},
   "outputs": [],
   "source": []
  }
 ],
 "metadata": {
  "kernelspec": {
   "display_name": "Python 3 (ipykernel)",
   "language": "python",
   "name": "python3"
  },
  "language_info": {
   "codemirror_mode": {
    "name": "ipython",
    "version": 3
   },
   "file_extension": ".py",
   "mimetype": "text/x-python",
   "name": "python",
   "nbconvert_exporter": "python",
   "pygments_lexer": "ipython3",
   "version": "3.9.6"
  }
 },
 "nbformat": 4,
 "nbformat_minor": 5
}
