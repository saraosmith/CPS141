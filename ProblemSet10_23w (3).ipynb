{
 "cells": [
  {
   "cell_type": "markdown",
   "metadata": {},
   "source": [
    "## <span style=\"color:blue\">Problem Set 10</span>"
   ]
  },
  {
   "cell_type": "raw",
   "metadata": {},
   "source": [
    "<Sara Smith>"
   ]
  },
  {
   "cell_type": "markdown",
   "metadata": {},
   "source": [
    "### Overview\n",
    "The objective of this problem set is to gain an understanding of [object-oriented programming](https://en.wikipedia.org/wiki/Object-oriented_programming#Features) principles.\n",
    "\n",
    "The focus is on classes and their instances (i.e. objects).\n",
    "\n",
    "\n",
    "        Book()\n",
    "          -> subclass PaperBook()\n",
    "          -> subclass ElectronicBook()\n",
    "        Library()\n",
    "\n",
    "A Library instance will keep track of a list of Book instances that are owned by that Library.\n",
    "A Book instance will keep track of whether it's currently checked out.\n",
    "\n",
    "As you work through the problems you should take an incremental and iterative approach to developing the required superclasses and subclasses. Keep in mind that you will often have to re-run cells as you update your code.\n",
    "\n",
    "**Keep in mind that you will often have to re-run previous cells to refresh class definitions as you work through the problems.**\n",
    "\n",
    "---"
   ]
  },
  {
   "cell_type": "markdown",
   "metadata": {},
   "source": [
    "### Problem 1\n",
    "\n",
    "Create a class named **`Book`**. Each instance of Book should have three _instance_ variables: \n",
    "\n",
    "- `title`\n",
    "- `author`\n",
    "- `checked_out`\n",
    "\n",
    "The Book _constructor_ takes two formal parameters: _title_ and _author_. Use these parameters to initialize instance variables `title` and `author` respectively.  The third instance variable, `checked_out`, must be initialized to False."
   ]
  },
  {
   "cell_type": "code",
   "execution_count": 95,
   "metadata": {},
   "outputs": [],
   "source": [
    "class Book:\n",
    "# add your code here\n",
    "    def __init__(self, title, author):\n",
    "        self.title = title\n",
    "        self.author = author\n",
    "        self.checked_out = False\n",
    "    \n",
    "    def __str__(self):\n",
    "        return f\"{self.title} by {self.author}\"\n",
    "    \n",
    "    def checkOut(self):\n",
    "        self.checked_out = True\n",
    "        \n",
    "    def checkIn(self, library):\n",
    "        if library.willAccept(self):\n",
    "            self.checked_out = False\n",
    "            \n",
    "    def canCheckOut(self):\n",
    "        self.checked_out = False"
   ]
  },
  {
   "cell_type": "code",
   "execution_count": 96,
   "metadata": {},
   "outputs": [
    {
     "name": "stdout",
     "output_type": "stream",
     "text": [
      "The book title is Kokoro\n",
      "The author of the book is Natsume Souseki\n",
      "The book is not checked out\n",
      "Kokoro by Natsume Souseki\n"
     ]
    }
   ],
   "source": [
    "# Use this cell to test the Book class\n",
    "mybook = Book('Kokoro','Natsume Souseki')\n",
    "print('The book title is',mybook.title)\n",
    "print('The author of the book is',mybook.author)\n",
    "if mybook.checked_out == False:\n",
    "    v = 'is not'\n",
    "else:\n",
    "    v = 'is'\n",
    "print('The book',v,'checked out')\n",
    "print(mybook)"
   ]
  },
  {
   "cell_type": "markdown",
   "metadata": {},
   "source": [
    "<span style=\"color:blue\">Expected output:</span><br/>\n",
    "<span style=\"font: courier; font-size: 13px\">\n",
    "The book title is Kokoro<br/>\n",
    "The author of the book is Natsume Souseki<br/>\n",
    "The book is not checked out<br/>\n",
    "<\\__main\\__.Book object at 0x009715F0><br/>\n",
    "    \n",
    "note: Until you write a `__str__()` method in Book (in the next Problem), an object reference will printed. Your object reference will be different than the one shown here.</span>   "
   ]
  },
  {
   "cell_type": "markdown",
   "metadata": {},
   "source": [
    "### Problem 2\n",
    "\n",
    "Add a `__str__()` method to the `Book` class in the Problem 1 code cell.\n",
    "\n",
    "When the built-in `print()` function is called on an object, Python looks for the object's `__str__()` method. This method should return relevant information about the object.\n",
    "\n",
    "Write your `__str__()` method such that it returns the string `{self.title} by {self.author}` (as is shown in the Expected Output."
   ]
  },
  {
   "cell_type": "code",
   "execution_count": 97,
   "metadata": {},
   "outputs": [
    {
     "name": "stdout",
     "output_type": "stream",
     "text": [
      "The book title is Kokoro\n",
      "The author of the book is Natsume Souseki\n",
      "The book is not checked out\n",
      "Kokoro by Natsume Souseki\n"
     ]
    }
   ],
   "source": [
    "# Use this cell to verify that the __str__ method of the Book class is working correctly\n",
    "mybook = Book('Kokoro','Natsume Souseki')\n",
    "print('The book title is',mybook.title)\n",
    "print('The author of the book is',mybook.author)\n",
    "if mybook.checked_out == False:\n",
    "    v = 'is not'\n",
    "else:\n",
    "    v = 'is'\n",
    "print('The book',v,'checked out')\n",
    "print(mybook)"
   ]
  },
  {
   "cell_type": "markdown",
   "metadata": {},
   "source": [
    "<span style=\"color:blue\">Expected output:</span><br/>\n",
    "<span style=\"font: courier; font-size: 13px\">\n",
    "The book title is Kokoro<br/>\n",
    "The author of the book is Natsume Souseki<br/>\n",
    "The book is not checked out<br/>\n",
    "Kokoro by Natsume Souseki</span> "
   ]
  },
  {
   "cell_type": "markdown",
   "metadata": {},
   "source": [
    "### Problem 3\n",
    "\n",
    "Create a class named **`Library`**. This class will have two instance variables:\n",
    "\n",
    "- `books` which is initialized to an empty list \n",
    "- `tornPageTolerance` which is initialized to 5 \n",
    "\n",
    "The _constructor_ for Library does not require any arguments other than self."
   ]
  },
  {
   "cell_type": "code",
   "execution_count": 98,
   "metadata": {},
   "outputs": [],
   "source": [
    "class Library:\n",
    "# add your code here\n",
    "    def __init__(self):\n",
    "        self.books = []\n",
    "        self.tornPageTolerance = 5\n",
    "        \n",
    "    def addBook(self, book):\n",
    "        self.books.append(book)\n",
    "\n",
    "    def findBooksBy(self, author):\n",
    "        return [x for x in self.books if author == x.author]\n",
    "    \n",
    "    def willAccept(self, book):\n",
    "        isit = isinstance(book, PaperBook)\n",
    "        if isit:\n",
    "            return book.numTornPages < self.tornPageTolerance\n",
    "        return True\n",
    "    def getBooksYouCanCheckOut(self):\n",
    "        array = []\n",
    "        for book in self.books:\n",
    "            if book.checked_out == False:\n",
    "                array.append(book)\n",
    "                return array"
   ]
  },
  {
   "cell_type": "code",
   "execution_count": 99,
   "metadata": {},
   "outputs": [
    {
     "name": "stdout",
     "output_type": "stream",
     "text": [
      "<__main__.Library object at 0x7f88d837d100>\n"
     ]
    }
   ],
   "source": [
    "# Use this cell to test the Library class\n",
    "mylibrary = Library()\n",
    "print (mylibrary)"
   ]
  },
  {
   "cell_type": "markdown",
   "metadata": {},
   "source": [
    "<span style=\"color:blue\">Sample output:</span><br/>\n",
    "<span style=\"font: courier; font-size: 13px\">\n",
    "<\\__main\\__.Library object at 0x7fe5b42604a8><br/>\n",
    "\n",
    "note: the reference address of your Library object will be different than what is shown here</span> "
   ]
  },
  {
   "cell_type": "markdown",
   "metadata": {},
   "source": [
    "### Problem 4\n",
    "\n",
    "Go back to the cell where you created the **`Library`** class. Add the _methods_ listed below.\n",
    "\n",
    "- `addBook()`\n",
    "  1. Accepts the parameter *book* which is an instance of Book\n",
    "  2. Append *book* to *self.books*\n",
    "  3. Returns nothing\n",
    "  \n",
    "\n",
    "- `findBooksBy()`\n",
    "  1. Accepts the string formal parameter author\n",
    "  2. Searchs the list *self.books*\n",
    "  3. Returns a list of all books whose author attribute matches the author parameter. \n",
    "\n",
    "After you add the methods, make sure you **re-run the cell that contains the `Library` class**."
   ]
  },
  {
   "cell_type": "code",
   "execution_count": 100,
   "metadata": {},
   "outputs": [
    {
     "name": "stdout",
     "output_type": "stream",
     "text": [
      "Books by James Michener\n",
      "   Chesapeake\n",
      "   Hawaii\n",
      "Books by James Baldwin\n",
      "   Another Country\n",
      "   Go Tell It to the Mountain\n"
     ]
    }
   ],
   "source": [
    "# Use this cell to test the addBook and findBooksBy emthods\n",
    "books =[('Chesapeake','James A Michener'),('A Wild Sheep Chase', 'Murakami Haruki'),\n",
    "    ('Kappa', 'Akutagawa Ryuunosuke'),('Hawaii', 'James A Michener'),\n",
    "    ('Another Country', 'James Baldwin'),('Go Tell It to the Mountain', 'James Baldwin'),\n",
    "    ('Jane Eyre', 'Charlotte Bronte')]\n",
    "\n",
    "mylibrary = Library()\n",
    "for book in books:\n",
    "    mybook = Book(book[0],book[1])\n",
    "    mylibrary.addBook(mybook)\n",
    "\n",
    "print('Books by James Michener')\n",
    "for book in mylibrary.findBooksBy(\"James A Michener\"):\n",
    "    print('  ',book.title)\n",
    "\n",
    "print('Books by James Baldwin')\n",
    "for book in mylibrary.findBooksBy(\"James Baldwin\"):\n",
    "    print('  ',book.title)"
   ]
  },
  {
   "cell_type": "markdown",
   "metadata": {},
   "source": [
    "<span style=\"color:blue\">Expected output:</span><br/>\n",
    "<span style=\"font: courier; font-size: 13px\">\n",
    "Books by James Michener<br/>\n",
    "&nbsp;&nbsp;&nbsp;Chesapeake<br/>\n",
    "&nbsp;&nbsp;&nbsp;Hawaii<br/>\n",
    "Books by James Baldwin<br/>\n",
    "&nbsp;&nbsp;&nbsp;Another Country<br/>\n",
    "&nbsp;&nbsp;&nbsp;Go Tell It to the Mountain</span> "
   ]
  },
  {
   "cell_type": "markdown",
   "metadata": {},
   "source": [
    "### Problem 5\n",
    "\n",
    "Define a _subclass_ of `Book` called **`PaperBook`**.\n",
    "\n",
    "Since `PaperBook` is a subclass of `Book`, it inherits the attributes and methods of `Book`. \n",
    "\n",
    "The `PaperBook` subclass has the following additional characteristics:\n",
    "\n",
    "- constructor `__init__()` method:\n",
    "  - accepts the formal parameters _title_ and _author_\n",
    "  - it is not necessary to explicitly define or initialize title and author for `PaperBook`\n",
    "  - instead, call `Book`'s constructor to set `PaperBook`'s title and author\n",
    "  - add an attribute called **_numTornPages_** and initialize it to 0\n",
    "\n",
    "\n",
    "- `ripPage()` method\n",
    "  - increments **_numTornPages_** by 1\n",
    "  \n",
    "  \n",
    "- `__str__()` method\n",
    "  - returns the string:\n",
    "  {self.title} + \" by \" + {self.author} + \" has \"+ {self.numTornPages} + \" torn page(s)\""
   ]
  },
  {
   "cell_type": "code",
   "execution_count": 103,
   "metadata": {},
   "outputs": [],
   "source": [
    "class PaperBook(Book):\n",
    "# add your code here\n",
    "    def __init__(self, title, author):\n",
    "        self.title = title\n",
    "        self.author = author\n",
    "        self.numTornPages = 0\n",
    "\n",
    "    def ripPage(self):\n",
    "        self.numTornPages += 1\n",
    "\n",
    "    def __str__(self):\n",
    "        return \"{} by {}, {} torn page(s)\".format(self.title, self.author, self.numTornPages)"
   ]
  },
  {
   "cell_type": "code",
   "execution_count": 104,
   "metadata": {},
   "outputs": [
    {
     "name": "stdout",
     "output_type": "stream",
     "text": [
      "Snow Country by Kawabata Yasunari, 0 torn page(s)\n",
      "Snow Country by Kawabata Yasunari, 1 torn page(s)\n"
     ]
    }
   ],
   "source": [
    "# Use this cell to these the PaperBook class\n",
    "paperbook = PaperBook('Snow Country','Kawabata Yasunari')\n",
    "print (paperbook)\n",
    "paperbook.ripPage()\n",
    "print(paperbook)"
   ]
  },
  {
   "cell_type": "markdown",
   "metadata": {},
   "source": [
    "<span style=\"color:blue\">Expected output:</span><br/>\n",
    "<span style=\"font: courier; font-size: 13px\">\n",
    "Snow Country by Kawabata Yasunari has 0 torn page(s).<br/>\n",
    "Snow Country by Kawabata Yasunari has 1 torn page(s).</span>"
   ]
  },
  {
   "cell_type": "markdown",
   "metadata": {},
   "source": [
    "### Problem 6\n",
    "\n",
    "Define a subclass of `Book` called **`ElectronicBook`**. Add the following method to the `ElectronicBook` subclass:\n",
    "\n",
    "```\n",
    "def canCheckOut(self): \n",
    "   return True\n",
    "```\n",
    "\n",
    "`ElectronicBook` doesn't need a constructor method because it inherits `Book`'s constructor. The only difference between `PaperBook` and `ElectronicBook` subclasses is that `PaperBook` has the instance variable **_numTornPages_**.\n",
    "\n",
    "This is why it was necessary for `PaperBook` to define a constructor and initialize **_title_** and **_author_** by explicitly calling the `Book` constructor. Since there are no instance variables for `ElectronicBook` there is no need to define a constructor."
   ]
  },
  {
   "cell_type": "code",
   "execution_count": 105,
   "metadata": {},
   "outputs": [],
   "source": [
    "class ElectronicBook(Book):\n",
    "# add your code here\n",
    "    def __init__(self, title, author):\n",
    "        self.title = title\n",
    "        self.author = author\n",
    "        self.checked_out = False\n",
    "        \n",
    "    def canCheckOut(self):\n",
    "        return True\n",
    "    "
   ]
  },
  {
   "cell_type": "code",
   "execution_count": 106,
   "metadata": {},
   "outputs": [
    {
     "name": "stdout",
     "output_type": "stream",
     "text": [
      "Pride and Prejudice and Zombies by Seth Grahame-Smith\n",
      "True\n"
     ]
    }
   ],
   "source": [
    "# Use this code to test the ElectronicBook class.\n",
    "ebook = ElectronicBook('Pride and Prejudice and Zombies',\"Seth Grahame-Smith\")\n",
    "print(ebook)\n",
    "print(ebook.canCheckOut())"
   ]
  },
  {
   "cell_type": "markdown",
   "metadata": {},
   "source": [
    "<span style=\"color:blue\">Expected output:</span><br/>\n",
    "<span style=\"font: courier; font-size: 13px\">\n",
    "Pride and Prejudice and Zombies by Seth Grahame-Smith<br/>\n",
    "True</span> "
   ]
  },
  {
   "cell_type": "markdown",
   "metadata": {},
   "source": [
    "### Problem 7\n",
    "\n",
    "Add mechanisms for checking books out of and into the library.\n",
    "\n",
    "Navigate back up to the cell where you created the `Library` class and add the **`willAccept()`** method (explained below).\n",
    "\n",
    "`willAccept()` accepts the formal parameter **_book_**, which must be a `PaperBook` object.\n",
    "\n",
    "- Use the built-in [`isinstance()`](https://www.w3schools.com/python/ref_func_isinstance.asp) function to check that _book_ is a `PaperBook` instance.\n",
    "    - If it is, return True if and only if the book has fewer torn pages library's tolerance level defined by the Library attribute *tornPageTolerance*. Otherwise, return False.\n",
    "- If the book is NOT a PaperBook instance, return True.\n",
    "\n",
    "Remember to **re-run the cell containing the `Library` class** each time you modify it. "
   ]
  },
  {
   "cell_type": "code",
   "execution_count": 107,
   "metadata": {},
   "outputs": [
    {
     "name": "stdout",
     "output_type": "stream",
     "text": [
      "Pride and Prejudice and Zombies has 0 torn pages so it has been accepted at the Library\n",
      "Pride and Prejudice and Zombies has 6 torn pages so it has been not accepted at the Library\n"
     ]
    }
   ],
   "source": [
    "# Use this code to test the willAccept method when within the torn page limit.\n",
    "pbook = PaperBook('Pride and Prejudice and Zombies',\"Seth Grahame-Smith\")\n",
    "mylibrary = Library()\n",
    "result = mylibrary.willAccept(pbook)\n",
    "print(pbook.title,'has',pbook.numTornPages,'torn pages',end=' ')\n",
    "if result == True:\n",
    "    print('so it has been accepted at the Library')\n",
    "else:\n",
    "    print('so it has been no accepted at the Library')\n",
    "    \n",
    "# Test when the torn page limit is exceeded\n",
    "for i in range(0,6):\n",
    "    pbook.ripPage()\n",
    "mylibrary = Library()\n",
    "result = mylibrary.willAccept(pbook)\n",
    "print(pbook.title,'has',pbook.numTornPages,'torn pages',end=' ')\n",
    "if result == True:\n",
    "    print('so it has been accepted at the Library')\n",
    "else:\n",
    "    print('so it has been not accepted at the Library')"
   ]
  },
  {
   "cell_type": "markdown",
   "metadata": {},
   "source": [
    "<span style=\"color:blue\">Expected output:</span><br/>\n",
    "<span style=\"font: courier; font-size: 13px\">\n",
    "Pride and Prejudice and Zombies has 0 torn pages so it has been accepted at the Library<br/>\n",
    "Pride and Prejudice and Zombies has 6 torn pages so it has been not accepted at the Library</span> "
   ]
  },
  {
   "cell_type": "markdown",
   "metadata": {},
   "source": [
    "### Problem 8\n",
    "\n",
    "Navigate back to the cell containing the **```Book```** class and add the methods described below. \n",
    "\n",
    "Don't forget to **re-run both the `Book` class and `PaperBook` class cells** after you add the new methods.\n",
    "\n",
    "- `checkOut()` \n",
    "  1. Accepts no parameters.\n",
    "  2. Sets the current book's (i.e. self's) _`checked_out`_ attribute to True.\n",
    "  \n",
    "  \n",
    "- `checkIn()` \n",
    "  1. Accepts the formal parameter _`library`_ which should be a Library instance.\n",
    "  2. Call the library's `willAccept()` method with the current book (i.e. self).\n",
    "  3. If the library will accept it, set the *checked_out* attribute of the book to False.\n",
    "  4. Otherwise, do not modify it.\n",
    "  \n",
    "  \n",
    "- `canCheckOut()`\n",
    "  1. Accepts no parameters.\n",
    "  2. If the _`checked_out`_ attribute is False then return True.\n",
    "  3. Otherwise return False.\n",
    "  \n",
    "There is no need to modify `PaperBook` or `ElectronicBook` subclasses."
   ]
  },
  {
   "cell_type": "code",
   "execution_count": 108,
   "metadata": {},
   "outputs": [
    {
     "name": "stdout",
     "output_type": "stream",
     "text": [
      "Pride and Prejudice and Zombies cannot be checked out\n",
      "Pride and Prejudice and Zombies cannot be checked out\n",
      "Pride and Prejudice and Zombies cannot be checked out\n"
     ]
    }
   ],
   "source": [
    "# Use this code to test the methods you've added to the Book class\n",
    "pbook = PaperBook('Pride and Prejudice and Zombies',\"Seth Grahame-Smith\")\n",
    "mylibrary = Library()\n",
    "\n",
    "def testCheckOut(pbook):\n",
    "    if pbook.canCheckOut() == True:\n",
    "        return pbook.title + ' can be checked out'\n",
    "    return pbook.title + ' cannot be checked out'\n",
    "\n",
    "print(testCheckOut(pbook))\n",
    "pbook.checkOut()\n",
    "print(testCheckOut(pbook))\n",
    "pbook.checkIn(mylibrary)\n",
    "print(testCheckOut(pbook))"
   ]
  },
  {
   "cell_type": "markdown",
   "metadata": {},
   "source": [
    "<span style=\"color:blue\">Expected output:</span><br/>\n",
    "<span style=\"font: courier; font-size: 13px\">\n",
    "Pride and Prejudice and Zombies can be checked out<br/>\n",
    "Pride and Prejudice and Zombies cannot be checked out<br/>\n",
    "Pride and Prejudice and Zombies can be checked out</span> "
   ]
  },
  {
   "cell_type": "markdown",
   "metadata": {},
   "source": [
    "### Problem 9\n",
    "\n",
    "Navigate back up to the `Library` class cell and add the method described below.\n",
    "\n",
    "Remember to **re-run the cell** after you add the method.\n",
    "\n",
    "`getBooksYouCanCheckOut()`\n",
    "- Accepts no parameters.\n",
    "- Returns a list containing every book in the library that can be checked out."
   ]
  },
  {
   "cell_type": "code",
   "execution_count": 109,
   "metadata": {},
   "outputs": [
    {
     "name": "stdout",
     "output_type": "stream",
     "text": [
      "Pride and Prejudice and Zombies\n",
      "\n",
      "Pride and Prejudice and Zombies\n"
     ]
    }
   ],
   "source": [
    "# Use this cell to test the getBooksYouCanCheckOut method\n",
    "mylibrary = Library()\n",
    "book = Book('Pride and Prejudice and Zombies',\"Seth Grahame-Smith\")\n",
    "mylibrary.addBook(book)\n",
    "book = Book('Abraham Lincoln:Vampire Hunter',\"Seth Grahame-Smith\")\n",
    "mylibrary.addBook(book)\n",
    "for book in mylibrary.getBooksYouCanCheckOut():\n",
    "    print(book.title)\n",
    "print()\n",
    "mylibrary = Library()\n",
    "book = Book('Pride and Prejudice and Zombies',\"Seth Grahame-Smith\")\n",
    "mylibrary.addBook(book)\n",
    "book = Book('Abraham Lincoln:Vampire Hunter',\"Seth Grahame-Smith\")\n",
    "book.checkOut()\n",
    "mylibrary.addBook(book)\n",
    "for book in mylibrary.getBooksYouCanCheckOut():\n",
    "    print(book.title)"
   ]
  },
  {
   "cell_type": "markdown",
   "metadata": {},
   "source": [
    "<span style=\"color:blue\">Expected output:</span><br/>\n",
    "<span style=\"font: courier; font-size: 13px\">\n",
    "Pride and Prejudice and Zombies<br/>\n",
    "Abraham Lincoln:Vampire Hunter<br/><br/>\n",
    "Pride and Prejudice and Zombies</span> "
   ]
  },
  {
   "cell_type": "markdown",
   "metadata": {},
   "source": [
    "### Problem 10\n",
    "\n",
    "Do the following: \n",
    "- Create an _instance_ of `Library` and call it **`baileyLibrary`**\n",
    "- Using `pbook_data`, create a list of `Book` _instances_ called `paperBooks`\n",
    "- Add the `Book` instances from `paperBooks` to `baileyLibrary`\n",
    "- Print the titles of books in `baileyLibrary` that were authored by Steven Pinker"
   ]
  },
  {
   "cell_type": "code",
   "execution_count": 110,
   "metadata": {},
   "outputs": [
    {
     "name": "stdout",
     "output_type": "stream",
     "text": [
      "Books authored by Steven Pinker:\n",
      "[<__main__.Book object at 0x7f88d83c71f0>, <__main__.Book object at 0x7f88d848cfd0>, <__main__.Book object at 0x7f88d848cf10>]\n"
     ]
    }
   ],
   "source": [
    "pbook_data = [('How the Mind Works', 'Steven Pinker'),\n",
    "        ('Always Leading, Forever Valiant', 'Kim Clarke'),\n",
    "        ('The Language Instinct: How the Mind Creates Language', 'Steven Pinker'),\n",
    "        ('The Last Lecture', 'Randy Pausch'),\n",
    "        ('The Stuff of Thought: Language as a Window into Human Nature', 'Steven Pinker')]\n",
    "# write your code below\n",
    "    \n",
    "baileyLibrary = Library()\n",
    "for paperBooks in pbook_data:\n",
    "    book = Book(paperBooks[0], paperBooks[1])\n",
    "    baileyLibrary.addBook(book)\n",
    "print(\"Books authored by Steven Pinker:\")\n",
    "print(f\"{baileyLibrary.findBooksBy('Steven Pinker')}\")"
   ]
  },
  {
   "cell_type": "markdown",
   "metadata": {},
   "source": [
    "<span style=\"color:blue\">Expected output:</span><br/>\n",
    "<span style=\"font: courier; font-size: 13px\">\n",
    "Books authored by Steven Pinker:<br/>\n",
    "How the Mind Works<br/>\n",
    "The Language Instinct: How the Mind Creates Language<br/>\n",
    "The Stuff of Thought: Language as a Window into Human Nature</span> "
   ]
  },
  {
   "cell_type": "code",
   "execution_count": null,
   "metadata": {},
   "outputs": [],
   "source": []
  }
 ],
 "metadata": {
  "kernelspec": {
   "display_name": "Python 3 (ipykernel)",
   "language": "python",
   "name": "python3"
  },
  "language_info": {
   "codemirror_mode": {
    "name": "ipython",
    "version": 3
   },
   "file_extension": ".py",
   "mimetype": "text/x-python",
   "name": "python",
   "nbconvert_exporter": "python",
   "pygments_lexer": "ipython3",
   "version": "3.9.6"
  }
 },
 "nbformat": 4,
 "nbformat_minor": 2
}
