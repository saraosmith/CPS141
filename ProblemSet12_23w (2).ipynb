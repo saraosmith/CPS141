{
 "cells": [
  {
   "cell_type": "markdown",
   "metadata": {},
   "source": [
    "## <span style=\"color:blue\">Problem Set 12</span>"
   ]
  },
  {
   "cell_type": "raw",
   "metadata": {},
   "source": [
    "<Sara Smith>"
   ]
  },
  {
   "cell_type": "markdown",
   "metadata": {},
   "source": [
    "### Problem 1\n",
    "\n",
    "Write a **non-recursive function** called `power(num,exp)` where the `num` parameter is an integer that the function will raise to the power of the `exp` parameter, which is also an integer. The function will return the equivalent of `num ** exp`.\n",
    "\n",
    "The function only needs to handle positive values for `num` or `exp`, and does not need to accommodate negative values.\n",
    "\n",
    "You **must not** use `**` (the exponentiation operator), or any imported modules or functions."
   ]
  },
  {
   "cell_type": "code",
   "execution_count": 15,
   "metadata": {},
   "outputs": [],
   "source": [
    "# write your non-recursive function here\n",
    "def power(num, exp):\n",
    "    result = 1\n",
    "    for i in range(exp):\n",
    "        result *= num\n",
    "    return result"
   ]
  },
  {
   "cell_type": "code",
   "execution_count": 16,
   "metadata": {},
   "outputs": [
    {
     "name": "stdout",
     "output_type": "stream",
     "text": [
      "1 to the 0th power is 1\n",
      "1 to the 1st power is 1\n",
      "2 to the 0th power is 1\n",
      "2 to the 1st power is 2\n",
      "2 to the 8th power is 256\n",
      "2 to the 15th power is 32768\n"
     ]
    }
   ],
   "source": [
    "# do not change the code below\n",
    "# use it to test your function\n",
    "print(\"1 to the 0th power is\",power(1,0))\n",
    "print(\"1 to the 1st power is\",power(1,1))\n",
    "print(\"2 to the 0th power is\",power(2,0))\n",
    "print(\"2 to the 1st power is\",power(2,1))\n",
    "print(\"2 to the 8th power is\",power(2,8))\n",
    "print(\"2 to the 15th power is\",power(2,15))"
   ]
  },
  {
   "cell_type": "markdown",
   "metadata": {},
   "source": [
    "<span style=\"color:blue\">Expected Output:</span><br/>\n",
    "<span style=\"font: courier; font-size: 13px\">\n",
    "1 to the 0th power is 1<br />\n",
    "1 to the 1st power is 1<br />\n",
    "2 to the 0th power is 1<br />\n",
    "2 to the 1st power is 2<br />\n",
    "2 to the 8th power is 256<br />\n",
    "2 to the 15th power is 32768</span>"
   ]
  },
  {
   "cell_type": "markdown",
   "metadata": {},
   "source": [
    "### Problem 2\n",
    "\n",
    "Write a **recursive function** called `power(num,exp)` where the `num` parameter is an integer that the function will raise to the power of the `exp` parameter, which is also an integer. The function will return the equivalent of `num ** exp`.\n",
    "\n",
    "The function only needs to handle positive values for `num` or `exp`, and does not need to accommodate negative values.\n",
    "\n",
    "You **must not** use `**` (the exponentiation operator), or any imported modules or functions."
   ]
  },
  {
   "cell_type": "code",
   "execution_count": null,
   "metadata": {},
   "outputs": [],
   "source": [
    "# write your recursive function here\n",
    "def power(num,exp):\n",
    "    if exp == 0:\n",
    "        return 1\n",
    "    return num * power(num,exp-1)"
   ]
  },
  {
   "cell_type": "code",
   "execution_count": null,
   "metadata": {},
   "outputs": [],
   "source": [
    "# do not change the code below\n",
    "# use it to test your function\n",
    "print(\"1 to the 0th power is\",power(1,0))\n",
    "print(\"1 to the 1st power is\",power(1,1))\n",
    "print(\"2 to the 0th power is\",power(2,0))\n",
    "print(\"2 to the 1st power is\",power(2,1))\n",
    "print(\"2 to the 8th power is\",power(2,8))\n",
    "print(\"2 to the 15th power is\",power(2,15))"
   ]
  },
  {
   "cell_type": "markdown",
   "metadata": {},
   "source": [
    "<span style=\"color:blue\">Expected Output:</span><br/>\n",
    "<span style=\"font: courier; font-size: 13px\">\n",
    "1 to the 0th power is 1<br />\n",
    "1 to the 1st power is 1<br />\n",
    "2 to the 0th power is 1<br />\n",
    "2 to the 1st power is 2<br />\n",
    "2 to the 8th power is 256<br />\n",
    "2 to the 15th power is 32768</span>"
   ]
  },
  {
   "cell_type": "markdown",
   "metadata": {},
   "source": [
    "### Problem 3\n",
    "\n",
    "Write a **recursive function** named `reverse_string(s)`. The function accepts a string `s` as a parameter and returns a string that is the reverse order of `s`, as shown in 'Expected Output'. \n",
    "\n",
    "The only Python function required is `len()`. Do not use any other python functions or methods."
   ]
  },
  {
   "cell_type": "code",
   "execution_count": 9,
   "metadata": {},
   "outputs": [],
   "source": [
    "# write your recursive function here\n",
    "def reverse_string(s):\n",
    "    if len(s) == 0:\n",
    "        return s\n",
    "    else:\n",
    "        return reverse_string(s[1:]) + s[0]"
   ]
  },
  {
   "cell_type": "code",
   "execution_count": 10,
   "metadata": {},
   "outputs": [
    {
     "name": "stdout",
     "output_type": "stream",
     "text": [
      "The original string: the quick brown fox jumps over the lazy dog\n",
      "The reversed string: god yzal eht revo spmuj xof nworb kciuq eht\n",
      "\n",
      "The original string: able was I ere I saw elba\n",
      "The reversed string: able was I ere I saw elba\n"
     ]
    }
   ],
   "source": [
    "# do not change the code below\n",
    "# use it to test your function\n",
    "string_to_reverse = \"the quick brown fox jumps over the lazy dog\"\n",
    "print(\"The original string:\",string_to_reverse)\n",
    "print(\"The reversed string:\",reverse_string(string_to_reverse))\n",
    "print()\n",
    "string_to_reverse = \"able was I ere I saw elba\"\n",
    "print(\"The original string:\",string_to_reverse)\n",
    "print(\"The reversed string:\",reverse_string(string_to_reverse))"
   ]
  },
  {
   "cell_type": "markdown",
   "metadata": {},
   "source": [
    "<span style=\"color:blue\">Expected Output:</span><br/>\n",
    "<span style=\"font: courier; font-size: 13px\">\n",
    "The original string: the quick brown fox jumps over the lazy dog<br />\n",
    "The reversed string: god yzal eht revo spmuj xof nworb kciuq eht<br />\n",
    "<br />\n",
    "The original string: able was I ere I saw elba<br />\n",
    "The reversed string: able was I ere I saw elba</span>   "
   ]
  },
  {
   "cell_type": "markdown",
   "metadata": {},
   "source": [
    "### Problem 4\n",
    "\n",
    "Write the **recursive function** `reverse_list(lst)` such that it accepts a list named `lst` as a parameter and returns a reverse-orders version of `lst`, as shown in 'Expected Output'.\n",
    "\n",
    "The only python function required is `len()`. Do not use any other python functions or methods.\n",
    "\n",
    "Hint: The expression `list1 + list2` creates a new list consisting of `list2` appended to `list1`."
   ]
  },
  {
   "cell_type": "code",
   "execution_count": 11,
   "metadata": {},
   "outputs": [],
   "source": [
    "# write your recursive function here\n",
    "def reverse_list(lst):\n",
    "    if not lst: return []\n",
    "    return [lst.pop()]+ reverse_list(lst)"
   ]
  },
  {
   "cell_type": "code",
   "execution_count": 12,
   "metadata": {},
   "outputs": [
    {
     "name": "stdout",
     "output_type": "stream",
     "text": [
      "The original list: [1, 2, 3, 4, 5, 6, 7, 8, 9, 0]\n",
      "The reversed list: [0, 9, 8, 7, 6, 5, 4, 3, 2, 1]\n"
     ]
    }
   ],
   "source": [
    "# do not change the code below\n",
    "# use it to test your function\n",
    "list_to_reverse = [1,2,3,4,5,6,7,8,9,0]\n",
    "print(\"The original list:\",list_to_reverse)\n",
    "print(\"The reversed list:\",reverse_list(list_to_reverse))"
   ]
  },
  {
   "cell_type": "markdown",
   "metadata": {},
   "source": [
    "<span style=\"color:blue\">Expected Output:</span><br/>\n",
    "<span style=\"font: courier; font-size: 13px\">\n",
    "The original list: [1, 2, 3, 4, 5, 6, 7, 8, 9, 0]<br />\n",
    "The reversed list: [0, 9, 8, 7, 6, 5, 4, 3, 2, 1]</span>  "
   ]
  },
  {
   "cell_type": "markdown",
   "metadata": {},
   "source": [
    "### Problem 5\n",
    "\n",
    "Write a **recursive function** named `totalDigits(n)` where `n` is an integer number. The function will return the sum of all the digits in `n`."
   ]
  },
  {
   "cell_type": "code",
   "execution_count": 7,
   "metadata": {},
   "outputs": [],
   "source": [
    "# write your function below\n",
    "def totalDigits(n):\n",
    "    x = 0\n",
    "    for i in str(m):\n",
    "        x += int(i)\n",
    "    return x"
   ]
  },
  {
   "cell_type": "code",
   "execution_count": 8,
   "metadata": {},
   "outputs": [
    {
     "name": "stdout",
     "output_type": "stream",
     "text": [
      "The total of the digits in 111 is 3\n",
      "The total of the digits in 222 is 6\n",
      "The total of the digits in 333 is 9\n",
      "The total of the digits in 1076458 is 31\n"
     ]
    }
   ],
   "source": [
    "# do not change the code below\n",
    "# use it to test your function\n",
    "for m in [111,222,333,1076458]:\n",
    "    print(\"The total of the digits in\",m,\"is\",totalDigits(m))"
   ]
  },
  {
   "cell_type": "markdown",
   "metadata": {},
   "source": [
    "<span style=\"color:blue\">Expected Output:</span><br/>\n",
    "<span style=\"font: courier; font-size: 13px\">\n",
    "The total of the digits in 111 is 3<br/>\n",
    "The total of the digits in 222 is 6<br/>\n",
    "The total of the digits in 333 is 9<br/>\n",
    "The total of the digits in 1076458 is 31</span>  "
   ]
  },
  {
   "cell_type": "markdown",
   "metadata": {},
   "source": [
    "### Problem 6\n",
    "\n",
    "Given the parameter `binNum` (which is a string that represents a binary number), write a **recursive function** named `convertToDecimal(binNum)` such that it returns the decimal number equivalent of `binNum` (i.e. an integer).\n",
    "\n",
    "The function must work for a binary number of any length, so **do not hardcode** position values. Position values must be determined within the function.\n",
    "\n",
    "Assume that a valid binary number is passed (i.e. no error checking is required). Because the binary number passed to the function is a string, you will need to coerce each binary digit into an integer using the built-in `int()` function.\n",
    "\n",
    "The values for respective positions in a binary number are:\n",
    "   \n",
    "            2**n  2**(n-1) ... 2**3  2**2  2**1  2**0\n",
    "\n",
    "            ....  .......  ...    8     4     2     1 \n",
    "\n",
    "To determine the decimal number equivalent of a binary number:\n",
    "  1. For each binary digit, multiply the binary digit by the value of its position.\n",
    "  2. Repeat step one for all digits in the binary number sequence.\n",
    "  3. Add all the results together.\n",
    "\n",
    "The [Counting in binary](https://en.wikipedia.org/wiki/Binary_number#Counting_in_binary) section of Wikipedia's article on binary numbers explains how binary numbers can represent base 10 (i.e. decimal) numeric values.\n",
    "\n",
    "This [binary to decimal calculator](https://www.rapidtables.com/convert/number/binary-to-decimal.html) may be useful for testing your algorithm."
   ]
  },
  {
   "cell_type": "code",
   "execution_count": 13,
   "metadata": {},
   "outputs": [],
   "source": [
    "# write your recursive function here\n",
    "def convertToDecimal(binNum):\n",
    "    if len(binNum) == 0:\n",
    "        return 0\n",
    "    else:\n",
    "        return convertToDecimal(binNum[:-1]) * 2 + int(binNum[-1])"
   ]
  },
  {
   "cell_type": "code",
   "execution_count": 14,
   "metadata": {},
   "outputs": [
    {
     "name": "stdout",
     "output_type": "stream",
     "text": [
      "The binary number 11111111 is 255 in decimal\n",
      "The binary number 10101010 is 170 in decimal\n",
      "The binary number 010101 is 21 in decimal\n",
      "The binary number 10101 is 21 in decimal\n"
     ]
    }
   ],
   "source": [
    "# do not change the code below\n",
    "# use it to test your function\n",
    "for b in ['11111111','10101010','010101','10101']:\n",
    "    print(\"The binary number\",b,\"is\",convertToDecimal(b),\"in decimal\")"
   ]
  },
  {
   "cell_type": "markdown",
   "metadata": {},
   "source": [
    "<span style=\"color:blue\">Expected Output:</span><br/>\n",
    "<span style=\"font: courier; font-size: 13px\">\n",
    "The binary number 11111111 is 255 in decimal<br />\n",
    "The binary number 10101010 is 170 in decimal<br />\n",
    "The binary number 010101 is 21 in decimal<br />\n",
    "The binary number 10101 is 21 in decimal</span>  "
   ]
  }
 ],
 "metadata": {
  "kernelspec": {
   "display_name": "Python 3 (ipykernel)",
   "language": "python",
   "name": "python3"
  },
  "language_info": {
   "codemirror_mode": {
    "name": "ipython",
    "version": 3
   },
   "file_extension": ".py",
   "mimetype": "text/x-python",
   "name": "python",
   "nbconvert_exporter": "python",
   "pygments_lexer": "ipython3",
   "version": "3.9.6"
  }
 },
 "nbformat": 4,
 "nbformat_minor": 2
}
