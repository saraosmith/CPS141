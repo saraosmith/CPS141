{
 "cells": [
  {
   "cell_type": "markdown",
   "metadata": {},
   "source": [
    "## <span style=\"color:blue\">Problem Set 9</span>"
   ]
  },
  {
   "cell_type": "raw",
   "metadata": {},
   "source": [
    "<Sara Smith>"
   ]
  },
  {
   "cell_type": "markdown",
   "metadata": {},
   "source": [
    "### <span style=\"color:red\">Run the cell below first</span>\n",
    "Before starting the assignment, run the cell below to import necessary modules. If you restart the kernel it will be necessary to run this cell again."
   ]
  },
  {
   "cell_type": "code",
   "execution_count": 85,
   "metadata": {},
   "outputs": [],
   "source": [
    "import requests\n",
    "import json"
   ]
  },
  {
   "cell_type": "markdown",
   "metadata": {},
   "source": [
    "### Overview\n",
    "In this problem set you will use the **[OMDb API](https://www.omdbapi.com/)** to request information about movies. Each problem is a step towards creating an interactive movie query system that will do the following:\n",
    "- Track movies that the user has seen, both in a file and in a Python list\n",
    "- Allow the user to enter one or more movie titles that they are considering watching\n",
    "- For each movie title the user enters, the system will:\n",
    "  - Present some OMDB information about the movie\n",
    "  - Add the movie to a list of already-watched movies when the user indicates that they plan to watch it\n",
    "  \n",
    "#### OMDB API key\n",
    "- You will need an API key\n",
    "- Request a key **[here](http://www.omdbapi.com/apikey.aspx)** (choose the **FREE** key)\n",
    "- Activate the key by following the instructions in the confirmation email\n",
    "- **You _may_ need to use a non-WCC email address. Some have reported that they never received an email with their key when they provide a WCC address.**\n",
    "- Enter your key in the cell below, assigning it to the `OMDB_API_KEY` variable, then run the cell\n",
    "- You will use `OMDB_API_KEY` throughout the problems to make API calls"
   ]
  },
  {
   "cell_type": "code",
   "execution_count": 86,
   "metadata": {},
   "outputs": [],
   "source": [
    "OMDB_API_KEY = '3207b433'\n",
    "# e.g.\n",
    "# OMDB_API_KEY = '9m86g032'"
   ]
  },
  {
   "cell_type": "markdown",
   "metadata": {},
   "source": [
    "### Problem 1\n",
    "\n",
    "Define the function **`getOMDBData()`** such that it accepts a movie _title_, calls the OMDB API (described here: http://www.omdbapi.com) to retrieve data for the movie with that title, then returns a dictionary that contains the movie's data.\n",
    "\n",
    "Note: You should use the \"By ID or Title\" features of the OMDB API.\n",
    "\n",
    "Requirements:\n",
    "- If the user is not able to connect to OMBD, the function should return the *boolean* `False` (use `try/except` or `try/except/else`).\n",
    "- If the user enters an invalid title, the function should return the *boolean* `False`. Note that when the title is invalid, OMDB sends back data where the 'Response' field is set to 'False' (a string).\n",
    "- Use [**`requests.get()`**](https://www.w3schools.com/python/ref_requests_get.asp) and specify two URL parameters: the API key and the title."
   ]
  },
  {
   "cell_type": "code",
   "execution_count": 87,
   "metadata": {},
   "outputs": [],
   "source": [
    "def getOMDBData(title):\n",
    "    info=requests.get('http://www.omdbapi.com/?apikey=3207b433', params={'t': title})\n",
    "    movie_str=info.text\n",
    "    movie_py=json.loads(movie_str)\n",
    "\n",
    "    if movie_py['Response'] == 'False':\n",
    "        return(False)       \n",
    "    else:\n",
    "        return(movie_py)"
   ]
  },
  {
   "cell_type": "code",
   "execution_count": 88,
   "metadata": {},
   "outputs": [
    {
     "data": {
      "text/plain": [
       "{'Title': 'Black Panther',\n",
       " 'Year': '2018',\n",
       " 'Rated': 'PG-13',\n",
       " 'Released': '16 Feb 2018',\n",
       " 'Runtime': '134 min',\n",
       " 'Genre': 'Action, Adventure, Sci-Fi',\n",
       " 'Director': 'Ryan Coogler',\n",
       " 'Writer': 'Ryan Coogler, Joe Robert Cole, Stan Lee',\n",
       " 'Actors': \"Chadwick Boseman, Michael B. Jordan, Lupita Nyong'o\",\n",
       " 'Plot': \"T'Challa, heir to the hidden but advanced kingdom of Wakanda, must step forward to lead his people into a new future and must confront a challenger from his country's past.\",\n",
       " 'Language': 'English, Swahili, Nama, Xhosa, Korean',\n",
       " 'Country': 'United States',\n",
       " 'Awards': 'Won 3 Oscars. 117 wins & 282 nominations total',\n",
       " 'Poster': 'https://m.media-amazon.com/images/M/MV5BMTg1MTY2MjYzNV5BMl5BanBnXkFtZTgwMTc4NTMwNDI@._V1_SX300.jpg',\n",
       " 'Ratings': [{'Source': 'Internet Movie Database', 'Value': '7.3/10'},\n",
       "  {'Source': 'Rotten Tomatoes', 'Value': '96%'},\n",
       "  {'Source': 'Metacritic', 'Value': '88/100'}],\n",
       " 'Metascore': '88',\n",
       " 'imdbRating': '7.3',\n",
       " 'imdbVotes': '790,386',\n",
       " 'imdbID': 'tt1825683',\n",
       " 'Type': 'movie',\n",
       " 'DVD': '02 May 2018',\n",
       " 'BoxOffice': '$700,426,566',\n",
       " 'Production': 'N/A',\n",
       " 'Website': 'N/A',\n",
       " 'Response': 'True'}"
      ]
     },
     "execution_count": 88,
     "metadata": {},
     "output_type": "execute_result"
    }
   ],
   "source": [
    "# run this cell to test your function with a valid movie title\n",
    "getOMDBData('Black Panther')"
   ]
  },
  {
   "cell_type": "markdown",
   "metadata": {},
   "source": [
    "<span style=\"color:blue\">Expected Output:</span><br/>\n",
    "<span style=\"font: courier; font-size: 13px\">\n",
    "```\n",
    "{'Title': 'Black Panther',\n",
    " 'Year': '2018',\n",
    " 'Rated': 'PG-13',\n",
    " 'Released': '16 Feb 2018',\n",
    " 'Runtime': '134 min',\n",
    " 'Genre': 'Action, Adventure, Sci-Fi',\n",
    " 'Director': 'Ryan Coogler',\n",
    " ... [omitted output] ...\n",
    " 'Metascore': '88',\n",
    " 'imdbRating': '7.3',\n",
    " 'imdbVotes': '713,245',\n",
    " 'imdbID': 'tt1825683',\n",
    " 'Type': 'movie',\n",
    " 'DVD': '02 May 2018',\n",
    " 'BoxOffice': '$700,426,566',\n",
    " 'Production': 'N/A',\n",
    " 'Website': 'N/A',\n",
    " 'Response': 'True'}\n",
    " ```\n",
    " </span>"
   ]
  },
  {
   "cell_type": "code",
   "execution_count": 89,
   "metadata": {},
   "outputs": [
    {
     "data": {
      "text/plain": [
       "False"
      ]
     },
     "execution_count": 89,
     "metadata": {},
     "output_type": "execute_result"
    }
   ],
   "source": [
    "# run this cell to test your function with a invalid movie title\n",
    "getOMDBData(\"asdfasdfasdfasdfasdf\")"
   ]
  },
  {
   "cell_type": "markdown",
   "metadata": {},
   "source": [
    "<span style=\"color:blue\">Expected Output:</span><br/>\n",
    "<span style=\"font: courier; font-size: 13px\">\n",
    "False</span>"
   ]
  },
  {
   "cell_type": "markdown",
   "metadata": {},
   "source": [
    "### Problem 2: \n",
    "\n",
    "Define the function **`getMoviesData()`** such that it: \n",
    "- accepts a *list* of titles (strings) as input parameter\n",
    "- returns a *list* of dictionaries fetched from the OMDB API, by calling the `getOMDBData()` function."
   ]
  },
  {
   "cell_type": "code",
   "execution_count": 90,
   "metadata": {},
   "outputs": [],
   "source": [
    "def getMoviesData(movieTitles):\n",
    "    movies = movieTitles\n",
    "\n",
    "    output = []\n",
    "\n",
    "    for movie in movies:\n",
    "        url = 'http://www.omdbapi.com/'\n",
    "\n",
    "        params = {\n",
    "            'apikey': OMDB_API_KEY,\n",
    "            't': movie,\n",
    "            'r': 'json'\n",
    "        }\n",
    "\n",
    "        r = requests.get(url, params)\n",
    "\n",
    "        data = json.loads(r.content)\n",
    "        output.append(data)\n",
    "\n",
    "    return output"
   ]
  },
  {
   "cell_type": "code",
   "execution_count": 91,
   "metadata": {},
   "outputs": [
    {
     "name": "stdout",
     "output_type": "stream",
     "text": [
      "[{'Title': 'Clue', 'Year': '1985', 'Rated': 'PG', 'Released': '13 Dec 1985', 'Runtime': '94 min', 'Genre': 'Comedy, Crime, Mystery', 'Director': 'Jonathan Lynn', 'Writer': 'John Landis, Jonathan Lynn, Anthony E. Pratt', 'Actors': 'Eileen Brennan, Tim Curry, Madeline Kahn', 'Plot': 'Six guests are anonymously invited to a strange mansion for dinner, but after their host is killed, they must cooperate with the staff to identify the murderer as the bodies pile up.', 'Language': 'English, French', 'Country': 'United States', 'Awards': 'N/A', 'Poster': 'https://m.media-amazon.com/images/M/MV5BM2VlNTE1ZmMtOTAyNS00ODYwLWFmY2MtZWEzOTE2YjE1NDE2XkEyXkFqcGdeQXVyNDk3NzU2MTQ@._V1_SX300.jpg', 'Ratings': [{'Source': 'Internet Movie Database', 'Value': '7.2/10'}, {'Source': 'Rotten Tomatoes', 'Value': '68%'}, {'Source': 'Metacritic', 'Value': '41/100'}], 'Metascore': '41', 'imdbRating': '7.2', 'imdbVotes': '100,886', 'imdbID': 'tt0088930', 'Type': 'movie', 'DVD': '27 Jun 2000', 'BoxOffice': '$14,643,997', 'Production': 'N/A', 'Website': 'N/A', 'Response': 'True'}, {'Response': 'False', 'Error': 'Movie not found!'}]\n"
     ]
    }
   ],
   "source": [
    "# Run this cell to test the function\n",
    "movies = getMoviesData([\"Clue\",\"foobarbat\"])\n",
    "print(movies)"
   ]
  },
  {
   "cell_type": "markdown",
   "metadata": {},
   "source": [
    "<span style=\"color:blue\">Expected Output:</span><br/>\n",
    "<span style=\"font: courier; font-size: 13px\">\n",
    "```\n",
    "[{'Title': 'Clue', 'Year': '1985', 'Rated': 'PG', 'Released': '13 Dec 1985', 'Runtime': '94 min', 'Genre': 'Comedy, Crime, Mystery', 'Director': 'Jonathan Lynn', 'Writer': 'John Landis, Jonathan Lynn, Anthony E. Pratt', 'Actors': 'Eileen Brennan, Tim Curry, Madeline Kahn', 'Plot': 'Six guests are anonymously invited to a strange mansion for dinner, but after their host is killed, they must cooperate with the staff to identify the murderer as the bodies pile up.', 'Language': 'English, French', 'Country': 'United States', 'Awards': 'N/A', 'Poster': 'https://m.media-amazon.com/images/M/MV5BM2VlNTE1ZmMtOTAyNS00ODYwLWFmY2MtZWEzOTE2YjE1NDE2XkEyXkFqcGdeQXVyNDk3NzU2MTQ@._V1_SX300.jpg', 'Ratings': [{'Source': 'Internet Movie Database', 'Value': '7.2/10'}, {'Source': 'Rotten Tomatoes', 'Value': '68%'}, {'Source': 'Metacritic', 'Value': '39/100'}], 'Metascore': '39', 'imdbRating': '7.2', 'imdbVotes': '100,243', 'imdbID': 'tt0088930', 'Type': 'movie', 'DVD': '27 Jun 2000', 'BoxOffice': '$14,643,997', 'Production': 'N/A', 'Website': 'N/A', 'Response': 'True'}, False]\n",
    "```\n",
    "</span>"
   ]
  },
  {
   "cell_type": "markdown",
   "metadata": {},
   "source": [
    "### Problem 3: \n",
    "\n",
    "Define the function **`getValidMoviesData()`** such that it:\n",
    "- accepts a *list* of movie titles\n",
    "- uses the `getMoviesData()` function to get a list of movie dictionaries\n",
    "- returns a list of dictionaries where each dictionary is a valid movie (i.e. not `False`)"
   ]
  },
  {
   "cell_type": "code",
   "execution_count": 92,
   "metadata": {},
   "outputs": [],
   "source": [
    "def getValidMoviesData(movieTitles):\n",
    "    movies = movieTitles\n",
    "\n",
    "    output = []\n",
    "\n",
    "    call = getMoviesData(movies)\n",
    "\n",
    "    for item in call:\n",
    "        if item['Response'] == \"True\":\n",
    "            output.append(item)\n",
    "\n",
    "    return output"
   ]
  },
  {
   "cell_type": "code",
   "execution_count": 93,
   "metadata": {},
   "outputs": [
    {
     "name": "stdout",
     "output_type": "stream",
     "text": [
      "Superbabies: Baby Geniuses 2 2004\n",
      "The Shawshank Redemption 1994\n",
      "Thor 2011\n"
     ]
    }
   ],
   "source": [
    "# Run this cell to test the function\n",
    "for movie in getValidMoviesData([\"Superbabies: Baby Geniuses 2\", \n",
    "                  \"The Shawshank Redemption\", \n",
    "                  \"Foobarbat\",\n",
    "                  \"asdfasdfasdfasdfasdf\" , \n",
    "                  \"Thor\"]):\n",
    "    print(movie['Title'],movie['Year'])"
   ]
  },
  {
   "cell_type": "markdown",
   "metadata": {},
   "source": [
    "<span style=\"color:blue\">Expected Output:</span><br/>\n",
    "<span style=\"font: courier; font-size: 13px\">\n",
    "Superbabies: Baby Geniuses 2 2004<br/>\n",
    "The Shawshank Redemption 1994<br/>\n",
    "Thor 2011</span>"
   ]
  },
  {
   "cell_type": "markdown",
   "metadata": {},
   "source": [
    "### Problem 4: \n",
    "\n",
    "Define a function **`sortedMoviesData()`** such that it:\n",
    "- accepts a *list* of movie titles\n",
    "- gets a list of dictionaries returned by `getValidMoviesData()` \n",
    "- returns the list of dictionaries sorted _high to low_ on the IMDB rating\n",
    "\n",
    "Be sure to cast the ratings as floats. One approach is to use the built-in `sorted()` function along with a lambda expression."
   ]
  },
  {
   "cell_type": "code",
   "execution_count": 96,
   "metadata": {},
   "outputs": [],
   "source": [
    "def sortedMoviesData(movieTitles):\n",
    "    movies = movieTitles\n",
    "\n",
    "    data = getValidMoviesData(movies)\n",
    "\n",
    "    sortList = []\n",
    "    output = []\n",
    "\n",
    "    for item in data:\n",
    "        sortList.append((item['Title'], item['imdbRating']))\n",
    "    sortList = sorted(sortList, key=lambda x: x[1], reverse=True)\n",
    "    for k, v in sortList:\n",
    "        for item in data:\n",
    "            if item['Title'] == k:\n",
    "                output.append(item)\n",
    "\n",
    "    return output"
   ]
  },
  {
   "cell_type": "code",
   "execution_count": 97,
   "metadata": {},
   "outputs": [
    {
     "name": "stdout",
     "output_type": "stream",
     "text": [
      "The Shawshank Redemption 1994 9.3\n",
      "The Lord of the Rings: The Fellowship of the Ring 2001 8.8\n",
      "Source Code 2011 7.5\n",
      "Black Panther 2018 7.3\n",
      "Clue 1985 7.2\n",
      "Superbabies: Baby Geniuses 2 2004 1.5\n"
     ]
    }
   ],
   "source": [
    "# Run this cell to test the function\n",
    "result = sortedMoviesData([\"Superbabies: Baby Geniuses 2\", \n",
    "                  \"The Shawshank Redemption\", \n",
    "                  \"Clue\",\n",
    "                  \"asdfasdfasdfasdfasdf\" , \n",
    "                  \"Black Panther\",\n",
    "                  \"Lord of the Rings\",\n",
    "                  \"Source Code\"])\n",
    "for movie in result:\n",
    "    print(movie['Title'],movie['Year'],movie['imdbRating'])"
   ]
  },
  {
   "cell_type": "markdown",
   "metadata": {},
   "source": [
    "<span style=\"color:blue\">Expected Output:</span><br/>\n",
    "<span style=\"font: courier; font-size: 13px\">\n",
    "The Shawshank Redemption 1994 9.3<br/>\n",
    "The Lord of the Rings: The Fellowship of the Ring 2001 8.8<br/>\n",
    "Source Code 2011 7.5<br/>\n",
    "Black Panther 2018 7.3<br/>\n",
    "Clue 1985 7.2<br/>\n",
    "Superbabies: Baby Geniuses 2 2004 1.5</span>"
   ]
  },
  {
   "cell_type": "markdown",
   "metadata": {},
   "source": [
    "---\n",
    "## Note:\n",
    "The following problems require that you use the **viewed_movies.txt** file to track movies that the user has viewed. \n",
    "\n",
    "While writing code for the remaining problems, if your code has **errors or otherwise fails**, you should **delete** the **viewed_movies.txt** file and re-run your code.\n",
    "\n",
    "You could delete the file via Jupyter's file browser, or write Python code (e.g. in a separate cell or a function) that allows you to delete the file from within your notebook.\n",
    "\n",
    "---"
   ]
  },
  {
   "cell_type": "markdown",
   "metadata": {},
   "source": [
    "### Problem 5\n",
    "\n",
    "Write the function **`loadViewedMovies()`** such that it will:\n",
    "\n",
    "- (try to) open the file assigned to `PREVIOUSLY_VIEWED_FNAME` (see below)\n",
    "- if the file opens, read and load its contents (as JSON) into a variable named `viewed_movies`\n",
    "- if the file does not open (this will be the case for the first time the cell is run), make `viewed_movies` an empty list\n",
    "- return `viewed_movies`\n",
    "\n",
    "Notes:\n",
    "* Use `try/except` when attempting to open the file.\n",
    "* The contents of `PREVIOUSLY_VIEWED_FNAME` will be a list of movie titles."
   ]
  },
  {
   "cell_type": "code",
   "execution_count": 98,
   "metadata": {},
   "outputs": [],
   "source": [
    "PREVIOUSLY_VIEWED_FNAME = 'viewed_movies.txt'\n",
    "\n",
    "# write your code below\n",
    "def loadViewedMovies():\n",
    "    try:\n",
    "        file = open(PREVIOUSLY_VIEWED_FNAME, \"r\")\n",
    "        viewed_movies = json.load(file)\n",
    "    except:\n",
    "        viewed_movies = []  \n",
    "    return viewed_movies"
   ]
  },
  {
   "cell_type": "code",
   "execution_count": 99,
   "metadata": {},
   "outputs": [
    {
     "name": "stdout",
     "output_type": "stream",
     "text": [
      "[]\n"
     ]
    }
   ],
   "source": [
    "# Run this to test the above code.\n",
    "# The first time this cell is run, an empty list will print.\n",
    "# You will use the viewed_movies list in the problems that follow.\n",
    "viewed_movies = loadViewedMovies()\n",
    "print(viewed_movies)"
   ]
  },
  {
   "cell_type": "markdown",
   "metadata": {},
   "source": [
    "<span style=\"color:blue\">Expected Output (_before viewed_movies.txt has been created_):</span><br/>\n",
    "```\n",
    "[]\n",
    "```"
   ]
  },
  {
   "cell_type": "markdown",
   "metadata": {},
   "source": [
    "<span style=\"color:blue\">Example Output (_after viewed_movies.txt hase been created and contains some movie titles_):</span><br/>\n",
    "```\n",
    "['A Movie Name', 'Another Movie Name', 'Maybe Another Movie Too' ]\n",
    "```"
   ]
  },
  {
   "cell_type": "markdown",
   "metadata": {},
   "source": [
    "### Problem 6\n",
    "\n",
    "Define the function **`hasSeenMovie()`** such that it:\n",
    " - accepts a movie title (i.e. a string) as a parameter\n",
    " - returns boolean `True` if the title is in the *viewed_movies* list\n",
    " - otherwise returns boolean `False`"
   ]
  },
  {
   "cell_type": "code",
   "execution_count": null,
   "metadata": {},
   "outputs": [],
   "source": [
    "def hasSeenMovie(title):\n",
    "    if title in viewed_movies:\n",
    "        return True\n",
    "    else:\n",
    "        return False"
   ]
  },
  {
   "cell_type": "markdown",
   "metadata": {},
   "source": [
    "### Problem 7:\n",
    "\n",
    "Define the function **`markAsViewed()`**. The function's only parameter will be a string holding a movie title, and it will return `None`.\n",
    "\n",
    "If the title *is* *not* in the `viewed_movies` list, the function will:\n",
    "* add the movie title to the `viewed_movies` list\n",
    "* write the contents of the `viewed_movies` list to the file `PREVIOUSLY_VIEWED_FNAME` as a JSON-formatted string\n",
    "\n",
    "If the title *is* in the `viewed_movies` list, do nothing."
   ]
  },
  {
   "cell_type": "code",
   "execution_count": 100,
   "metadata": {},
   "outputs": [],
   "source": [
    "def markAsViewed(title):\n",
    "    if title not in viewed_movies:\n",
    "        viewed_movies.append(title)\n",
    "\n",
    "        with open(PREVIOUSLY_VIEWED_FNAME, 'w') as output:\n",
    "            json.dump(viewed_movies, output)"
   ]
  },
  {
   "cell_type": "code",
   "execution_count": 101,
   "metadata": {},
   "outputs": [
    {
     "name": "stdout",
     "output_type": "stream",
     "text": [
      "['The Big Chill', 'Black Panther', 'Thor']\n",
      "['The Big Chill', 'Black Panther', 'Thor']\n"
     ]
    }
   ],
   "source": [
    "# Run this cell to test markAsViewed()\n",
    "markAsViewed(\"The Big Chill\")\n",
    "markAsViewed(\"Black Panther\")\n",
    "markAsViewed(\"Thor\")\n",
    "# confirm that the viewed_movies list was built correctly\n",
    "print(viewed_movies)\n",
    "# confirm that the viewed_movies list was written to the file correctly\n",
    "viewed_movies = loadViewedMovies()\n",
    "print(viewed_movies)"
   ]
  },
  {
   "cell_type": "markdown",
   "metadata": {},
   "source": [
    "<span style=\"color:blue\">Expected Output:</span><br/>\n",
    "_If viewed_movies.txt was empty before you ran this cell, the Expected Output is shown below._<br />\n",
    "```\n",
    "['The Big Chill', 'Black Panther', 'Thor']\n",
    "['The Big Chill', 'Black Panther', 'Thor']\n",
    "```"
   ]
  },
  {
   "cell_type": "markdown",
   "metadata": {},
   "source": [
    "### Problem 8\n",
    "\n",
    "Provide code for the function **`getMovieAdvice()`** that does the following:\n",
    "\n",
    "1. Prompt the user to enter several movie titles separated by commas (you'll need to `split()` on commas).\n",
    "2. Call the `sortedMoviesData()` function (defined earlier) and send the list of movie titles.\n",
    "3. Iterate over each movie. For each movie:\n",
    " - If the user has seen the movie before (use `hasSeenMovie()` to determine this), then print \"You have already watched {title}\".\n",
    " - If the user has NOT seen the movie before, print the title, year, rating, and generate output in the following format:\n",
    "```\n",
    "          {title} ({year}): {rating}\n",
    "          --------------------\n",
    "          {plot}\n",
    "```\n",
    " - Ask the user if they want to watch the movie (yes or no).\n",
    "      - If the user enters \"no\" (or anything other than yes), do nothing.\n",
    "      - If the user enters \"yes\", then call `markAsViewed()` for that movie \n",
    "        title and print the movie's runtime in the format:\n",
    "```\n",
    "          Watched: {title} for {runtime}\n",
    "```\n",
    "4. Returns `None`."
   ]
  },
  {
   "cell_type": "code",
   "execution_count": 104,
   "metadata": {},
   "outputs": [],
   "source": [
    "def getMovieAdvice():\n",
    "    movies= input(\"Enter a list of movies, separated by commas:\")\n",
    "    movies_separate= movies.split(',')\n",
    "    sorted_movies= sortedMoviesData(movies_separate)\n",
    "    \n",
    "    for each_movie in sorted_movies:\n",
    "        \n",
    "    return (sorted_movies)"
   ]
  },
  {
   "cell_type": "code",
   "execution_count": 105,
   "metadata": {},
   "outputs": [],
   "source": [
    "# run the function and provide the following movie titles:\n",
    "# Terminator, The Big Chill, A Fish Called Wanda\n",
    "getMovieAdvice()"
   ]
  },
  {
   "cell_type": "markdown",
   "metadata": {},
   "source": [
    "<span style=\"color:blue\">Example Input and Output:</span><br/>\n",
    "<span style=\"font: courier; font-size: 13px\">\n",
    "```\n",
    "Enter movie names separated by commas: \n",
    "Terminator, The Big Chill, A Fish Called Wanda\n",
    "\n",
    "-------------\n",
    "A Fish Called Wanda (1988): 7.5\n",
    "-------------\n",
    "In London, four very different people team up on a jewel heist, then try to double-cross one another for the loot, complicated by their efforts to fool a very proper barrister.\n",
    "=============\n",
    "Want to watch this movie? (yes or no):yes\n",
    "Watched: A Fish Called Wanda for 108 min\n",
    "\n",
    "-------------\n",
    "The Big Chill (1983): 7.2\n",
    "-------------\n",
    "A group of seven former college friends gather for a weekend reunion at a South Carolina vacation home after the funeral of another of their college friends.\n",
    "=============\n",
    "==> You have already watched The Big Chill\n",
    "\n",
    "-------------\n",
    "Terminator (1991): 6.1\n",
    "-------------\n",
    "A cyborg comes from the future, to kill a girl named Sarah Lee.\n",
    "=============\n",
    "Want to watch this movie? (yes or no):no\n",
    "```\n",
    "</span>"
   ]
  }
 ],
 "metadata": {
  "kernelspec": {
   "display_name": "Python 3 (ipykernel)",
   "language": "python",
   "name": "python3"
  },
  "language_info": {
   "codemirror_mode": {
    "name": "ipython",
    "version": 3
   },
   "file_extension": ".py",
   "mimetype": "text/x-python",
   "name": "python",
   "nbconvert_exporter": "python",
   "pygments_lexer": "ipython3",
   "version": "3.9.6"
  }
 },
 "nbformat": 4,
 "nbformat_minor": 2
}
