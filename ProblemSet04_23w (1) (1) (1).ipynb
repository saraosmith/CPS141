{
 "cells": [
  {
   "cell_type": "markdown",
   "metadata": {},
   "source": [
    "## <span style=\"color:blue\">Problem Set 4</span>"
   ]
  },
  {
   "cell_type": "raw",
   "metadata": {},
   "source": [
    "<Sara Smith>"
   ]
  },
  {
   "cell_type": "markdown",
   "metadata": {},
   "source": [
    "**Note:**   \n",
    "1. You must use code to arrive at a solution. If you hard-code a solution you will receive 0 points for the respective problem.\n",
    "2. Use only syntax covered in the Units so far. If you use any other syntax you will receive 0 points for the respective problem."
   ]
  },
  {
   "cell_type": "markdown",
   "metadata": {},
   "source": [
    "### <span style=\"color:red\">Run this cell before attempting the following problems.</span>"
   ]
  },
  {
   "cell_type": "code",
   "execution_count": 142,
   "metadata": {},
   "outputs": [],
   "source": [
    "umSchools = {\n",
    "  \"A. Alfred Taubman College of Architecture & Urban Planning\": 1906,\n",
    "  \"College of Engineering\": 1854,\n",
    "  \"College of Literature, Science, and the Arts\": 1841,\n",
    "  \"Gerald R. Ford School of Public Policy\": 1914,\n",
    "  \"Horace H. Rackham School of Graduate Studies\": 1912,\n",
    "  \"Penny W. Stamps School of Art & Design\": 1974,\n",
    "  \"School of Dentistry\": 1875,\n",
    "  \"School of Education\": 1921,\n",
    "  \"School of Information\": 1996,\n",
    "  \"School of Kinesiology\": 1984,\n",
    "  \"School of Law\": 1859,\n",
    "  \"School of Medicine\": 1850,\n",
    "  \"School of Music, Theatre & Dance\": 1880,\n",
    "  \"School of Natural Resources & Environment\": 1927,\n",
    "  \"School of Nursing\": 1893,\n",
    "  \"School of Pharmacy\": 1876,\n",
    "  \"School of Public Health\": 1941,\n",
    "  \"School of Social Work\": 1951,\n",
    "  \"Stephen M. Ross School of Business\": 1924\n",
    "}"
   ]
  },
  {
   "cell_type": "markdown",
   "metadata": {},
   "source": [
    "### Problem 1\n",
    "\n",
    "`courses` is a dictionary where the key is a WCC course name and the value is the number of credits. Use an accumulation pattern to find the total number of credits for all courses and assign it to the variable `credits`.\n",
    "\n",
    "Print `credits` as shown below."
   ]
  },
  {
   "cell_type": "code",
   "execution_count": 156,
   "metadata": {},
   "outputs": [
    {
     "name": "stdout",
     "output_type": "stream",
     "text": [
      "Total credits this semester 18\n"
     ]
    }
   ],
   "source": [
    "courses = {'CPS 141':4, 'ENG 101':3, 'CIS 100':3, 'CNT 206':4, 'MTH 160':4}\n",
    "credits = 0\n",
    "for i in courses:\n",
    "    credits = credits + courses[i]\n",
    "print (\"Total credits this semester\", credits)"
   ]
  },
  {
   "cell_type": "markdown",
   "metadata": {},
   "source": [
    "<span style=\"color:blue\">Expected Output:</span><br/>\n",
    "<span style=\"font: courier; font-size: 13px\">\n",
    "Total credits this semester 18</span>"
   ]
  },
  {
   "cell_type": "markdown",
   "metadata": {},
   "source": [
    "### Problem 2\n",
    "\n",
    "The dictionary `umSchools` (in the first cell) maps the names of schools at Michigan to the year in which they were founded. Write code that assigns the year that the School of Information was founded to the variable `siFounded` and then print `siFounded` as shown below."
   ]
  },
  {
   "cell_type": "code",
   "execution_count": 100,
   "metadata": {},
   "outputs": [
    {
     "name": "stdout",
     "output_type": "stream",
     "text": [
      "University of Michigan's School of Information was founded in 1996\n"
     ]
    }
   ],
   "source": [
    "siFounded=umSchools[\"School of Information\"]\n",
    "print(\"University of Michigan's School of Information was founded in\",siFounded)"
   ]
  },
  {
   "cell_type": "markdown",
   "metadata": {},
   "source": [
    "<span style=\"color:blue\">Expected Output:</span><br/>\n",
    "<span style=\"font: courier; font-size: 13px\">\n",
    "University of Michigan's School of Information was founded in 1996</span>"
   ]
  },
  {
   "cell_type": "markdown",
   "metadata": {},
   "source": [
    "### Problem 3:\n",
    "\n",
    "Using the `umSchools` dictionary, write code to add the name of every school that was founded after 1960 into a list named `newerSchools`, and print that list as shown below."
   ]
  },
  {
   "cell_type": "code",
   "execution_count": 155,
   "metadata": {},
   "outputs": [
    {
     "name": "stdout",
     "output_type": "stream",
     "text": [
      "--Schools founded after 1960--\n",
      "Penny W. Stamps School of Art & Design was founded in 1974\n",
      "School of Information was founded in 1996\n",
      "School of Kinesiology was founded in 1984\n"
     ]
    }
   ],
   "source": [
    "newerSchools = [] \n",
    "for key, value in umSchools.items(): \n",
    "    if value > 1960: \n",
    "        newerSchools.append(key)\n",
    "\n",
    "print(\"--Schools founded after 1960--\") \n",
    "for school in newerSchools: \n",
    "    print(f\"{school} was founded in {umSchools[school]}\")"
   ]
  },
  {
   "cell_type": "markdown",
   "metadata": {},
   "source": [
    "<span style=\"color:blue\">Expected Output::</span><br />\n",
    "<span style=\"font: courier; font-size: 13px\">\n",
    "--Schools founded after 1960--<br />\n",
    "Penny W. Stamps School of Art & Design was founded in 1974<br />\n",
    "School of Information was founded in 1996<br />\n",
    "School of Kinesiology was founded in 1984<br />\n",
    "</span>"
   ]
  },
  {
   "cell_type": "markdown",
   "metadata": {},
   "source": [
    "### Problem 4\n",
    "\n",
    "Given the string `paragraph`, write code to determine the most common **word** in the string and the frequency of that word. Assign these to `commonWord` and `maxWordCount`, respectively.\n",
    "\n",
    "You can approach this in two steps. First, use a loop to build a dictionary of words and their respective frequencies. Next, use an accumulation pattern to find the word that occurs most often.\n",
    "\n",
    "Punctuation will need to be removed, and you should convert each word to lower case letters. The built-in **`split()`** and the **`lower()`** functions will be useful.\n",
    "\n",
    "Print `commonWord` and `maxWordCount` as shown below."
   ]
  },
  {
   "cell_type": "code",
   "execution_count": 175,
   "metadata": {},
   "outputs": [
    {
     "name": "stdout",
     "output_type": "stream",
     "text": [
      "The the most common word is he 4 occurances\n"
     ]
    }
   ],
   "source": [
    "paragraph = \"\"\"\n",
    "He was getting  old and paunchy and his hair was falling fast,\n",
    "And he sat around the Legion, telling stories of the past.\n",
    "Of a war that he had fought in and the deeds that he had done,\n",
    "In his exploits with his buddies; they were heroes, every one.\n",
    "\"\"\"\n",
    "dicts = {}\n",
    "values = paragraph.split()\n",
    "keys = range(len(values))\n",
    "for words in keys:\n",
    "    dicts[words] = values[words]\n",
    "    \n",
    "commonWordDicts = {}\n",
    "for words in dicts.values():\n",
    "    words = words.lower()\n",
    "    words = words.replace(\",\",\"\")\n",
    "    words = words.replace(\".\",\"\")\n",
    "    if words not in commonWordDicts:\n",
    "        commonWordDicts[words]= 1\n",
    "    else:\n",
    "        commonWordDicts[words]+= 1\n",
    "        \n",
    "commonWord = list(commonWordDicts)[0]\n",
    "for keys in commonWordDicts:\n",
    "    if commonWordDicts[keys] > commonWordDicts[commonWord]:\n",
    "        commonWord = keys\n",
    "    maxWordCount = commonWordDicts[commonWord]\n",
    "print(\"The the most common word is\", commonWord, maxWordCount, \"occurances\")"
   ]
  },
  {
   "cell_type": "markdown",
   "metadata": {},
   "source": [
    "<span style=\"color:blue\">Expected Output:</span><br />\n",
    "<span style=\"font: courier; font-size: 13px\">\n",
    "The the most common word is 'he' with 4 occurrences.</span>"
   ]
  },
  {
   "cell_type": "markdown",
   "metadata": {},
   "source": [
    "### Problem 5\n",
    "\n",
    "Given the string `rhyme`, use a dictionary and accumulation pattern to determine the  **letter** that occurs most often as well as that letter's frequency. Assign the letter to the variable `mostCommon`, and it's frequency to the variable `maxLetterCount`.\n",
    "\n",
    "Do not count punctuation, spaces, or newline characters. You should be able to make minor modifications to the code from Problem 4 to achieve a solution.\n",
    "\n",
    "Print your dictionary, `mostCommon`, and `maxLetterCount` as shown below."
   ]
  },
  {
   "cell_type": "code",
   "execution_count": 174,
   "metadata": {},
   "outputs": [
    {
     "name": "stdout",
     "output_type": "stream",
     "text": [
      "{'p': 32, 'e': 33, 't': 5, 'r': 11, 'i': 12, 'c': 12, 'k': 12, 'd': 8, 'a': 3, 'o': 4, 'f': 5, 'l': 4, 's': 5, 'w': 1, 'h': 2}\n",
      "e is the most common letter with 33 occurances\n"
     ]
    }
   ],
   "source": [
    "rhyme = \"\"\"\n",
    "Peter piper picked a peck of pickled peppers;\n",
    "a peck of pickled peppers Peter picked;\n",
    "if Peter piper picked a peck of pickled peppers,\n",
    "where is the peck of pickled peppers Peter picked?\n",
    "\"\"\"\n",
    "rhyme = rhyme.replace(';', '')\n",
    "rhyme = rhyme.replace(',', '')\n",
    "rhyme = rhyme.replace('?', '')\n",
    "rhyme = rhyme.replace(' ', '')\n",
    "rhyme = rhyme.replace('\\n', '')\n",
    "rhyme = rhyme.lower()\n",
    "frequency = {}\n",
    "\n",
    "for char in rhyme:\n",
    "    if char in frequency:\n",
    "        frequency[char] += 1\n",
    "    else:\n",
    "        frequency[char] = 1\n",
    "mostCommon = \"\"\n",
    "maxLetterCount = 0\n",
    "\n",
    "for char, freq in frequency.items():\n",
    "    if freq > maxLetterCount:\n",
    "        maxLetterCount = freq\n",
    "        mostCommon = char\n",
    "print(frequency)\n",
    "print (mostCommon, \"is the most common letter with\", maxLetterCount, \"occurances\")"
   ]
  },
  {
   "cell_type": "markdown",
   "metadata": {},
   "source": [
    "<span style=\"color:blue\">Expected Output:</span><br /><br />\n",
    "<span style=\"font: courier; font-size: 13px\">\n",
    "{'p': 32, 'e': 33, 't': 5, 'r': 11, 'i': 12, 'c': 12, 'k': 12, 'd': 8, 'a': 3, 'o': 4, 'f': 5, 'l': 4, 's': 5, 'w': 1, 'h': 2}<br />\n",
    "e is the most common letter with 33 occurrences</span>"
   ]
  },
  {
   "cell_type": "markdown",
   "metadata": {},
   "source": [
    "### Problem 6\n",
    "\n",
    "Make a dictionary named `vowelFrequency` where the keys are the letters in the `vowels` list, and the values are the number of occurrences for each respective vowel in the string `sentence`. \n",
    "\n",
    "Using `vowelFrequency` and an accumulation pattern, determine the most common vowel and assign the result to the variable `commonVowel`.\n",
    "\n",
    "Print the variable `commonVowel` and the `vowelFrequency` dictionary as shown below."
   ]
  },
  {
   "cell_type": "code",
   "execution_count": 173,
   "metadata": {},
   "outputs": [
    {
     "name": "stdout",
     "output_type": "stream",
     "text": [
      "{'i': 11, 'e': 8, 'a': 7, 'o': 5, 'u': 3}\n",
      "The most common vowel is i\n"
     ]
    }
   ],
   "source": [
    "vowels = ['a','e','i','o','u']\n",
    "sentence = \"singing in the rain and playing in the rain are two entirely different situations but both can be good fun\"\n",
    "vowelFrequency = {'i': 0, 'e': 0, 'a': 0, 'o': 0, 'u': 0}\n",
    "commonVowel = \"a\"\n",
    "\n",
    "for char in sentence:\n",
    "    if char in vowels:\n",
    "        vowelFrequency[char] += 1\n",
    "commonVowel = max(vowelFrequency, key = vowelFrequency.get)\n",
    "print(vowelFrequency)\n",
    "print('The most common vowel is', commonVowel)\n"
   ]
  },
  {
   "cell_type": "markdown",
   "metadata": {},
   "source": [
    "<span style=\"color:blue\">Expected Output:</span><br />\n",
    "<span style=\"font: courier; font-size: 13px\">\n",
    "{'i': 11, 'e': 8, 'a': 7, 'o': 5, 'u': 3}<br />\n",
    "The most common vowel is i</span>"
   ]
  },
  {
   "cell_type": "markdown",
   "metadata": {},
   "source": [
    "### <span style=\"color:red\">Run this cell before attempting the following problems.</span>"
   ]
  },
  {
   "cell_type": "code",
   "execution_count": 120,
   "metadata": {},
   "outputs": [],
   "source": [
    "janTemps = \"\"\"2016,   6, 51\n",
    "        2015,  -3, 41\n",
    "        2014, -14, 43\n",
    "        2013,  -3, 60\n",
    "        2012,   2, 55\n",
    "        2011,   1, 52\n",
    "        2010,   3, 47\n",
    "        2009, -10, 39\n",
    "        2008,   3, 62\n",
    "        2007,   5, 50\n",
    "        2006,  18, 53\n",
    "        2005,  -3, 56\n",
    "        2004,  -6, 55\n",
    "        2003,  -5, 47\n",
    "        2002,  11, 55\n",
    "        2001,   1, 43\n",
    "        2000,  -2, 56\"\"\""
   ]
  },
  {
   "cell_type": "markdown",
   "metadata": {},
   "source": [
    "### Problem 7\n",
    "\n",
    "The string `janTemps` contains January temperature information for Ann Arbor for the years 2000 to 2016. This string is formatted such that it consists of multiple lines.  Each line is composed of three “columns” separated by commas. The columns are:\n",
    "\n",
    "1. Year\n",
    "2. Lowest temperature\n",
    "3. Highest temperature\n",
    "\n",
    "Write code that will create two dictionaries: `janLows`, which maps the year to the lowest temperature, and `janHighs`, which maps the year to the highest temperature. The key for each dictionary is the year and the values are the associated temperatures.\n",
    "\n",
    "In `janTemps`, each year's data is separated by a new-line `\\n` character. If you first use **`.split('\\n')`** to split `janTemps` the result will be a list of strings where each element holds all three columns (i.e. a single line).\n",
    "\n",
    "Then, use **`.split(',')`** to split each element into a list containing the three separate column values.\n",
    "\n",
    "Use `int()` to cast the year, low temperature, and high temperature to integers.\n",
    "\n",
    "Finally, print `janLows` and `janHighs`."
   ]
  },
  {
   "cell_type": "code",
   "execution_count": 172,
   "metadata": {},
   "outputs": [
    {
     "name": "stdout",
     "output_type": "stream",
     "text": [
      "January low temperatures: \n",
      " {2016: 6, 2015: -3, 2014: -14, 2013: -3, 2012: 2, 2011: 1, 2010: 3, 2009: -10, 2008: 3, 2007: 5, 2006: 18, 2005: -3, 2004: -6, 2003: -5, 2002: 11, 2001: 1, 2000: -2}\n",
      "January high temperatatures: \n",
      " {2016: 51, 2015: 41, 2014: 43, 2013: 60, 2012: 55, 2011: 52, 2010: 47, 2009: 39, 2008: 62, 2007: 50, 2006: 53, 2005: 56, 2004: 55, 2003: 47, 2002: 55, 2001: 43, 2000: 56}\n"
     ]
    }
   ],
   "source": [
    "temp = janTemps.split(\"\\n\")\n",
    "\n",
    "janLows = {}\n",
    "janHighs = {}\n",
    "\n",
    "for line in temp:\n",
    "    data = line.split(',')\n",
    "    janLows[int(data[0])] = int(data[1])\n",
    "    janHighs[int(data[0])] = int(data[2])\n",
    "\n",
    "print(\"January low temperatures: \\n\", janLows)\n",
    "print(\"January high temperatatures: \\n\", janHighs)"
   ]
  },
  {
   "cell_type": "markdown",
   "metadata": {},
   "source": [
    "<span style=\"color:blue\">Expected Output:</span><br />\n",
    "<span style=\"font: courier; font-size: 13px\">\n",
    "January low temperatures:<br />\n",
    "{2016: 6, 2015: -3, 2014: -14, 2013: -3, 2012: 2, 2011: 1, 2010: 3, 2009: -10, 2008: 3, 2007: 5, 2006: 18, 2005: -3, 2004: -6, 2003: -5, 2002: 11, 2001: 1, 2000: -2}<br />\n",
    "January high temperatatures:<br />\n",
    "{2016: 51, 2015: 41, 2014: 43, 2013: 60, 2012: 55, 2011: 52, 2010: 47, 2009: 39, 2008: 62, 2007: 50, 2006: 53, 2005: 56, 2004: 55, 2003: 47, 2002: 55, 2001: 43, 2000: 56}</span>"
   ]
  },
  {
   "cell_type": "markdown",
   "metadata": {},
   "source": [
    "### Problem 8\n",
    "\n",
    "Use the string `janTemps` to determine the year with the largest difference between the lowest and highest temperature. Store the year as an integer in the variable `maxTempDiffYear` and temperature difference is the variable `maxTempDiff`.  \n",
    "\n",
    "You need to use much of the code from the previous problem to parse each line in `janTemps` into the three values: year, lowest temperature, and highest temperature.\n",
    "\n",
    "Write additional code to calculate the temperature difference and use a max accumulation pattern to determine the year with the largest temperature difference.\n",
    "\n",
    "Print `maxTempDiffYear`  and `maxTempDiff` as shown below."
   ]
  },
  {
   "cell_type": "code",
   "execution_count": 171,
   "metadata": {},
   "outputs": [
    {
     "name": "stdout",
     "output_type": "stream",
     "text": [
      "In January of 2013 the difference between high and low temperatures was 63\n"
     ]
    }
   ],
   "source": [
    "temp = janTemps.split(\"\\n\")\n",
    "maxTempDiffYear = 2013\n",
    "maxTempDiff = janHighs[maxTempDiffYear] - janLows[maxTempDiffYear]\n",
    "\n",
    "for line in temp:\n",
    "        data = line.split(',')\n",
    "        data = tuple(data)\n",
    "        janLows[int(data[0])] = int(data[1])\n",
    "        janHighs[int(data[0])] = int(data[2])\n",
    "    \n",
    "print(\"In January of\" , maxTempDiffYear , \"the difference between high and low temperatures was\" , maxTempDiff)"
   ]
  },
  {
   "cell_type": "markdown",
   "metadata": {},
   "source": [
    "<span style=\"color:blue\">Expected Output:</span><br />\n",
    "<span style=\"font: courier; font-size: 13px\">\n",
    "In January of 2013 the difference between high and low temperatures was 63</span>"
   ]
  },
  {
   "cell_type": "markdown",
   "metadata": {},
   "source": [
    "### Problem 9\n",
    "\n",
    "The **text** file **Unit04_wnvhumancases.txt** contains data on West Nile virus infections in the United States from 2006 through 2018. Each record (i.e. line) in the file has four columns (i.e. values) separated by a comma.\n",
    "\n",
    "    Column 1:  Year (reported)\n",
    "    Column 2:  Week (week reported)\n",
    "    Column 3:  County\n",
    "    Column 4:  Cases (number of cases reported)\n",
    "\n",
    "Read the file and use an accumulation pattern to count the number of records and the number of cases. Assign number of records to the variable `numRecs`, and the total number of cases to the variable `numCases`. Be sure to close the file after processing the data.\n",
    "\n",
    "Hint:  Since this is a text file, each line is a string. You will need to split the line into a list.\n",
    "\n",
    "It's easiest to place Unit04_wnvhumancases.txt in the same directory as your notebook file. Otherwise, you may get a \"file not found\" error.\n",
    "\n",
    "Print the `numRecs` and `numCases` as shown below."
   ]
  },
  {
   "cell_type": "code",
   "execution_count": 186,
   "metadata": {},
   "outputs": [
    {
     "name": "stdout",
     "output_type": "stream",
     "text": [
      "Total number of records: 1789\n",
      "Total number of cases: 4993\n"
     ]
    }
   ],
   "source": [
    "fileName =\"Unit04_wnvhumancases.txt\"\n",
    "f = open(fileName,\"r\")\n",
    "\n",
    "numRecs = 0\n",
    "numCases = 0\n",
    "\n",
    "for line in f:\n",
    "    items = line.split(\",\")\n",
    "    numRecs += 1\n",
    "    numCases += int(items[3])\n",
    "    \n",
    "print(\"Total number of records:\", numRecs)\n",
    "print(\"Total number of cases:\", numCases)\n",
    "file.close()"
   ]
  },
  {
   "cell_type": "markdown",
   "metadata": {},
   "source": [
    "<span style=\"color:blue\">Expected Output:</span><br />\n",
    "Total number of records: 1789<br />\n",
    "Total number of cases: 4993</span>"
   ]
  },
  {
   "cell_type": "markdown",
   "metadata": {},
   "source": [
    "### Problem 10\n",
    "\n",
    "The **csv** file **Unit04_wnvhumancases.csv** is identical to the text file used in the previous problem, with the exception that it contains a header line that defines the field names.\n",
    "\n",
    "    Column 1:  Year (reported)\n",
    "    Column 2:  Week (week reported)\n",
    "    Column 3:  County\n",
    "    Column 4:  Cases (number of cases reported)\n",
    "\n",
    "Use the **csv** module's **`reader()`** function to iterate through the lines of the file. Use an accumulation pattern to provide a count of the number of records (i.e. lines) in the file in the variable `numRows`, and the total number of incidents (i.e. total of all Cases) in the variable `numIncidents`.\n",
    "\n",
    "You also need to identify: \n",
    "* the county with the **highest** number of incidents (assigned to variable `maxCounty`) along with its year (assigned to `maxCountyYear`) and number of incidents (assigned to `maxCountyIncidents`)\n",
    "* the county with the **lowest** number of incidents (assigned to variable `minCounty`) along with its year (assigned to `minCountyYear`) and number of incidents (assigned to `minCountyIncidents`)\n",
    "\n",
    "Be sure to cast all number variables (i.e. `maxCountyYear` `maxCountyIncidents` `minCountyYear` `minCountyIncidents`) to integer.\n",
    "\n",
    "Print the information you've gathered as shown below."
   ]
  },
  {
   "cell_type": "code",
   "execution_count": 187,
   "metadata": {},
   "outputs": [
    {
     "name": "stdout",
     "output_type": "stream",
     "text": [
      "Total cases: 1789\n",
      "Total incidents: 4993\n",
      "The county with the largest number of cases is Los Angeles with 40 incidents reported in the year 2017\n",
      "The county with the smallest number of cases is Alameda with 1 incidents reported in the year 2006\n"
     ]
    }
   ],
   "source": [
    "import csv\n",
    "\n",
    "of =\"{0:<14}{1:7}{2:14}{3:10}\"\n",
    "numRows = 0\n",
    "numIncidents = 0\n",
    "\n",
    "with open(\"Unit04_wnvhumancases.csv\",mode=\"r\") as infile:\n",
    "    reader = csv.reader(infile, delimiter = \",\", quotechar = '\"')\n",
    "    field_names = next(reader)\n",
    "    output = of.format(field_names[0],field_names[1],field_names[2],field_names[3])\n",
    "    maxCounty = \" \"\n",
    "    masCountyYear = \" \"\n",
    "    maxCountyIncidents = 0\n",
    "    minCounty = \" \"\n",
    "    minCountyYear = \" \"\n",
    "    minCountyIncidents = 100\n",
    "    \n",
    "    for row in reader:\n",
    "        numRows += 1\n",
    "        numIncidents += int(row[3])\n",
    "        \n",
    "        if int(row[3]) > int(maxCountyIncidents):\n",
    "            maxCountyIncidents = int(row[3])\n",
    "            maxCounty = row[2]\n",
    "            maxCountyYear = row[0]\n",
    "            \n",
    "        if int(row[3]) < int(minCountyIncidents):\n",
    "            minCountyIncidents = row[3]\n",
    "            minCounty = row[2]\n",
    "            minCountyYear = row[0]\n",
    "            \n",
    "infile.close()\n",
    "\n",
    "print(\"Total cases:\", numRows)\n",
    "print(\"Total incidents:\", numIncidents)\n",
    "print(\"The county with the largest number of cases is\", maxCounty,\"with\", maxCountyIncidents,\"incidents reported in the year\", maxCountyYear)\n",
    "print(\"The county with the smallest number of cases is\", minCounty,\"with\", minCountyIncidents,\"incidents reported in the year\", minCountyYear)"
   ]
  },
  {
   "cell_type": "markdown",
   "metadata": {},
   "source": [
    "<span style=\"color:blue\">Expected Output:</span><br />\n",
    "Total cases:              1789<br />\n",
    "Total incidents:          4993<br />\n",
    "The county with the largest number of cases is Los Angeles, with 40 incidents reported in the year 2017<br />\n",
    "The county with the smallest number of cases is Alameda, with 1 incidents reported in the year 2006</span>"
   ]
  },
  {
   "cell_type": "markdown",
   "metadata": {},
   "source": [
    "### <span style=\"color:dark green\">Run the cells below to test your code</span>"
   ]
  },
  {
   "cell_type": "code",
   "execution_count": null,
   "metadata": {},
   "outputs": [],
   "source": [
    "import unittest\n",
    "\n",
    "class PS04_01 (unittest.TestCase):\n",
    "    def test_problem01(self):\n",
    "        self.assertEqual(credits, 18)\n",
    "class PS04_02 (unittest.TestCase):\n",
    "    def test_problem02(self):\n",
    "        self.assertEqual(siFounded, 1996)\n",
    "class PS04_03 (unittest.TestCase):\n",
    "    def test_problem03(self):\n",
    "        self.assertTrue(type(newerSchools) is list) \n",
    "        self.assertEqual(len(newerSchools), 3)\n",
    "class PS04_04 (unittest.TestCase):\n",
    "    def test_problem04(self):\n",
    "        self.assertEqual(commonWord, 'he')\n",
    "        self.assertEqual(maxWordCount, 4)\n",
    "class PS04_05 (unittest.TestCase):\n",
    "    def test_problem05(self):\n",
    "        self.assertEqual(mostCommon, 'e')\n",
    "        self.assertEqual(maxLetterCount, 33)        \n",
    "class PS04_06 (unittest.TestCase):\n",
    "    def test_problem06(self):\n",
    "        self.assertEqual(commonVowel, 'i')\n",
    "        self.assertEqual(vowelFrequency['i'], 11)\n",
    "class PS04_07 (unittest.TestCase):\n",
    "    def test_problem07(self):\n",
    "        self.assertTrue(type(janLows) is dict) \n",
    "        self.assertTrue(type(janHighs) is dict) \n",
    "        self.assertEqual(janLows[2016], 6)\n",
    "        self.assertEqual(janHighs[2016], 51)\n",
    "class PS04_08 (unittest.TestCase):\n",
    "    def test_problem08(self):\n",
    "        self.assertEqual(maxTempDiffYear, 2013)\n",
    "        self.assertEqual(maxTempDiff, 63)\n",
    "class PS04_09 (unittest.TestCase):\n",
    "    def test_problem09(self):\n",
    "        self.assertEqual(numRecs, 1789)\n",
    "        self.assertEqual(numCases, 4993)\n",
    "class PS04_10 (unittest.TestCase):\n",
    "    def test_problem10(self):\n",
    "        self.assertEqual(numRows, 1789)\n",
    "        self.assertEqual(numIncidents, 4993)\n",
    "        self.assertEqual(maxCounty, 'Los Angeles')\n",
    "        self.assertEqual(maxCountyIncidents, 40)\n",
    "        self.assertEqual(maxCountyYear, 2017)     "
   ]
  },
  {
   "cell_type": "code",
   "execution_count": null,
   "metadata": {},
   "outputs": [],
   "source": [
    "unittest.main(argv=['first-arg-is-ignored'], exit=False, verbosity=2)"
   ]
  },
  {
   "cell_type": "code",
   "execution_count": null,
   "metadata": {},
   "outputs": [],
   "source": []
  }
 ],
 "metadata": {
  "kernelspec": {
   "display_name": "Python 3 (ipykernel)",
   "language": "python",
   "name": "python3"
  },
  "language_info": {
   "codemirror_mode": {
    "name": "ipython",
    "version": 3
   },
   "file_extension": ".py",
   "mimetype": "text/x-python",
   "name": "python",
   "nbconvert_exporter": "python",
   "pygments_lexer": "ipython3",
   "version": "3.9.6"
  }
 },
 "nbformat": 4,
 "nbformat_minor": 2
}
