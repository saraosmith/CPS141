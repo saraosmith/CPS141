{
 "cells": [
  {
   "cell_type": "markdown",
   "metadata": {},
   "source": [
    "## <span style=\"color:blue\">Problem Set 3</span>"
   ]
  },
  {
   "cell_type": "raw",
   "metadata": {},
   "source": [
    "<Sara Smith>"
   ]
  },
  {
   "cell_type": "markdown",
   "metadata": {},
   "source": [
    "1. If you **hard-code a solution you will 0 points** for the respective problem. You need to use code to arrive at a solution. \n",
    "2. **Use only syntax covered in the Learning Units to date.**  Using any other syntax results in 0 points for the problem."
   ]
  },
  {
   "cell_type": "markdown",
   "metadata": {},
   "source": [
    "### Problem 1\n",
    "\n",
    "In the cell below, write code that iterates over the string `myStr` and does the following:\n",
    "* print each character\n",
    "* count the number of characters and store the result the variable `cntChars`\n",
    "* print the variable `myStr` and `cntChars` with an appropriate label as shown below in Expected Output"
   ]
  },
  {
   "cell_type": "code",
   "execution_count": 20,
   "metadata": {},
   "outputs": [
    {
     "name": "stdout",
     "output_type": "stream",
     "text": [
      "M\n",
      "I\n",
      "C\n",
      "H\n",
      "I\n",
      "G\n",
      "A\n",
      "N\n",
      "The number of characters in MICHIGAN is 8\n"
     ]
    }
   ],
   "source": [
    "for myStr in \"MICHIGAN\":\n",
    "    print (myStr)\n",
    "myStr = 'MICHIGAN'\n",
    "cntChars = 0\n",
    "for ch in myStr:\n",
    "    cntChars = cntChars + 1\n",
    "print (\"The number of characters in MICHIGAN is\",(cntChars))\n",
    "\n"
   ]
  },
  {
   "cell_type": "markdown",
   "metadata": {},
   "source": [
    "Expected Output:\n",
    "```\n",
    "M\n",
    "I\n",
    "C\n",
    "H\n",
    "I\n",
    "G\n",
    "A\n",
    "N\n",
    "The number of characters in MICHIGAN is 8\n",
    "```"
   ]
  },
  {
   "cell_type": "markdown",
   "metadata": {},
   "source": [
    "### Problem 2\n",
    "\n",
    "In the cell below, write **one** loop that iterates over the list `mixedList` and does the following:\n",
    "* print each element along with the element's type\n",
    "* accumulatively count the number of elements and store the result in the variable `cntList`\n",
    "* print `cntList` preceded by an appropriate label as shown below"
   ]
  },
  {
   "cell_type": "code",
   "execution_count": 27,
   "metadata": {},
   "outputs": [
    {
     "name": "stdout",
     "output_type": "stream",
     "text": [
      "hello <class 'type'>\n",
      "2 <class 'type'>\n",
      "4 <class 'type'>\n",
      "6.0 <class 'type'>\n",
      "7.5 <class 'type'>\n",
      "234352354 <class 'type'>\n",
      "the end <class 'type'>\n",
      " <class 'type'>\n",
      "99 <class 'type'>\n",
      "<class 'type'> <class 'type'>\n",
      "<class 'tuple'> <class 'type'>\n",
      "<built-in function print> <class 'type'>\n",
      "The number of elements in the list is 12\n"
     ]
    }
   ],
   "source": [
    "mixedList = [\"hello\", 2, 4, 6.0, 7.5, 234352354, \n",
    "             \"the end\", \"\", 99, type, tuple, print]\n",
    "for amixedList in mixedList:\n",
    "    print(amixedList, type)\n",
    "cntList = 0\n",
    "for ch in mixedList:\n",
    "    cntList = cntList + 1\n",
    "print(\"The number of elements in the list is\", cntList)\n"
   ]
  },
  {
   "cell_type": "markdown",
   "metadata": {},
   "source": [
    "Expected Output:\n",
    "```\n",
    "hello <class 'str'>\n",
    "2 <class 'int'>\n",
    "4 <class 'int'>\n",
    "6.0 <class 'float'>\n",
    "7.5 <class 'float'>\n",
    "234352354 <class 'int'>\n",
    "the end <class 'str'>\n",
    " <class 'str'>\n",
    "99 <class 'int'>\n",
    "<class 'type'> <class 'type'>\n",
    "<class 'tuple'> <class 'type'>\n",
    "<built-in function print> <class 'builtin_function_or_method'>\n",
    "The number of elements in the list is 12\n",
    "```"
   ]
  },
  {
   "cell_type": "markdown",
   "metadata": {},
   "source": [
    "### Problem 3\n",
    "\n",
    "Write code that iterates over to the string `sentence` and does the following:\n",
    "* count the number of characters using the variable `numChars`\n",
    "* count the number of vowels using the variable `numVowels` (a character is a vowel if it  is included in the `vowels` tuple)\n",
    "* print the variables `numChars` and `numVowels` preceded by appropriate labels as shown below\n",
    "\n",
    "DO NOT use the built-in **`len()`** function to solve the problem. You may only use `len()` to confirm that your solution is correct."
   ]
  },
  {
   "cell_type": "code",
   "execution_count": 30,
   "metadata": {},
   "outputs": [
    {
     "name": "stdout",
     "output_type": "stream",
     "text": [
      "The number of characters is 57\n",
      "The number of vowels is 16\n"
     ]
    }
   ],
   "source": [
    "sentence = \"The quick brown rhino jumped over the extremely lazy fox.\"\n",
    "vowels = ('a','e','i','o','u')\n",
    "\n",
    "numChars = 0\n",
    "for ch in sentence:\n",
    "    numChars = numChars + 1\n",
    "print (\"The number of characters is\",(numChars))\n",
    "\n",
    "numVowels = 0\n",
    "for ch in sentence:\n",
    "    if ch in vowels:\n",
    "        numVowels = numVowels + 1\n",
    "print (\"The number of vowels is\",(numVowels))\n"
   ]
  },
  {
   "cell_type": "markdown",
   "metadata": {},
   "source": [
    "Expected Output:\n",
    "```\n",
    "The number of characters is 57\n",
    "The number of vowels is 16\n",
    "```"
   ]
  },
  {
   "cell_type": "markdown",
   "metadata": {},
   "source": [
    "### Problem 4\n",
    "\n",
    "Write code that does the following:\n",
    "1. Create a list called `words` from the words in the string `sentence`.\n",
    "2. Iterate over `words` and ...\n",
    "    1. Populate a list called `wordLens` with the length of each element in `words`.\n",
    "    2. Accumlatively count the number of words in `words` and store in the variable `numWords`.\n",
    "    3. Print each word along with its length.\n",
    "\n",
    "Use **one** loop to solve this problem. Make use of the built-in **`len()`** and **`split()`** functions.\n",
    "\n",
    "Print the `wordLens` and `numWords` as shown below."
   ]
  },
  {
   "cell_type": "code",
   "execution_count": 105,
   "metadata": {},
   "outputs": [
    {
     "name": "stdout",
     "output_type": "stream",
     "text": [
      "The 3\n",
      "quick 5\n",
      "brown 5\n",
      "rhino 5\n",
      "jumped 6\n",
      "over 4\n",
      "the 3\n",
      "extremely 9\n",
      "lazy 4\n",
      "fox 3\n",
      "Number of words is 10\n",
      "[3, 5, 5, 5, 6, 4, 3, 9, 4, 3]\n"
     ]
    }
   ],
   "source": [
    "sentence = \"The quick brown rhino jumped over the extremely lazy fox\"\n",
    "words = sentence.split (' ')\n",
    "numWords = len(words)\n",
    "for words in words:\n",
    "    print (words, len (words))\n",
    "print (\"Number of words is\", (numWords))\n",
    "\n",
    "sentence = \"The quick brown rhino jumped over the extremely lazy fox\"\n",
    "words =sentence.split()\n",
    "\n",
    "wordLen = []\n",
    "for i in words:\n",
    "    wordLen=wordLen+[len(i)]\n",
    "print(wordLen)\n"
   ]
  },
  {
   "cell_type": "markdown",
   "metadata": {},
   "source": [
    "Expected Output:\n",
    "```\n",
    "The 3\n",
    "quick 5\n",
    "brown 5\n",
    "rhino 5\n",
    "jumped 6\n",
    "over 4\n",
    "the 3\n",
    "extremely 9\n",
    "lazy 4\n",
    "fox 3\n",
    "Number of words is 10\n",
    "[3, 5, 5, 5, 6, 4, 3, 9, 4, 3]\n",
    "```"
   ]
  },
  {
   "cell_type": "markdown",
   "metadata": {},
   "source": [
    "### Problem 5\n",
    "\n",
    "The string `addStr` contains numbers separated by a plus sign character (i.e. `+`).\n",
    "\n",
    "Use an **accumulation pattern** to get the sum of all numbers in `addStr` and assign it to the variable `sumVal`. Print a line that contains `sumVal` and an appropriate label. \n",
    "\n",
    "Where appropriate, use the built-in **`split()`** function to split on `+`, and use **`int()`** to cast to an integer."
   ]
  },
  {
   "cell_type": "code",
   "execution_count": 40,
   "metadata": {},
   "outputs": [
    {
     "name": "stdout",
     "output_type": "stream",
     "text": [
      "The total of all numbers is 37\n"
     ]
    }
   ],
   "source": [
    "addStr = \"2+5+10+20\"\n",
    "accum = addStr.split('+')\n",
    "\n",
    "sumVal = 0\n",
    "for w in accum:\n",
    "    sumVal = sumVal + int(w)\n",
    "print(\"The total of all numbers is\", sumVal)\n"
   ]
  },
  {
   "cell_type": "markdown",
   "metadata": {},
   "source": [
    "Expected Output:</span><br/>\n",
    "```\n",
    "The total of all numbers is 37\n",
    "```"
   ]
  },
  {
   "cell_type": "markdown",
   "metadata": {},
   "source": [
    "### Problem 6\n",
    "\n",
    "The string `weekTemps` contains a comma-separated list of temperatures (in degrees Fahrenheit).\n",
    "\n",
    "Write code that computes the average temperature and assign it to the variable `avgTemp`.\n",
    "\n",
    "The average temperature is defined as the total of all temperatures divided by the number of temperatures.\n",
    "\n",
    "Do not hard-code your answer! This means that your code must compute both the total of all temperatures and the number of temperatures in `weekTemps`.\n",
    "\n",
    "Print the variable `avgTemp` preceded by an appropriate label.\n",
    "\n",
    "You need to use the built-in **`split()`** and **`float()`** functions, and **one** loop to solve this problem."
   ]
  },
  {
   "cell_type": "code",
   "execution_count": 2,
   "metadata": {},
   "outputs": [
    {
     "name": "stdout",
     "output_type": "stream",
     "text": [
      "The average temperature is 80.67142857142858\n"
     ]
    }
   ],
   "source": [
    "weekTemps = \"75.1,77.7,83.2,82.5,81.0,79.5,85.7\"\n",
    "avgTemp = weekTemps.split(',')\n",
    "\n",
    "accum = 0\n",
    "for w in avgTemp:\n",
    "    accum = accum + float(w)\n",
    "print(\"The average temperature is\", (accum/7))\n"
   ]
  },
  {
   "cell_type": "markdown",
   "metadata": {},
   "source": [
    "Expected Output:\n",
    "```\n",
    "The average temperature is 80.67142857142858\n",
    "```"
   ]
  },
  {
   "cell_type": "markdown",
   "metadata": {},
   "source": [
    "# Problem 7\n",
    "\n",
    "The variable `rainfallMI` is a string that contains numbers that are separated by commas. Each number represents the monthly average rainfall (in inches) for Michigan.\n",
    "\n",
    "Write code that does the following:\n",
    "1. Compute the number of months that have more than 3 inches of rainfall. Store the result in the variable `numRainyMonths`.\n",
    "2. Compute the total rainfall for all months.  Store the result in the variable `totRainfall`.\n",
    "3. Print the variables `numRainyMonths` and `totRainfall` with the appropriate label as shown below."
   ]
  },
  {
   "cell_type": "code",
   "execution_count": 50,
   "metadata": {
    "scrolled": true
   },
   "outputs": [
    {
     "name": "stdout",
     "output_type": "stream",
     "text": [
      "Number of months with more than 3 inches of rain is 5\n",
      "Total rainfall for all months is 31.73\n"
     ]
    }
   ],
   "source": [
    "rainfallMI = \"1.65, 1.46, 2.05, 3.03, 3.35, 3.46, 2.83, 3.23, 3.5, 2.52, 2.8, 1.85\"\n",
    "totRainfall = rainfallMI.split(',')\n",
    "\n",
    "rainfallMI_split = rainfallMI.split(\",\")\n",
    "numRainyMonths = 0\n",
    "for x in totRainfall:\n",
    "    x = float(x)\n",
    "    if x > 3.0:\n",
    "        numRainyMonths += 1\n",
    "print(\"Number of months with more than 3 inches of rain is\", numRainyMonths)\n",
    "\n",
    "accum = 0\n",
    "numRainyMonths = 0\n",
    "for w in totRainfall:\n",
    "    accum = accum + float(w)\n",
    "print(\"Total rainfall for all months is\", accum)\n"
   ]
  },
  {
   "cell_type": "markdown",
   "metadata": {},
   "source": [
    "Expected Output:\n",
    "```\n",
    "Number of months with more than 3 inches of rain is 5\n",
    "Total rainfall for all months is 31.73\n",
    "```"
   ]
  },
  {
   "cell_type": "markdown",
   "metadata": {},
   "source": [
    "### Problem 8\n",
    "\n",
    "The variable `sentence` holds a string of words. Write code that does the following:\n",
    "1. Compute the number of words that begin and end with the same letter. This includes one-letter words. Store the result in the variable `sameLetterCount`.\n",
    "2. Compute the number of words that contain an \"f\" or a \"k\".  Store the result in the variable `fkCount`.\n",
    "3. Print the variables `sameLetterCount` and `fkCount` as shown below. \n",
    "\n",
    "You'll need to use the built-in **`split()`** function, the **`in`** operator to test for the existence of \"f\" or \"k\", and the **`or`** operator to join the logical expressions when testing for the existence of the letters. "
   ]
  },
  {
   "cell_type": "code",
   "execution_count": 6,
   "metadata": {},
   "outputs": [
    {
     "name": "stdout",
     "output_type": "stream",
     "text": [
      "The number of words that begin and end with the same letter is 2\n",
      "The number of words that contain f or k is 4\n"
     ]
    }
   ],
   "source": [
    "sentence = \"students flock to the arb for a variety of outdoor activities such as jogging and picnicking\"\n",
    "\n",
    "sameLetterCount = 0\n",
    "fkCount = 0\n",
    "for d in sentence_split:\n",
    "    if d[0] == d[-1]:\n",
    "        sameLetterCount += 1\n",
    "print(\"The number of words that begin and end with the same letter is\", sameLetterCount)\n",
    "for s in sentence.split():\n",
    "    if ('f' in s or 'k' in s):\n",
    "        fkCount += 1\n",
    "print (\"The number of words that contain f or k is\", fkCount)"
   ]
  },
  {
   "cell_type": "markdown",
   "metadata": {},
   "source": [
    "Expected Output:\n",
    "```\n",
    "The number of words that begin and end with the same letter is 2\n",
    "The number of words that contain f or k is 4\n",
    "```"
   ]
  },
  {
   "cell_type": "markdown",
   "metadata": {},
   "source": [
    "### Problem 9\n",
    "\n",
    "Write code that does the following:\n",
    "1. Compute the number of words in variable `sentence` that contain either an \"p\" or an \"g\". Store the result in the variable `numPorG`.\n",
    "2. Create a string `strPorG` composed of those words in `sentence` that contain an \"p\" or \"g\". Each word in `strPorG` must be separated by a comma.\n",
    "3. Print the variables `numPorG` and `strPorG` as shown below.\n",
    "\n",
    "Be careful not to double-count words that contain both `p` and `g`. Use the **in** operator to test for existence of the letters."
   ]
  },
  {
   "cell_type": "code",
   "execution_count": 11,
   "metadata": {},
   "outputs": [
    {
     "name": "stdout",
     "output_type": "stream",
     "text": [
      "Number of words containing p or g is 8\n",
      "Those words are python,high,general,purpose,programming,language,applied,problems\n"
     ]
    }
   ],
   "source": [
    "sentence = \"python is a high level general purpose programming language that can be applied to many different classes of problems\"\n",
    "\n",
    "numPorG = 0\n",
    "strPorG = \"\"\n",
    "for s in sentence.split():\n",
    "    if('p' in s or 'g' in s):\n",
    "        numPorG += 1 \n",
    "        strPorG += s + ','\n",
    "print('Number of words containing p or g is', numPorG)\n",
    "print('Those words are '+strPorG[:-1])\n",
    " "
   ]
  },
  {
   "cell_type": "markdown",
   "metadata": {},
   "source": [
    "Expected Output:\n",
    "```\n",
    "Number of words containing p or g is 8\n",
    "Those words are python,high,general,purpose,programming,language,applied,problems\n",
    "```"
   ]
  },
  {
   "cell_type": "markdown",
   "metadata": {},
   "source": [
    "### Problem 10\n",
    "\n",
    "Write code that iterates over the list `months` and does the following:\n",
    "1. Display elements from the list `months` and `rainfallMI` as a two column table as shown below.\n",
    "2. Find the month with the highest rainfall and store its rainfall and month in variables named `maxRain` and `maxMonth`, respectively.\n",
    "2. Find the month with the lowest rainfall and store its rainfall and month in variables named `minRain` and `minMonth`, respectively.\n",
    "4. Calculate the total rainfall for the year and store the result in `totRain`.\n",
    "5. Display variables in a manner that matches \"Expected Output\".\n",
    "\n",
    "In the table, the \"Month\" column must be **left-justified** and \"Rainfall\" column must be **right-justified** though the use of string formatting.\n",
    "\n",
    "Since you can only iterate over one sequence at a time, you will need to use an index to access items from the list `rainfallMI` as you iterate over the `months`, or vice versa. \n",
    "\n",
    "Finally, you must use only **one** for loop and only use syntax covered in the Learning Units to date."
   ]
  },
  {
   "cell_type": "code",
   "execution_count": 106,
   "metadata": {},
   "outputs": [
    {
     "name": "stdout",
     "output_type": "stream",
     "text": [
      "Month \t Rainfall\n",
      "Jan \t 1.65\n",
      "Feb \t  1.46\n",
      "Mar \t  2.05\n",
      "Apr \t  3.03\n",
      "May \t  3.35\n",
      "Jun \t  3.46\n",
      "Jul \t  2.83\n",
      "Aug \t  3.23\n",
      "Sep \t  3.50\n",
      "Oct \t  2.52\n",
      "Nov \t  2.8\n",
      "Dec \t  1.85\n",
      "The month with the largest rainfall is Sep with a rainfall of 3.5\n",
      "The month with the lowest rainfall is Feb with a rainfall of 1.46\n",
      "The annual rainfall is  31.73\n"
     ]
    }
   ],
   "source": [
    "rainfallMI = ['1.65', ' 1.46', ' 2.05', ' 3.03', ' 3.35', ' 3.46', ' 2.83', ' 3.23',\n",
    "               ' 3.50', ' 2.52', ' 2.8', ' 1.85']\n",
    "months = ['Jan','Feb','Mar','Apr','May','Jun','Jul','Aug','Sep','Oct','Nov','Dec']\n",
    "\n",
    "maxRain = 0\n",
    "minRain = 9999999\n",
    "maxMonth = ''\n",
    "minMonth = ''\n",
    "totRain = 0\n",
    "print (\"Month \\t Rainfall\")\n",
    "for i in range (len(months)):\n",
    "    print (months[i], \"\\t\", rainfallMI[i])\n",
    "    if eval (rainfallMI[i]) > maxRain:\n",
    "        maxRain = eval (rainfallMI[i])\n",
    "        maxMonth = months [i]\n",
    "    if eval (rainfallMI[i]) < minRain:\n",
    "        minRain = eval (rainfallMI[i])\n",
    "        minMonth = months[i]\n",
    "    totRain += eval(rainfallMI[i])\n",
    "print(\"The month with the largest rainfall is\", maxMonth,\"with a rainfall of\", maxRain)\n",
    "print(\"The month with the lowest rainfall is\", minMonth, \"with a rainfall of\", minRain)\n",
    "print(\"The annual rainfall is \", totRain)"
   ]
  },
  {
   "cell_type": "markdown",
   "metadata": {},
   "source": [
    "Expected Output:\n",
    "```\n",
    "Month   Rainfall\n",
    "Jan         1.65\n",
    "Feb         1.46\n",
    "Mar         2.05\n",
    "Apr         3.03\n",
    "May         3.35\n",
    "Jun         3.46\n",
    "Jul         2.83\n",
    "Aug         3.23\n",
    "Sep         3.50\n",
    "Oct         2.52\n",
    "Nov         2.80\n",
    "Dec         1.85\n",
    "The month with the largest rainfall is Sep with a rainfall of 3.50\n",
    "The month with the lowest rainfall is Feb with a rainfall of 1.46\n",
    "The annual rainfall is 31.73\n",
    "```"
   ]
  },
  {
   "cell_type": "markdown",
   "metadata": {},
   "source": [
    "### <span style=\"color:dark green\">Run the cells below to test your code</span>"
   ]
  },
  {
   "cell_type": "code",
   "execution_count": 7,
   "metadata": {},
   "outputs": [],
   "source": [
    "import unittest\n",
    "\n",
    "class PS03_01 (unittest.TestCase):\n",
    "    def test_problem01(self):\n",
    "        self.assertEqual(cntChars, 8)\n",
    "class PS03_02 (unittest.TestCase):\n",
    "    def test_problem02(self):\n",
    "        self.assertEqual(cntList, 12)\n",
    "class PS03_03 (unittest.TestCase):\n",
    "    def test_problem03(self):\n",
    "        self.assertEqual(numChars, 57)\n",
    "        self.assertEqual(numVowels, 16)\n",
    "class PS03_04 (unittest.TestCase):\n",
    "    def test_problem04(self):\n",
    "        self.assertEqual(numWords, 10)\n",
    "        self.assertEqual(sum(wordLens), 47)\n",
    "class PS03_05 (unittest.TestCase):\n",
    "    def test_problem05(self):\n",
    "        self.assertEqual(sumVal, 37)\n",
    "class PS03_06 (unittest.TestCase):\n",
    "    def test_problem06(self):\n",
    "        self.assertEqual(round(avgTemp), 81)\n",
    "class PS03_07 (unittest.TestCase):\n",
    "    def test_problem07(self):\n",
    "        self.assertEqual(numRainyMonths, 5)\n",
    "        self.assertEqual(round(totRainfall), 32)\n",
    "class PS03_08 (unittest.TestCase):\n",
    "    def test_problem08(self):\n",
    "        self.assertEqual(sameLetterCount, 2)\n",
    "        self.assertEqual(fkCount, 4)\n",
    "class PS03_09 (unittest.TestCase):\n",
    "    def test_problem09(self):\n",
    "        self.assertEqual(numPorG, 8)\n",
    "        self.assertEqual(len(strPorG.split(',')), 8)\n",
    "class PS03_10 (unittest.TestCase):\n",
    "    def test_problem10(self):\n",
    "        self.assertEqual(maxRain, 3.50)\n",
    "        self.assertEqual(maxMonth, 'Sep')\n",
    "        self.assertEqual(minRain, 1.46)\n",
    "        self.assertEqual(minMonth, 'Feb')\n",
    "        self.assertEqual(totRain, 31.73)"
   ]
  },
  {
   "cell_type": "code",
   "execution_count": null,
   "metadata": {},
   "outputs": [],
   "source": [
    "unittest.main(argv=['first-arg-is-ignored'], exit=False, verbosity=2)"
   ]
  },
  {
   "cell_type": "code",
   "execution_count": null,
   "metadata": {},
   "outputs": [],
   "source": []
  }
 ],
 "metadata": {
  "kernelspec": {
   "display_name": "Python 3 (ipykernel)",
   "language": "python",
   "name": "python3"
  },
  "language_info": {
   "codemirror_mode": {
    "name": "ipython",
    "version": 3
   },
   "file_extension": ".py",
   "mimetype": "text/x-python",
   "name": "python",
   "nbconvert_exporter": "python",
   "pygments_lexer": "ipython3",
   "version": "3.9.6"
  }
 },
 "nbformat": 4,
 "nbformat_minor": 4
}
